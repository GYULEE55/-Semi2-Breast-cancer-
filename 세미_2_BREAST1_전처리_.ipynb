{
  "nbformat": 4,
  "nbformat_minor": 0,
  "metadata": {
    "colab": {
      "provenance": [],
      "toc_visible": true
    },
    "kernelspec": {
      "name": "python3",
      "display_name": "Python 3"
    },
    "language_info": {
      "name": "python"
    },
    "widgets": {
      "application/vnd.jupyter.widget-state+json": {
        "420b61dc4315495c8991cb03547501ea": {
          "model_module": "@jupyter-widgets/controls",
          "model_name": "HBoxModel",
          "model_module_version": "1.5.0",
          "state": {
            "_dom_classes": [],
            "_model_module": "@jupyter-widgets/controls",
            "_model_module_version": "1.5.0",
            "_model_name": "HBoxModel",
            "_view_count": null,
            "_view_module": "@jupyter-widgets/controls",
            "_view_module_version": "1.5.0",
            "_view_name": "HBoxView",
            "box_style": "",
            "children": [
              "IPY_MODEL_99aeb8d12eb749599fa9e155b8bd6982",
              "IPY_MODEL_001ce152beda4b7ea8ed2b72f60ef2ca",
              "IPY_MODEL_554b1e827615429097083abad7062867"
            ],
            "layout": "IPY_MODEL_d2b97a541cc9412784ac79c91fbfdf2f"
          }
        },
        "99aeb8d12eb749599fa9e155b8bd6982": {
          "model_module": "@jupyter-widgets/controls",
          "model_name": "HTMLModel",
          "model_module_version": "1.5.0",
          "state": {
            "_dom_classes": [],
            "_model_module": "@jupyter-widgets/controls",
            "_model_module_version": "1.5.0",
            "_model_name": "HTMLModel",
            "_view_count": null,
            "_view_module": "@jupyter-widgets/controls",
            "_view_module_version": "1.5.0",
            "_view_name": "HTMLView",
            "description": "",
            "description_tooltip": null,
            "layout": "IPY_MODEL_23e9ad17a84e466f8f435a1483920605",
            "placeholder": "​",
            "style": "IPY_MODEL_1abb018fc17c4145867b7c07a66989a5",
            "value": "Summarize dataset: 100%"
          }
        },
        "001ce152beda4b7ea8ed2b72f60ef2ca": {
          "model_module": "@jupyter-widgets/controls",
          "model_name": "FloatProgressModel",
          "model_module_version": "1.5.0",
          "state": {
            "_dom_classes": [],
            "_model_module": "@jupyter-widgets/controls",
            "_model_module_version": "1.5.0",
            "_model_name": "FloatProgressModel",
            "_view_count": null,
            "_view_module": "@jupyter-widgets/controls",
            "_view_module_version": "1.5.0",
            "_view_name": "ProgressView",
            "bar_style": "success",
            "description": "",
            "description_tooltip": null,
            "layout": "IPY_MODEL_da3b9a21480f412f870aa866b0e18b90",
            "max": 5,
            "min": 0,
            "orientation": "horizontal",
            "style": "IPY_MODEL_db52902952d54fa8afc22259580d3e53",
            "value": 5
          }
        },
        "554b1e827615429097083abad7062867": {
          "model_module": "@jupyter-widgets/controls",
          "model_name": "HTMLModel",
          "model_module_version": "1.5.0",
          "state": {
            "_dom_classes": [],
            "_model_module": "@jupyter-widgets/controls",
            "_model_module_version": "1.5.0",
            "_model_name": "HTMLModel",
            "_view_count": null,
            "_view_module": "@jupyter-widgets/controls",
            "_view_module_version": "1.5.0",
            "_view_name": "HTMLView",
            "description": "",
            "description_tooltip": null,
            "layout": "IPY_MODEL_7f57c23e95d340c19c7fa855bdf12efe",
            "placeholder": "​",
            "style": "IPY_MODEL_927226c6b9184a12a0cfd428d22f3a48",
            "value": " 37/37 [00:41&lt;00:00,  1.29it/s, Completed]"
          }
        },
        "d2b97a541cc9412784ac79c91fbfdf2f": {
          "model_module": "@jupyter-widgets/base",
          "model_name": "LayoutModel",
          "model_module_version": "1.2.0",
          "state": {
            "_model_module": "@jupyter-widgets/base",
            "_model_module_version": "1.2.0",
            "_model_name": "LayoutModel",
            "_view_count": null,
            "_view_module": "@jupyter-widgets/base",
            "_view_module_version": "1.2.0",
            "_view_name": "LayoutView",
            "align_content": null,
            "align_items": null,
            "align_self": null,
            "border": null,
            "bottom": null,
            "display": null,
            "flex": null,
            "flex_flow": null,
            "grid_area": null,
            "grid_auto_columns": null,
            "grid_auto_flow": null,
            "grid_auto_rows": null,
            "grid_column": null,
            "grid_gap": null,
            "grid_row": null,
            "grid_template_areas": null,
            "grid_template_columns": null,
            "grid_template_rows": null,
            "height": null,
            "justify_content": null,
            "justify_items": null,
            "left": null,
            "margin": null,
            "max_height": null,
            "max_width": null,
            "min_height": null,
            "min_width": null,
            "object_fit": null,
            "object_position": null,
            "order": null,
            "overflow": null,
            "overflow_x": null,
            "overflow_y": null,
            "padding": null,
            "right": null,
            "top": null,
            "visibility": null,
            "width": null
          }
        },
        "23e9ad17a84e466f8f435a1483920605": {
          "model_module": "@jupyter-widgets/base",
          "model_name": "LayoutModel",
          "model_module_version": "1.2.0",
          "state": {
            "_model_module": "@jupyter-widgets/base",
            "_model_module_version": "1.2.0",
            "_model_name": "LayoutModel",
            "_view_count": null,
            "_view_module": "@jupyter-widgets/base",
            "_view_module_version": "1.2.0",
            "_view_name": "LayoutView",
            "align_content": null,
            "align_items": null,
            "align_self": null,
            "border": null,
            "bottom": null,
            "display": null,
            "flex": null,
            "flex_flow": null,
            "grid_area": null,
            "grid_auto_columns": null,
            "grid_auto_flow": null,
            "grid_auto_rows": null,
            "grid_column": null,
            "grid_gap": null,
            "grid_row": null,
            "grid_template_areas": null,
            "grid_template_columns": null,
            "grid_template_rows": null,
            "height": null,
            "justify_content": null,
            "justify_items": null,
            "left": null,
            "margin": null,
            "max_height": null,
            "max_width": null,
            "min_height": null,
            "min_width": null,
            "object_fit": null,
            "object_position": null,
            "order": null,
            "overflow": null,
            "overflow_x": null,
            "overflow_y": null,
            "padding": null,
            "right": null,
            "top": null,
            "visibility": null,
            "width": null
          }
        },
        "1abb018fc17c4145867b7c07a66989a5": {
          "model_module": "@jupyter-widgets/controls",
          "model_name": "DescriptionStyleModel",
          "model_module_version": "1.5.0",
          "state": {
            "_model_module": "@jupyter-widgets/controls",
            "_model_module_version": "1.5.0",
            "_model_name": "DescriptionStyleModel",
            "_view_count": null,
            "_view_module": "@jupyter-widgets/base",
            "_view_module_version": "1.2.0",
            "_view_name": "StyleView",
            "description_width": ""
          }
        },
        "da3b9a21480f412f870aa866b0e18b90": {
          "model_module": "@jupyter-widgets/base",
          "model_name": "LayoutModel",
          "model_module_version": "1.2.0",
          "state": {
            "_model_module": "@jupyter-widgets/base",
            "_model_module_version": "1.2.0",
            "_model_name": "LayoutModel",
            "_view_count": null,
            "_view_module": "@jupyter-widgets/base",
            "_view_module_version": "1.2.0",
            "_view_name": "LayoutView",
            "align_content": null,
            "align_items": null,
            "align_self": null,
            "border": null,
            "bottom": null,
            "display": null,
            "flex": null,
            "flex_flow": null,
            "grid_area": null,
            "grid_auto_columns": null,
            "grid_auto_flow": null,
            "grid_auto_rows": null,
            "grid_column": null,
            "grid_gap": null,
            "grid_row": null,
            "grid_template_areas": null,
            "grid_template_columns": null,
            "grid_template_rows": null,
            "height": null,
            "justify_content": null,
            "justify_items": null,
            "left": null,
            "margin": null,
            "max_height": null,
            "max_width": null,
            "min_height": null,
            "min_width": null,
            "object_fit": null,
            "object_position": null,
            "order": null,
            "overflow": null,
            "overflow_x": null,
            "overflow_y": null,
            "padding": null,
            "right": null,
            "top": null,
            "visibility": null,
            "width": null
          }
        },
        "db52902952d54fa8afc22259580d3e53": {
          "model_module": "@jupyter-widgets/controls",
          "model_name": "ProgressStyleModel",
          "model_module_version": "1.5.0",
          "state": {
            "_model_module": "@jupyter-widgets/controls",
            "_model_module_version": "1.5.0",
            "_model_name": "ProgressStyleModel",
            "_view_count": null,
            "_view_module": "@jupyter-widgets/base",
            "_view_module_version": "1.2.0",
            "_view_name": "StyleView",
            "bar_color": null,
            "description_width": ""
          }
        },
        "7f57c23e95d340c19c7fa855bdf12efe": {
          "model_module": "@jupyter-widgets/base",
          "model_name": "LayoutModel",
          "model_module_version": "1.2.0",
          "state": {
            "_model_module": "@jupyter-widgets/base",
            "_model_module_version": "1.2.0",
            "_model_name": "LayoutModel",
            "_view_count": null,
            "_view_module": "@jupyter-widgets/base",
            "_view_module_version": "1.2.0",
            "_view_name": "LayoutView",
            "align_content": null,
            "align_items": null,
            "align_self": null,
            "border": null,
            "bottom": null,
            "display": null,
            "flex": null,
            "flex_flow": null,
            "grid_area": null,
            "grid_auto_columns": null,
            "grid_auto_flow": null,
            "grid_auto_rows": null,
            "grid_column": null,
            "grid_gap": null,
            "grid_row": null,
            "grid_template_areas": null,
            "grid_template_columns": null,
            "grid_template_rows": null,
            "height": null,
            "justify_content": null,
            "justify_items": null,
            "left": null,
            "margin": null,
            "max_height": null,
            "max_width": null,
            "min_height": null,
            "min_width": null,
            "object_fit": null,
            "object_position": null,
            "order": null,
            "overflow": null,
            "overflow_x": null,
            "overflow_y": null,
            "padding": null,
            "right": null,
            "top": null,
            "visibility": null,
            "width": null
          }
        },
        "927226c6b9184a12a0cfd428d22f3a48": {
          "model_module": "@jupyter-widgets/controls",
          "model_name": "DescriptionStyleModel",
          "model_module_version": "1.5.0",
          "state": {
            "_model_module": "@jupyter-widgets/controls",
            "_model_module_version": "1.5.0",
            "_model_name": "DescriptionStyleModel",
            "_view_count": null,
            "_view_module": "@jupyter-widgets/base",
            "_view_module_version": "1.2.0",
            "_view_name": "StyleView",
            "description_width": ""
          }
        },
        "ad4c3848eca64166af806a27e6e29c8e": {
          "model_module": "@jupyter-widgets/controls",
          "model_name": "HBoxModel",
          "model_module_version": "1.5.0",
          "state": {
            "_dom_classes": [],
            "_model_module": "@jupyter-widgets/controls",
            "_model_module_version": "1.5.0",
            "_model_name": "HBoxModel",
            "_view_count": null,
            "_view_module": "@jupyter-widgets/controls",
            "_view_module_version": "1.5.0",
            "_view_name": "HBoxView",
            "box_style": "",
            "children": [
              "IPY_MODEL_7bd3cf46685b4c21900471ab2e51b110",
              "IPY_MODEL_06e95eafbeed42e38d2ecd30d17907f9",
              "IPY_MODEL_20457e7a45c44fe19c63417e8aeb234b"
            ],
            "layout": "IPY_MODEL_20ef5c4c41ae4a99b2a11043a839ebc9"
          }
        },
        "7bd3cf46685b4c21900471ab2e51b110": {
          "model_module": "@jupyter-widgets/controls",
          "model_name": "HTMLModel",
          "model_module_version": "1.5.0",
          "state": {
            "_dom_classes": [],
            "_model_module": "@jupyter-widgets/controls",
            "_model_module_version": "1.5.0",
            "_model_name": "HTMLModel",
            "_view_count": null,
            "_view_module": "@jupyter-widgets/controls",
            "_view_module_version": "1.5.0",
            "_view_name": "HTMLView",
            "description": "",
            "description_tooltip": null,
            "layout": "IPY_MODEL_9ce7ac1c2fd64e3f8010470739d3e82f",
            "placeholder": "​",
            "style": "IPY_MODEL_4200ee6b1f154c808a14821903300e69",
            "value": "Generate report structure: 100%"
          }
        },
        "06e95eafbeed42e38d2ecd30d17907f9": {
          "model_module": "@jupyter-widgets/controls",
          "model_name": "FloatProgressModel",
          "model_module_version": "1.5.0",
          "state": {
            "_dom_classes": [],
            "_model_module": "@jupyter-widgets/controls",
            "_model_module_version": "1.5.0",
            "_model_name": "FloatProgressModel",
            "_view_count": null,
            "_view_module": "@jupyter-widgets/controls",
            "_view_module_version": "1.5.0",
            "_view_name": "ProgressView",
            "bar_style": "success",
            "description": "",
            "description_tooltip": null,
            "layout": "IPY_MODEL_2408408239d94e34af23a7909cca8bb7",
            "max": 1,
            "min": 0,
            "orientation": "horizontal",
            "style": "IPY_MODEL_f0499bd2e88c4d92b3b76799b229b67c",
            "value": 1
          }
        },
        "20457e7a45c44fe19c63417e8aeb234b": {
          "model_module": "@jupyter-widgets/controls",
          "model_name": "HTMLModel",
          "model_module_version": "1.5.0",
          "state": {
            "_dom_classes": [],
            "_model_module": "@jupyter-widgets/controls",
            "_model_module_version": "1.5.0",
            "_model_name": "HTMLModel",
            "_view_count": null,
            "_view_module": "@jupyter-widgets/controls",
            "_view_module_version": "1.5.0",
            "_view_name": "HTMLView",
            "description": "",
            "description_tooltip": null,
            "layout": "IPY_MODEL_54c194358476461097a609343a0c6d6e",
            "placeholder": "​",
            "style": "IPY_MODEL_ae2e0c9c1e244120925910fd48af248c",
            "value": " 1/1 [00:08&lt;00:00,  8.35s/it]"
          }
        },
        "20ef5c4c41ae4a99b2a11043a839ebc9": {
          "model_module": "@jupyter-widgets/base",
          "model_name": "LayoutModel",
          "model_module_version": "1.2.0",
          "state": {
            "_model_module": "@jupyter-widgets/base",
            "_model_module_version": "1.2.0",
            "_model_name": "LayoutModel",
            "_view_count": null,
            "_view_module": "@jupyter-widgets/base",
            "_view_module_version": "1.2.0",
            "_view_name": "LayoutView",
            "align_content": null,
            "align_items": null,
            "align_self": null,
            "border": null,
            "bottom": null,
            "display": null,
            "flex": null,
            "flex_flow": null,
            "grid_area": null,
            "grid_auto_columns": null,
            "grid_auto_flow": null,
            "grid_auto_rows": null,
            "grid_column": null,
            "grid_gap": null,
            "grid_row": null,
            "grid_template_areas": null,
            "grid_template_columns": null,
            "grid_template_rows": null,
            "height": null,
            "justify_content": null,
            "justify_items": null,
            "left": null,
            "margin": null,
            "max_height": null,
            "max_width": null,
            "min_height": null,
            "min_width": null,
            "object_fit": null,
            "object_position": null,
            "order": null,
            "overflow": null,
            "overflow_x": null,
            "overflow_y": null,
            "padding": null,
            "right": null,
            "top": null,
            "visibility": null,
            "width": null
          }
        },
        "9ce7ac1c2fd64e3f8010470739d3e82f": {
          "model_module": "@jupyter-widgets/base",
          "model_name": "LayoutModel",
          "model_module_version": "1.2.0",
          "state": {
            "_model_module": "@jupyter-widgets/base",
            "_model_module_version": "1.2.0",
            "_model_name": "LayoutModel",
            "_view_count": null,
            "_view_module": "@jupyter-widgets/base",
            "_view_module_version": "1.2.0",
            "_view_name": "LayoutView",
            "align_content": null,
            "align_items": null,
            "align_self": null,
            "border": null,
            "bottom": null,
            "display": null,
            "flex": null,
            "flex_flow": null,
            "grid_area": null,
            "grid_auto_columns": null,
            "grid_auto_flow": null,
            "grid_auto_rows": null,
            "grid_column": null,
            "grid_gap": null,
            "grid_row": null,
            "grid_template_areas": null,
            "grid_template_columns": null,
            "grid_template_rows": null,
            "height": null,
            "justify_content": null,
            "justify_items": null,
            "left": null,
            "margin": null,
            "max_height": null,
            "max_width": null,
            "min_height": null,
            "min_width": null,
            "object_fit": null,
            "object_position": null,
            "order": null,
            "overflow": null,
            "overflow_x": null,
            "overflow_y": null,
            "padding": null,
            "right": null,
            "top": null,
            "visibility": null,
            "width": null
          }
        },
        "4200ee6b1f154c808a14821903300e69": {
          "model_module": "@jupyter-widgets/controls",
          "model_name": "DescriptionStyleModel",
          "model_module_version": "1.5.0",
          "state": {
            "_model_module": "@jupyter-widgets/controls",
            "_model_module_version": "1.5.0",
            "_model_name": "DescriptionStyleModel",
            "_view_count": null,
            "_view_module": "@jupyter-widgets/base",
            "_view_module_version": "1.2.0",
            "_view_name": "StyleView",
            "description_width": ""
          }
        },
        "2408408239d94e34af23a7909cca8bb7": {
          "model_module": "@jupyter-widgets/base",
          "model_name": "LayoutModel",
          "model_module_version": "1.2.0",
          "state": {
            "_model_module": "@jupyter-widgets/base",
            "_model_module_version": "1.2.0",
            "_model_name": "LayoutModel",
            "_view_count": null,
            "_view_module": "@jupyter-widgets/base",
            "_view_module_version": "1.2.0",
            "_view_name": "LayoutView",
            "align_content": null,
            "align_items": null,
            "align_self": null,
            "border": null,
            "bottom": null,
            "display": null,
            "flex": null,
            "flex_flow": null,
            "grid_area": null,
            "grid_auto_columns": null,
            "grid_auto_flow": null,
            "grid_auto_rows": null,
            "grid_column": null,
            "grid_gap": null,
            "grid_row": null,
            "grid_template_areas": null,
            "grid_template_columns": null,
            "grid_template_rows": null,
            "height": null,
            "justify_content": null,
            "justify_items": null,
            "left": null,
            "margin": null,
            "max_height": null,
            "max_width": null,
            "min_height": null,
            "min_width": null,
            "object_fit": null,
            "object_position": null,
            "order": null,
            "overflow": null,
            "overflow_x": null,
            "overflow_y": null,
            "padding": null,
            "right": null,
            "top": null,
            "visibility": null,
            "width": null
          }
        },
        "f0499bd2e88c4d92b3b76799b229b67c": {
          "model_module": "@jupyter-widgets/controls",
          "model_name": "ProgressStyleModel",
          "model_module_version": "1.5.0",
          "state": {
            "_model_module": "@jupyter-widgets/controls",
            "_model_module_version": "1.5.0",
            "_model_name": "ProgressStyleModel",
            "_view_count": null,
            "_view_module": "@jupyter-widgets/base",
            "_view_module_version": "1.2.0",
            "_view_name": "StyleView",
            "bar_color": null,
            "description_width": ""
          }
        },
        "54c194358476461097a609343a0c6d6e": {
          "model_module": "@jupyter-widgets/base",
          "model_name": "LayoutModel",
          "model_module_version": "1.2.0",
          "state": {
            "_model_module": "@jupyter-widgets/base",
            "_model_module_version": "1.2.0",
            "_model_name": "LayoutModel",
            "_view_count": null,
            "_view_module": "@jupyter-widgets/base",
            "_view_module_version": "1.2.0",
            "_view_name": "LayoutView",
            "align_content": null,
            "align_items": null,
            "align_self": null,
            "border": null,
            "bottom": null,
            "display": null,
            "flex": null,
            "flex_flow": null,
            "grid_area": null,
            "grid_auto_columns": null,
            "grid_auto_flow": null,
            "grid_auto_rows": null,
            "grid_column": null,
            "grid_gap": null,
            "grid_row": null,
            "grid_template_areas": null,
            "grid_template_columns": null,
            "grid_template_rows": null,
            "height": null,
            "justify_content": null,
            "justify_items": null,
            "left": null,
            "margin": null,
            "max_height": null,
            "max_width": null,
            "min_height": null,
            "min_width": null,
            "object_fit": null,
            "object_position": null,
            "order": null,
            "overflow": null,
            "overflow_x": null,
            "overflow_y": null,
            "padding": null,
            "right": null,
            "top": null,
            "visibility": null,
            "width": null
          }
        },
        "ae2e0c9c1e244120925910fd48af248c": {
          "model_module": "@jupyter-widgets/controls",
          "model_name": "DescriptionStyleModel",
          "model_module_version": "1.5.0",
          "state": {
            "_model_module": "@jupyter-widgets/controls",
            "_model_module_version": "1.5.0",
            "_model_name": "DescriptionStyleModel",
            "_view_count": null,
            "_view_module": "@jupyter-widgets/base",
            "_view_module_version": "1.2.0",
            "_view_name": "StyleView",
            "description_width": ""
          }
        },
        "38c90ba55cf24021aa19cc9ad496594c": {
          "model_module": "@jupyter-widgets/controls",
          "model_name": "HBoxModel",
          "model_module_version": "1.5.0",
          "state": {
            "_dom_classes": [],
            "_model_module": "@jupyter-widgets/controls",
            "_model_module_version": "1.5.0",
            "_model_name": "HBoxModel",
            "_view_count": null,
            "_view_module": "@jupyter-widgets/controls",
            "_view_module_version": "1.5.0",
            "_view_name": "HBoxView",
            "box_style": "",
            "children": [
              "IPY_MODEL_5a3598216c1b4961a21dd5d2b10315f9",
              "IPY_MODEL_bd93db85ddca4cefb6eb86d2db84fc94",
              "IPY_MODEL_ac0b2075eb574240806b5d10182b1813"
            ],
            "layout": "IPY_MODEL_2e4313000981401abb93ab67d9faff41"
          }
        },
        "5a3598216c1b4961a21dd5d2b10315f9": {
          "model_module": "@jupyter-widgets/controls",
          "model_name": "HTMLModel",
          "model_module_version": "1.5.0",
          "state": {
            "_dom_classes": [],
            "_model_module": "@jupyter-widgets/controls",
            "_model_module_version": "1.5.0",
            "_model_name": "HTMLModel",
            "_view_count": null,
            "_view_module": "@jupyter-widgets/controls",
            "_view_module_version": "1.5.0",
            "_view_name": "HTMLView",
            "description": "",
            "description_tooltip": null,
            "layout": "IPY_MODEL_2f4768c62cee4a63b128e3defbb06a34",
            "placeholder": "​",
            "style": "IPY_MODEL_1743f03e3c634aa79645b4f813debce4",
            "value": "Render HTML: 100%"
          }
        },
        "bd93db85ddca4cefb6eb86d2db84fc94": {
          "model_module": "@jupyter-widgets/controls",
          "model_name": "FloatProgressModel",
          "model_module_version": "1.5.0",
          "state": {
            "_dom_classes": [],
            "_model_module": "@jupyter-widgets/controls",
            "_model_module_version": "1.5.0",
            "_model_name": "FloatProgressModel",
            "_view_count": null,
            "_view_module": "@jupyter-widgets/controls",
            "_view_module_version": "1.5.0",
            "_view_name": "ProgressView",
            "bar_style": "success",
            "description": "",
            "description_tooltip": null,
            "layout": "IPY_MODEL_84994588a8314ad49453a607743d7846",
            "max": 1,
            "min": 0,
            "orientation": "horizontal",
            "style": "IPY_MODEL_8eaec591e5f64599b3684ae4779992ae",
            "value": 1
          }
        },
        "ac0b2075eb574240806b5d10182b1813": {
          "model_module": "@jupyter-widgets/controls",
          "model_name": "HTMLModel",
          "model_module_version": "1.5.0",
          "state": {
            "_dom_classes": [],
            "_model_module": "@jupyter-widgets/controls",
            "_model_module_version": "1.5.0",
            "_model_name": "HTMLModel",
            "_view_count": null,
            "_view_module": "@jupyter-widgets/controls",
            "_view_module_version": "1.5.0",
            "_view_name": "HTMLView",
            "description": "",
            "description_tooltip": null,
            "layout": "IPY_MODEL_7fbe00c038d74567816be2d18a145599",
            "placeholder": "​",
            "style": "IPY_MODEL_ad58b0c0bede47fba985eb92d39fae6c",
            "value": " 1/1 [00:01&lt;00:00,  1.22s/it]"
          }
        },
        "2e4313000981401abb93ab67d9faff41": {
          "model_module": "@jupyter-widgets/base",
          "model_name": "LayoutModel",
          "model_module_version": "1.2.0",
          "state": {
            "_model_module": "@jupyter-widgets/base",
            "_model_module_version": "1.2.0",
            "_model_name": "LayoutModel",
            "_view_count": null,
            "_view_module": "@jupyter-widgets/base",
            "_view_module_version": "1.2.0",
            "_view_name": "LayoutView",
            "align_content": null,
            "align_items": null,
            "align_self": null,
            "border": null,
            "bottom": null,
            "display": null,
            "flex": null,
            "flex_flow": null,
            "grid_area": null,
            "grid_auto_columns": null,
            "grid_auto_flow": null,
            "grid_auto_rows": null,
            "grid_column": null,
            "grid_gap": null,
            "grid_row": null,
            "grid_template_areas": null,
            "grid_template_columns": null,
            "grid_template_rows": null,
            "height": null,
            "justify_content": null,
            "justify_items": null,
            "left": null,
            "margin": null,
            "max_height": null,
            "max_width": null,
            "min_height": null,
            "min_width": null,
            "object_fit": null,
            "object_position": null,
            "order": null,
            "overflow": null,
            "overflow_x": null,
            "overflow_y": null,
            "padding": null,
            "right": null,
            "top": null,
            "visibility": null,
            "width": null
          }
        },
        "2f4768c62cee4a63b128e3defbb06a34": {
          "model_module": "@jupyter-widgets/base",
          "model_name": "LayoutModel",
          "model_module_version": "1.2.0",
          "state": {
            "_model_module": "@jupyter-widgets/base",
            "_model_module_version": "1.2.0",
            "_model_name": "LayoutModel",
            "_view_count": null,
            "_view_module": "@jupyter-widgets/base",
            "_view_module_version": "1.2.0",
            "_view_name": "LayoutView",
            "align_content": null,
            "align_items": null,
            "align_self": null,
            "border": null,
            "bottom": null,
            "display": null,
            "flex": null,
            "flex_flow": null,
            "grid_area": null,
            "grid_auto_columns": null,
            "grid_auto_flow": null,
            "grid_auto_rows": null,
            "grid_column": null,
            "grid_gap": null,
            "grid_row": null,
            "grid_template_areas": null,
            "grid_template_columns": null,
            "grid_template_rows": null,
            "height": null,
            "justify_content": null,
            "justify_items": null,
            "left": null,
            "margin": null,
            "max_height": null,
            "max_width": null,
            "min_height": null,
            "min_width": null,
            "object_fit": null,
            "object_position": null,
            "order": null,
            "overflow": null,
            "overflow_x": null,
            "overflow_y": null,
            "padding": null,
            "right": null,
            "top": null,
            "visibility": null,
            "width": null
          }
        },
        "1743f03e3c634aa79645b4f813debce4": {
          "model_module": "@jupyter-widgets/controls",
          "model_name": "DescriptionStyleModel",
          "model_module_version": "1.5.0",
          "state": {
            "_model_module": "@jupyter-widgets/controls",
            "_model_module_version": "1.5.0",
            "_model_name": "DescriptionStyleModel",
            "_view_count": null,
            "_view_module": "@jupyter-widgets/base",
            "_view_module_version": "1.2.0",
            "_view_name": "StyleView",
            "description_width": ""
          }
        },
        "84994588a8314ad49453a607743d7846": {
          "model_module": "@jupyter-widgets/base",
          "model_name": "LayoutModel",
          "model_module_version": "1.2.0",
          "state": {
            "_model_module": "@jupyter-widgets/base",
            "_model_module_version": "1.2.0",
            "_model_name": "LayoutModel",
            "_view_count": null,
            "_view_module": "@jupyter-widgets/base",
            "_view_module_version": "1.2.0",
            "_view_name": "LayoutView",
            "align_content": null,
            "align_items": null,
            "align_self": null,
            "border": null,
            "bottom": null,
            "display": null,
            "flex": null,
            "flex_flow": null,
            "grid_area": null,
            "grid_auto_columns": null,
            "grid_auto_flow": null,
            "grid_auto_rows": null,
            "grid_column": null,
            "grid_gap": null,
            "grid_row": null,
            "grid_template_areas": null,
            "grid_template_columns": null,
            "grid_template_rows": null,
            "height": null,
            "justify_content": null,
            "justify_items": null,
            "left": null,
            "margin": null,
            "max_height": null,
            "max_width": null,
            "min_height": null,
            "min_width": null,
            "object_fit": null,
            "object_position": null,
            "order": null,
            "overflow": null,
            "overflow_x": null,
            "overflow_y": null,
            "padding": null,
            "right": null,
            "top": null,
            "visibility": null,
            "width": null
          }
        },
        "8eaec591e5f64599b3684ae4779992ae": {
          "model_module": "@jupyter-widgets/controls",
          "model_name": "ProgressStyleModel",
          "model_module_version": "1.5.0",
          "state": {
            "_model_module": "@jupyter-widgets/controls",
            "_model_module_version": "1.5.0",
            "_model_name": "ProgressStyleModel",
            "_view_count": null,
            "_view_module": "@jupyter-widgets/base",
            "_view_module_version": "1.2.0",
            "_view_name": "StyleView",
            "bar_color": null,
            "description_width": ""
          }
        },
        "7fbe00c038d74567816be2d18a145599": {
          "model_module": "@jupyter-widgets/base",
          "model_name": "LayoutModel",
          "model_module_version": "1.2.0",
          "state": {
            "_model_module": "@jupyter-widgets/base",
            "_model_module_version": "1.2.0",
            "_model_name": "LayoutModel",
            "_view_count": null,
            "_view_module": "@jupyter-widgets/base",
            "_view_module_version": "1.2.0",
            "_view_name": "LayoutView",
            "align_content": null,
            "align_items": null,
            "align_self": null,
            "border": null,
            "bottom": null,
            "display": null,
            "flex": null,
            "flex_flow": null,
            "grid_area": null,
            "grid_auto_columns": null,
            "grid_auto_flow": null,
            "grid_auto_rows": null,
            "grid_column": null,
            "grid_gap": null,
            "grid_row": null,
            "grid_template_areas": null,
            "grid_template_columns": null,
            "grid_template_rows": null,
            "height": null,
            "justify_content": null,
            "justify_items": null,
            "left": null,
            "margin": null,
            "max_height": null,
            "max_width": null,
            "min_height": null,
            "min_width": null,
            "object_fit": null,
            "object_position": null,
            "order": null,
            "overflow": null,
            "overflow_x": null,
            "overflow_y": null,
            "padding": null,
            "right": null,
            "top": null,
            "visibility": null,
            "width": null
          }
        },
        "ad58b0c0bede47fba985eb92d39fae6c": {
          "model_module": "@jupyter-widgets/controls",
          "model_name": "DescriptionStyleModel",
          "model_module_version": "1.5.0",
          "state": {
            "_model_module": "@jupyter-widgets/controls",
            "_model_module_version": "1.5.0",
            "_model_name": "DescriptionStyleModel",
            "_view_count": null,
            "_view_module": "@jupyter-widgets/base",
            "_view_module_version": "1.2.0",
            "_view_name": "StyleView",
            "description_width": ""
          }
        },
        "59095e87bab141da96c52ffa244e44df": {
          "model_module": "@jupyter-widgets/controls",
          "model_name": "HBoxModel",
          "model_module_version": "1.5.0",
          "state": {
            "_dom_classes": [],
            "_model_module": "@jupyter-widgets/controls",
            "_model_module_version": "1.5.0",
            "_model_name": "HBoxModel",
            "_view_count": null,
            "_view_module": "@jupyter-widgets/controls",
            "_view_module_version": "1.5.0",
            "_view_name": "HBoxView",
            "box_style": "",
            "children": [
              "IPY_MODEL_25f2714500f64e158aa8931932c4d415",
              "IPY_MODEL_13846d1336fa42cfaebe37d12b9f9411",
              "IPY_MODEL_3420c6e99e10438b971932ae49425e72"
            ],
            "layout": "IPY_MODEL_d09c242750924c99b01b2639b044ff5b"
          }
        },
        "25f2714500f64e158aa8931932c4d415": {
          "model_module": "@jupyter-widgets/controls",
          "model_name": "HTMLModel",
          "model_module_version": "1.5.0",
          "state": {
            "_dom_classes": [],
            "_model_module": "@jupyter-widgets/controls",
            "_model_module_version": "1.5.0",
            "_model_name": "HTMLModel",
            "_view_count": null,
            "_view_module": "@jupyter-widgets/controls",
            "_view_module_version": "1.5.0",
            "_view_name": "HTMLView",
            "description": "",
            "description_tooltip": null,
            "layout": "IPY_MODEL_373f5dcec29344e395df70835c053bfa",
            "placeholder": "​",
            "style": "IPY_MODEL_214304c768c94a20bb85f97c33be4037",
            "value": "Export report to file: 100%"
          }
        },
        "13846d1336fa42cfaebe37d12b9f9411": {
          "model_module": "@jupyter-widgets/controls",
          "model_name": "FloatProgressModel",
          "model_module_version": "1.5.0",
          "state": {
            "_dom_classes": [],
            "_model_module": "@jupyter-widgets/controls",
            "_model_module_version": "1.5.0",
            "_model_name": "FloatProgressModel",
            "_view_count": null,
            "_view_module": "@jupyter-widgets/controls",
            "_view_module_version": "1.5.0",
            "_view_name": "ProgressView",
            "bar_style": "success",
            "description": "",
            "description_tooltip": null,
            "layout": "IPY_MODEL_c5e4b4a2af0d4a648d95ee1d5fa6d695",
            "max": 1,
            "min": 0,
            "orientation": "horizontal",
            "style": "IPY_MODEL_432e2322f61649f4815bde1cd9b170e0",
            "value": 1
          }
        },
        "3420c6e99e10438b971932ae49425e72": {
          "model_module": "@jupyter-widgets/controls",
          "model_name": "HTMLModel",
          "model_module_version": "1.5.0",
          "state": {
            "_dom_classes": [],
            "_model_module": "@jupyter-widgets/controls",
            "_model_module_version": "1.5.0",
            "_model_name": "HTMLModel",
            "_view_count": null,
            "_view_module": "@jupyter-widgets/controls",
            "_view_module_version": "1.5.0",
            "_view_name": "HTMLView",
            "description": "",
            "description_tooltip": null,
            "layout": "IPY_MODEL_1293c4013d884c8dbe5602bfd4e29bce",
            "placeholder": "​",
            "style": "IPY_MODEL_da387c41c8b4402abf9ee248934e93c8",
            "value": " 1/1 [00:00&lt;00:00, 41.15it/s]"
          }
        },
        "d09c242750924c99b01b2639b044ff5b": {
          "model_module": "@jupyter-widgets/base",
          "model_name": "LayoutModel",
          "model_module_version": "1.2.0",
          "state": {
            "_model_module": "@jupyter-widgets/base",
            "_model_module_version": "1.2.0",
            "_model_name": "LayoutModel",
            "_view_count": null,
            "_view_module": "@jupyter-widgets/base",
            "_view_module_version": "1.2.0",
            "_view_name": "LayoutView",
            "align_content": null,
            "align_items": null,
            "align_self": null,
            "border": null,
            "bottom": null,
            "display": null,
            "flex": null,
            "flex_flow": null,
            "grid_area": null,
            "grid_auto_columns": null,
            "grid_auto_flow": null,
            "grid_auto_rows": null,
            "grid_column": null,
            "grid_gap": null,
            "grid_row": null,
            "grid_template_areas": null,
            "grid_template_columns": null,
            "grid_template_rows": null,
            "height": null,
            "justify_content": null,
            "justify_items": null,
            "left": null,
            "margin": null,
            "max_height": null,
            "max_width": null,
            "min_height": null,
            "min_width": null,
            "object_fit": null,
            "object_position": null,
            "order": null,
            "overflow": null,
            "overflow_x": null,
            "overflow_y": null,
            "padding": null,
            "right": null,
            "top": null,
            "visibility": null,
            "width": null
          }
        },
        "373f5dcec29344e395df70835c053bfa": {
          "model_module": "@jupyter-widgets/base",
          "model_name": "LayoutModel",
          "model_module_version": "1.2.0",
          "state": {
            "_model_module": "@jupyter-widgets/base",
            "_model_module_version": "1.2.0",
            "_model_name": "LayoutModel",
            "_view_count": null,
            "_view_module": "@jupyter-widgets/base",
            "_view_module_version": "1.2.0",
            "_view_name": "LayoutView",
            "align_content": null,
            "align_items": null,
            "align_self": null,
            "border": null,
            "bottom": null,
            "display": null,
            "flex": null,
            "flex_flow": null,
            "grid_area": null,
            "grid_auto_columns": null,
            "grid_auto_flow": null,
            "grid_auto_rows": null,
            "grid_column": null,
            "grid_gap": null,
            "grid_row": null,
            "grid_template_areas": null,
            "grid_template_columns": null,
            "grid_template_rows": null,
            "height": null,
            "justify_content": null,
            "justify_items": null,
            "left": null,
            "margin": null,
            "max_height": null,
            "max_width": null,
            "min_height": null,
            "min_width": null,
            "object_fit": null,
            "object_position": null,
            "order": null,
            "overflow": null,
            "overflow_x": null,
            "overflow_y": null,
            "padding": null,
            "right": null,
            "top": null,
            "visibility": null,
            "width": null
          }
        },
        "214304c768c94a20bb85f97c33be4037": {
          "model_module": "@jupyter-widgets/controls",
          "model_name": "DescriptionStyleModel",
          "model_module_version": "1.5.0",
          "state": {
            "_model_module": "@jupyter-widgets/controls",
            "_model_module_version": "1.5.0",
            "_model_name": "DescriptionStyleModel",
            "_view_count": null,
            "_view_module": "@jupyter-widgets/base",
            "_view_module_version": "1.2.0",
            "_view_name": "StyleView",
            "description_width": ""
          }
        },
        "c5e4b4a2af0d4a648d95ee1d5fa6d695": {
          "model_module": "@jupyter-widgets/base",
          "model_name": "LayoutModel",
          "model_module_version": "1.2.0",
          "state": {
            "_model_module": "@jupyter-widgets/base",
            "_model_module_version": "1.2.0",
            "_model_name": "LayoutModel",
            "_view_count": null,
            "_view_module": "@jupyter-widgets/base",
            "_view_module_version": "1.2.0",
            "_view_name": "LayoutView",
            "align_content": null,
            "align_items": null,
            "align_self": null,
            "border": null,
            "bottom": null,
            "display": null,
            "flex": null,
            "flex_flow": null,
            "grid_area": null,
            "grid_auto_columns": null,
            "grid_auto_flow": null,
            "grid_auto_rows": null,
            "grid_column": null,
            "grid_gap": null,
            "grid_row": null,
            "grid_template_areas": null,
            "grid_template_columns": null,
            "grid_template_rows": null,
            "height": null,
            "justify_content": null,
            "justify_items": null,
            "left": null,
            "margin": null,
            "max_height": null,
            "max_width": null,
            "min_height": null,
            "min_width": null,
            "object_fit": null,
            "object_position": null,
            "order": null,
            "overflow": null,
            "overflow_x": null,
            "overflow_y": null,
            "padding": null,
            "right": null,
            "top": null,
            "visibility": null,
            "width": null
          }
        },
        "432e2322f61649f4815bde1cd9b170e0": {
          "model_module": "@jupyter-widgets/controls",
          "model_name": "ProgressStyleModel",
          "model_module_version": "1.5.0",
          "state": {
            "_model_module": "@jupyter-widgets/controls",
            "_model_module_version": "1.5.0",
            "_model_name": "ProgressStyleModel",
            "_view_count": null,
            "_view_module": "@jupyter-widgets/base",
            "_view_module_version": "1.2.0",
            "_view_name": "StyleView",
            "bar_color": null,
            "description_width": ""
          }
        },
        "1293c4013d884c8dbe5602bfd4e29bce": {
          "model_module": "@jupyter-widgets/base",
          "model_name": "LayoutModel",
          "model_module_version": "1.2.0",
          "state": {
            "_model_module": "@jupyter-widgets/base",
            "_model_module_version": "1.2.0",
            "_model_name": "LayoutModel",
            "_view_count": null,
            "_view_module": "@jupyter-widgets/base",
            "_view_module_version": "1.2.0",
            "_view_name": "LayoutView",
            "align_content": null,
            "align_items": null,
            "align_self": null,
            "border": null,
            "bottom": null,
            "display": null,
            "flex": null,
            "flex_flow": null,
            "grid_area": null,
            "grid_auto_columns": null,
            "grid_auto_flow": null,
            "grid_auto_rows": null,
            "grid_column": null,
            "grid_gap": null,
            "grid_row": null,
            "grid_template_areas": null,
            "grid_template_columns": null,
            "grid_template_rows": null,
            "height": null,
            "justify_content": null,
            "justify_items": null,
            "left": null,
            "margin": null,
            "max_height": null,
            "max_width": null,
            "min_height": null,
            "min_width": null,
            "object_fit": null,
            "object_position": null,
            "order": null,
            "overflow": null,
            "overflow_x": null,
            "overflow_y": null,
            "padding": null,
            "right": null,
            "top": null,
            "visibility": null,
            "width": null
          }
        },
        "da387c41c8b4402abf9ee248934e93c8": {
          "model_module": "@jupyter-widgets/controls",
          "model_name": "DescriptionStyleModel",
          "model_module_version": "1.5.0",
          "state": {
            "_model_module": "@jupyter-widgets/controls",
            "_model_module_version": "1.5.0",
            "_model_name": "DescriptionStyleModel",
            "_view_count": null,
            "_view_module": "@jupyter-widgets/base",
            "_view_module_version": "1.2.0",
            "_view_name": "StyleView",
            "description_width": ""
          }
        }
      }
    }
  },
  "cells": [
    {
      "cell_type": "markdown",
      "source": [
        "# 데이터 불러오기"
      ],
      "metadata": {
        "id": "jvAd9BskZN67"
      }
    },
    {
      "cell_type": "code",
      "source": [
        "from google.colab import drive\n",
        "drive.mount('/content/drive')\n"
      ],
      "metadata": {
        "colab": {
          "base_uri": "https://localhost:8080/"
        },
        "id": "Hzrj2Ca5Lzot",
        "outputId": "d825d626-d35c-4dbc-ee37-01b32200138e"
      },
      "execution_count": null,
      "outputs": [
        {
          "output_type": "stream",
          "name": "stdout",
          "text": [
            "Mounted at /content/drive\n"
          ]
        }
      ]
    },
    {
      "cell_type": "code",
      "source": [
        "import seaborn as sns"
      ],
      "metadata": {
        "id": "RGRl06iVL4M8"
      },
      "execution_count": null,
      "outputs": []
    },
    {
      "cell_type": "code",
      "source": [
        "import pandas as pd\n",
        "\n",
        "# 데이터 불러오기\n",
        "file_path = \"/content/drive/MyDrive/BREAST1.csv\"\n",
        "df = pd.read_csv(file_path)\n"
      ],
      "metadata": {
        "id": "i2gFrYehZNGr"
      },
      "execution_count": null,
      "outputs": []
    },
    {
      "cell_type": "code",
      "source": [
        "df.info()"
      ],
      "metadata": {
        "colab": {
          "base_uri": "https://localhost:8080/"
        },
        "id": "mKX-9sK9L_u0",
        "outputId": "d5efe61b-a63b-415a-86b0-59c5e7f1934e"
      },
      "execution_count": null,
      "outputs": [
        {
          "output_type": "stream",
          "name": "stdout",
          "text": [
            "<class 'pandas.core.frame.DataFrame'>\n",
            "RangeIndex: 309044 entries, 0 to 309043\n",
            "Data columns (total 24 columns):\n",
            " #   Column                  Non-Null Count   Dtype \n",
            "---  ------                  --------------   ----- \n",
            " 0   Sex                     309044 non-null  object\n",
            " 1   Age                     309044 non-null  object\n",
            " 2   Race                    309044 non-null  object\n",
            " 3   Marital status          309044 non-null  object\n",
            " 4   ER                      309044 non-null  object\n",
            " 5   HER2                    309044 non-null  object\n",
            " 6   PR                      309044 non-null  object\n",
            " 7   T/N/M Stage             309044 non-null  object\n",
            " 8   Behavior code           309044 non-null  object\n",
            " 9   Sequence number         309044 non-null  object\n",
            " 10  Chemotherapy            309044 non-null  object\n",
            " 11  Mets all                309044 non-null  object\n",
            " 12  Mets at bone            309044 non-null  object\n",
            " 13  Mets at brain           309044 non-null  object\n",
            " 14  Mets at liver           309044 non-null  object\n",
            " 15  Mets at lung            309044 non-null  object\n",
            " 16  Radiation               309044 non-null  object\n",
            " 17  Surgery Oth Reg/Dis     309044 non-null  object\n",
            " 18  Surgery Prim Site       309044 non-null  int64 \n",
            " 19  Rural-Urban             309044 non-null  object\n",
            " 20  cancer treatment delay  309044 non-null  object\n",
            " 21  Income                  309044 non-null  object\n",
            " 22  Survival months         309044 non-null  int64 \n",
            " 23  Cancer Site             309044 non-null  object\n",
            "dtypes: int64(2), object(22)\n",
            "memory usage: 56.6+ MB\n"
          ]
        }
      ]
    },
    {
      "cell_type": "code",
      "source": [
        "df.columns"
      ],
      "metadata": {
        "colab": {
          "base_uri": "https://localhost:8080/"
        },
        "id": "qxWmBMQRMBYf",
        "outputId": "a444ee78-e219-4c0c-f59c-4d3fe1103ba0"
      },
      "execution_count": null,
      "outputs": [
        {
          "output_type": "execute_result",
          "data": {
            "text/plain": [
              "Index(['Sex', 'Age', 'Race', 'Marital status', 'ER', 'HER2', 'PR',\n",
              "       'T/N/M Stage', 'Behavior code', 'Sequence number', 'Chemotherapy',\n",
              "       'Mets all', 'Mets at bone', 'Mets at brain', 'Mets at liver',\n",
              "       'Mets at lung', 'Radiation', 'Surgery Oth Reg/Dis', 'Surgery Prim Site',\n",
              "       'Rural-Urban', 'cancer treatment delay', 'Income', 'Survival months',\n",
              "       'Cancer Site'],\n",
              "      dtype='object')"
            ]
          },
          "metadata": {},
          "execution_count": 6
        }
      ]
    },
    {
      "cell_type": "code",
      "source": [
        "# 기술 통계 확인\n",
        "df.describe()"
      ],
      "metadata": {
        "colab": {
          "base_uri": "https://localhost:8080/",
          "height": 300
        },
        "id": "exz3Gh7CQM9A",
        "outputId": "405ff507-5f38-432d-a13f-a8110987747c"
      },
      "execution_count": null,
      "outputs": [
        {
          "output_type": "execute_result",
          "data": {
            "text/plain": [
              "       Surgery Prim Site  Survival months\n",
              "count      309044.000000    309044.000000\n",
              "mean           27.623594        26.606431\n",
              "std            14.314566        17.251222\n",
              "min             0.000000         0.000000\n",
              "25%            22.000000        12.000000\n",
              "50%            22.000000        25.000000\n",
              "75%            41.000000        41.000000\n",
              "max            99.000000        59.000000"
            ],
            "text/html": [
              "\n",
              "  <div id=\"df-c35860f8-7adc-48fa-8982-4226871c3721\" class=\"colab-df-container\">\n",
              "    <div>\n",
              "<style scoped>\n",
              "    .dataframe tbody tr th:only-of-type {\n",
              "        vertical-align: middle;\n",
              "    }\n",
              "\n",
              "    .dataframe tbody tr th {\n",
              "        vertical-align: top;\n",
              "    }\n",
              "\n",
              "    .dataframe thead th {\n",
              "        text-align: right;\n",
              "    }\n",
              "</style>\n",
              "<table border=\"1\" class=\"dataframe\">\n",
              "  <thead>\n",
              "    <tr style=\"text-align: right;\">\n",
              "      <th></th>\n",
              "      <th>Surgery Prim Site</th>\n",
              "      <th>Survival months</th>\n",
              "    </tr>\n",
              "  </thead>\n",
              "  <tbody>\n",
              "    <tr>\n",
              "      <th>count</th>\n",
              "      <td>309044.000000</td>\n",
              "      <td>309044.000000</td>\n",
              "    </tr>\n",
              "    <tr>\n",
              "      <th>mean</th>\n",
              "      <td>27.623594</td>\n",
              "      <td>26.606431</td>\n",
              "    </tr>\n",
              "    <tr>\n",
              "      <th>std</th>\n",
              "      <td>14.314566</td>\n",
              "      <td>17.251222</td>\n",
              "    </tr>\n",
              "    <tr>\n",
              "      <th>min</th>\n",
              "      <td>0.000000</td>\n",
              "      <td>0.000000</td>\n",
              "    </tr>\n",
              "    <tr>\n",
              "      <th>25%</th>\n",
              "      <td>22.000000</td>\n",
              "      <td>12.000000</td>\n",
              "    </tr>\n",
              "    <tr>\n",
              "      <th>50%</th>\n",
              "      <td>22.000000</td>\n",
              "      <td>25.000000</td>\n",
              "    </tr>\n",
              "    <tr>\n",
              "      <th>75%</th>\n",
              "      <td>41.000000</td>\n",
              "      <td>41.000000</td>\n",
              "    </tr>\n",
              "    <tr>\n",
              "      <th>max</th>\n",
              "      <td>99.000000</td>\n",
              "      <td>59.000000</td>\n",
              "    </tr>\n",
              "  </tbody>\n",
              "</table>\n",
              "</div>\n",
              "    <div class=\"colab-df-buttons\">\n",
              "\n",
              "  <div class=\"colab-df-container\">\n",
              "    <button class=\"colab-df-convert\" onclick=\"convertToInteractive('df-c35860f8-7adc-48fa-8982-4226871c3721')\"\n",
              "            title=\"Convert this dataframe to an interactive table.\"\n",
              "            style=\"display:none;\">\n",
              "\n",
              "  <svg xmlns=\"http://www.w3.org/2000/svg\" height=\"24px\" viewBox=\"0 -960 960 960\">\n",
              "    <path d=\"M120-120v-720h720v720H120Zm60-500h600v-160H180v160Zm220 220h160v-160H400v160Zm0 220h160v-160H400v160ZM180-400h160v-160H180v160Zm440 0h160v-160H620v160ZM180-180h160v-160H180v160Zm440 0h160v-160H620v160Z\"/>\n",
              "  </svg>\n",
              "    </button>\n",
              "\n",
              "  <style>\n",
              "    .colab-df-container {\n",
              "      display:flex;\n",
              "      gap: 12px;\n",
              "    }\n",
              "\n",
              "    .colab-df-convert {\n",
              "      background-color: #E8F0FE;\n",
              "      border: none;\n",
              "      border-radius: 50%;\n",
              "      cursor: pointer;\n",
              "      display: none;\n",
              "      fill: #1967D2;\n",
              "      height: 32px;\n",
              "      padding: 0 0 0 0;\n",
              "      width: 32px;\n",
              "    }\n",
              "\n",
              "    .colab-df-convert:hover {\n",
              "      background-color: #E2EBFA;\n",
              "      box-shadow: 0px 1px 2px rgba(60, 64, 67, 0.3), 0px 1px 3px 1px rgba(60, 64, 67, 0.15);\n",
              "      fill: #174EA6;\n",
              "    }\n",
              "\n",
              "    .colab-df-buttons div {\n",
              "      margin-bottom: 4px;\n",
              "    }\n",
              "\n",
              "    [theme=dark] .colab-df-convert {\n",
              "      background-color: #3B4455;\n",
              "      fill: #D2E3FC;\n",
              "    }\n",
              "\n",
              "    [theme=dark] .colab-df-convert:hover {\n",
              "      background-color: #434B5C;\n",
              "      box-shadow: 0px 1px 3px 1px rgba(0, 0, 0, 0.15);\n",
              "      filter: drop-shadow(0px 1px 2px rgba(0, 0, 0, 0.3));\n",
              "      fill: #FFFFFF;\n",
              "    }\n",
              "  </style>\n",
              "\n",
              "    <script>\n",
              "      const buttonEl =\n",
              "        document.querySelector('#df-c35860f8-7adc-48fa-8982-4226871c3721 button.colab-df-convert');\n",
              "      buttonEl.style.display =\n",
              "        google.colab.kernel.accessAllowed ? 'block' : 'none';\n",
              "\n",
              "      async function convertToInteractive(key) {\n",
              "        const element = document.querySelector('#df-c35860f8-7adc-48fa-8982-4226871c3721');\n",
              "        const dataTable =\n",
              "          await google.colab.kernel.invokeFunction('convertToInteractive',\n",
              "                                                    [key], {});\n",
              "        if (!dataTable) return;\n",
              "\n",
              "        const docLinkHtml = 'Like what you see? Visit the ' +\n",
              "          '<a target=\"_blank\" href=https://colab.research.google.com/notebooks/data_table.ipynb>data table notebook</a>'\n",
              "          + ' to learn more about interactive tables.';\n",
              "        element.innerHTML = '';\n",
              "        dataTable['output_type'] = 'display_data';\n",
              "        await google.colab.output.renderOutput(dataTable, element);\n",
              "        const docLink = document.createElement('div');\n",
              "        docLink.innerHTML = docLinkHtml;\n",
              "        element.appendChild(docLink);\n",
              "      }\n",
              "    </script>\n",
              "  </div>\n",
              "\n",
              "\n",
              "    <div id=\"df-77d18c66-1ec2-4e42-a3af-f12a0f39527d\">\n",
              "      <button class=\"colab-df-quickchart\" onclick=\"quickchart('df-77d18c66-1ec2-4e42-a3af-f12a0f39527d')\"\n",
              "                title=\"Suggest charts\"\n",
              "                style=\"display:none;\">\n",
              "\n",
              "<svg xmlns=\"http://www.w3.org/2000/svg\" height=\"24px\"viewBox=\"0 0 24 24\"\n",
              "     width=\"24px\">\n",
              "    <g>\n",
              "        <path d=\"M19 3H5c-1.1 0-2 .9-2 2v14c0 1.1.9 2 2 2h14c1.1 0 2-.9 2-2V5c0-1.1-.9-2-2-2zM9 17H7v-7h2v7zm4 0h-2V7h2v10zm4 0h-2v-4h2v4z\"/>\n",
              "    </g>\n",
              "</svg>\n",
              "      </button>\n",
              "\n",
              "<style>\n",
              "  .colab-df-quickchart {\n",
              "      --bg-color: #E8F0FE;\n",
              "      --fill-color: #1967D2;\n",
              "      --hover-bg-color: #E2EBFA;\n",
              "      --hover-fill-color: #174EA6;\n",
              "      --disabled-fill-color: #AAA;\n",
              "      --disabled-bg-color: #DDD;\n",
              "  }\n",
              "\n",
              "  [theme=dark] .colab-df-quickchart {\n",
              "      --bg-color: #3B4455;\n",
              "      --fill-color: #D2E3FC;\n",
              "      --hover-bg-color: #434B5C;\n",
              "      --hover-fill-color: #FFFFFF;\n",
              "      --disabled-bg-color: #3B4455;\n",
              "      --disabled-fill-color: #666;\n",
              "  }\n",
              "\n",
              "  .colab-df-quickchart {\n",
              "    background-color: var(--bg-color);\n",
              "    border: none;\n",
              "    border-radius: 50%;\n",
              "    cursor: pointer;\n",
              "    display: none;\n",
              "    fill: var(--fill-color);\n",
              "    height: 32px;\n",
              "    padding: 0;\n",
              "    width: 32px;\n",
              "  }\n",
              "\n",
              "  .colab-df-quickchart:hover {\n",
              "    background-color: var(--hover-bg-color);\n",
              "    box-shadow: 0 1px 2px rgba(60, 64, 67, 0.3), 0 1px 3px 1px rgba(60, 64, 67, 0.15);\n",
              "    fill: var(--button-hover-fill-color);\n",
              "  }\n",
              "\n",
              "  .colab-df-quickchart-complete:disabled,\n",
              "  .colab-df-quickchart-complete:disabled:hover {\n",
              "    background-color: var(--disabled-bg-color);\n",
              "    fill: var(--disabled-fill-color);\n",
              "    box-shadow: none;\n",
              "  }\n",
              "\n",
              "  .colab-df-spinner {\n",
              "    border: 2px solid var(--fill-color);\n",
              "    border-color: transparent;\n",
              "    border-bottom-color: var(--fill-color);\n",
              "    animation:\n",
              "      spin 1s steps(1) infinite;\n",
              "  }\n",
              "\n",
              "  @keyframes spin {\n",
              "    0% {\n",
              "      border-color: transparent;\n",
              "      border-bottom-color: var(--fill-color);\n",
              "      border-left-color: var(--fill-color);\n",
              "    }\n",
              "    20% {\n",
              "      border-color: transparent;\n",
              "      border-left-color: var(--fill-color);\n",
              "      border-top-color: var(--fill-color);\n",
              "    }\n",
              "    30% {\n",
              "      border-color: transparent;\n",
              "      border-left-color: var(--fill-color);\n",
              "      border-top-color: var(--fill-color);\n",
              "      border-right-color: var(--fill-color);\n",
              "    }\n",
              "    40% {\n",
              "      border-color: transparent;\n",
              "      border-right-color: var(--fill-color);\n",
              "      border-top-color: var(--fill-color);\n",
              "    }\n",
              "    60% {\n",
              "      border-color: transparent;\n",
              "      border-right-color: var(--fill-color);\n",
              "    }\n",
              "    80% {\n",
              "      border-color: transparent;\n",
              "      border-right-color: var(--fill-color);\n",
              "      border-bottom-color: var(--fill-color);\n",
              "    }\n",
              "    90% {\n",
              "      border-color: transparent;\n",
              "      border-bottom-color: var(--fill-color);\n",
              "    }\n",
              "  }\n",
              "</style>\n",
              "\n",
              "      <script>\n",
              "        async function quickchart(key) {\n",
              "          const quickchartButtonEl =\n",
              "            document.querySelector('#' + key + ' button');\n",
              "          quickchartButtonEl.disabled = true;  // To prevent multiple clicks.\n",
              "          quickchartButtonEl.classList.add('colab-df-spinner');\n",
              "          try {\n",
              "            const charts = await google.colab.kernel.invokeFunction(\n",
              "                'suggestCharts', [key], {});\n",
              "          } catch (error) {\n",
              "            console.error('Error during call to suggestCharts:', error);\n",
              "          }\n",
              "          quickchartButtonEl.classList.remove('colab-df-spinner');\n",
              "          quickchartButtonEl.classList.add('colab-df-quickchart-complete');\n",
              "        }\n",
              "        (() => {\n",
              "          let quickchartButtonEl =\n",
              "            document.querySelector('#df-77d18c66-1ec2-4e42-a3af-f12a0f39527d button');\n",
              "          quickchartButtonEl.style.display =\n",
              "            google.colab.kernel.accessAllowed ? 'block' : 'none';\n",
              "        })();\n",
              "      </script>\n",
              "    </div>\n",
              "\n",
              "    </div>\n",
              "  </div>\n"
            ],
            "application/vnd.google.colaboratory.intrinsic+json": {
              "type": "dataframe",
              "summary": "{\n  \"name\": \"df\",\n  \"rows\": 8,\n  \"fields\": [\n    {\n      \"column\": \"Surgery Prim Site\",\n      \"properties\": {\n        \"dtype\": \"number\",\n        \"std\": 109252.14644687364,\n        \"min\": 0.0,\n        \"max\": 309044.0,\n        \"num_unique_values\": 7,\n        \"samples\": [\n          309044.0,\n          27.623594051332496,\n          41.0\n        ],\n        \"semantic_type\": \"\",\n        \"description\": \"\"\n      }\n    },\n    {\n      \"column\": \"Survival months\",\n      \"properties\": {\n        \"dtype\": \"number\",\n        \"std\": 109254.42083154162,\n        \"min\": 0.0,\n        \"max\": 309044.0,\n        \"num_unique_values\": 8,\n        \"samples\": [\n          26.606431446654845,\n          25.0,\n          309044.0\n        ],\n        \"semantic_type\": \"\",\n        \"description\": \"\"\n      }\n    }\n  ]\n}"
            }
          },
          "metadata": {},
          "execution_count": 7
        }
      ]
    },
    {
      "cell_type": "markdown",
      "source": [
        "#Pandas Profiling(EDA)"
      ],
      "metadata": {
        "id": "9BE_pDr2pUxq"
      }
    },
    {
      "cell_type": "code",
      "source": [
        "!pip install -U pandas-profiling\n",
        "# 세션 다시 시작"
      ],
      "metadata": {
        "colab": {
          "base_uri": "https://localhost:8080/"
        },
        "outputId": "80699710-7dbe-4870-fe4a-3ada988fb7df",
        "id": "F6yt7X_NpUxq",
        "collapsed": true
      },
      "execution_count": null,
      "outputs": [
        {
          "output_type": "stream",
          "name": "stdout",
          "text": [
            "Collecting pandas-profiling\n",
            "  Downloading pandas_profiling-3.2.0-py2.py3-none-any.whl.metadata (21 kB)\n",
            "Collecting joblib~=1.1.0 (from pandas-profiling)\n",
            "  Downloading joblib-1.1.1-py2.py3-none-any.whl.metadata (5.2 kB)\n",
            "Requirement already satisfied: scipy>=1.4.1 in /usr/local/lib/python3.12/dist-packages (from pandas-profiling) (1.16.1)\n",
            "Requirement already satisfied: pandas!=1.0.0,!=1.0.1,!=1.0.2,!=1.1.0,>=0.25.3 in /usr/local/lib/python3.12/dist-packages (from pandas-profiling) (2.2.2)\n",
            "Requirement already satisfied: matplotlib>=3.2.0 in /usr/local/lib/python3.12/dist-packages (from pandas-profiling) (3.10.0)\n",
            "Requirement already satisfied: pydantic>=1.8.1 in /usr/local/lib/python3.12/dist-packages (from pandas-profiling) (2.11.7)\n",
            "Requirement already satisfied: PyYAML>=5.0.0 in /usr/local/lib/python3.12/dist-packages (from pandas-profiling) (6.0.2)\n",
            "Requirement already satisfied: jinja2>=2.11.1 in /usr/local/lib/python3.12/dist-packages (from pandas-profiling) (3.1.6)\n",
            "Collecting markupsafe~=2.1.1 (from pandas-profiling)\n",
            "  Downloading MarkupSafe-2.1.5-cp312-cp312-manylinux_2_17_x86_64.manylinux2014_x86_64.whl.metadata (3.0 kB)\n",
            "Collecting visions==0.7.4 (from visions[type_image_path]==0.7.4->pandas-profiling)\n",
            "  Downloading visions-0.7.4-py3-none-any.whl.metadata (5.9 kB)\n",
            "Requirement already satisfied: numpy>=1.16.0 in /usr/local/lib/python3.12/dist-packages (from pandas-profiling) (2.0.2)\n",
            "Collecting htmlmin>=0.1.12 (from pandas-profiling)\n",
            "  Downloading htmlmin-0.1.12.tar.gz (19 kB)\n",
            "  Preparing metadata (setup.py) ... \u001b[?25l\u001b[?25hdone\n",
            "Requirement already satisfied: missingno>=0.4.2 in /usr/local/lib/python3.12/dist-packages (from pandas-profiling) (0.5.2)\n",
            "Collecting phik>=0.11.1 (from pandas-profiling)\n",
            "  Downloading phik-0.12.5-cp312-cp312-manylinux_2_24_x86_64.manylinux_2_28_x86_64.whl.metadata (5.6 kB)\n",
            "Collecting tangled-up-in-unicode==0.2.0 (from pandas-profiling)\n",
            "  Downloading tangled_up_in_unicode-0.2.0-py3-none-any.whl.metadata (4.8 kB)\n",
            "Requirement already satisfied: requests>=2.24.0 in /usr/local/lib/python3.12/dist-packages (from pandas-profiling) (2.32.4)\n",
            "Requirement already satisfied: tqdm>=4.48.2 in /usr/local/lib/python3.12/dist-packages (from pandas-profiling) (4.67.1)\n",
            "Requirement already satisfied: seaborn>=0.10.1 in /usr/local/lib/python3.12/dist-packages (from pandas-profiling) (0.13.2)\n",
            "Collecting multimethod>=1.4 (from pandas-profiling)\n",
            "  Downloading multimethod-2.0-py3-none-any.whl.metadata (9.2 kB)\n",
            "Requirement already satisfied: attrs>=19.3.0 in /usr/local/lib/python3.12/dist-packages (from visions==0.7.4->visions[type_image_path]==0.7.4->pandas-profiling) (25.3.0)\n",
            "Requirement already satisfied: networkx>=2.4 in /usr/local/lib/python3.12/dist-packages (from visions==0.7.4->visions[type_image_path]==0.7.4->pandas-profiling) (3.5)\n",
            "Collecting imagehash (from visions[type_image_path]==0.7.4->pandas-profiling)\n",
            "  Downloading ImageHash-4.3.2-py2.py3-none-any.whl.metadata (8.4 kB)\n",
            "Requirement already satisfied: Pillow in /usr/local/lib/python3.12/dist-packages (from visions[type_image_path]==0.7.4->pandas-profiling) (11.3.0)\n",
            "Requirement already satisfied: contourpy>=1.0.1 in /usr/local/lib/python3.12/dist-packages (from matplotlib>=3.2.0->pandas-profiling) (1.3.3)\n",
            "Requirement already satisfied: cycler>=0.10 in /usr/local/lib/python3.12/dist-packages (from matplotlib>=3.2.0->pandas-profiling) (0.12.1)\n",
            "Requirement already satisfied: fonttools>=4.22.0 in /usr/local/lib/python3.12/dist-packages (from matplotlib>=3.2.0->pandas-profiling) (4.59.1)\n",
            "Requirement already satisfied: kiwisolver>=1.3.1 in /usr/local/lib/python3.12/dist-packages (from matplotlib>=3.2.0->pandas-profiling) (1.4.9)\n",
            "Requirement already satisfied: packaging>=20.0 in /usr/local/lib/python3.12/dist-packages (from matplotlib>=3.2.0->pandas-profiling) (25.0)\n",
            "Requirement already satisfied: pyparsing>=2.3.1 in /usr/local/lib/python3.12/dist-packages (from matplotlib>=3.2.0->pandas-profiling) (3.2.3)\n",
            "Requirement already satisfied: python-dateutil>=2.7 in /usr/local/lib/python3.12/dist-packages (from matplotlib>=3.2.0->pandas-profiling) (2.9.0.post0)\n",
            "Requirement already satisfied: pytz>=2020.1 in /usr/local/lib/python3.12/dist-packages (from pandas!=1.0.0,!=1.0.1,!=1.0.2,!=1.1.0,>=0.25.3->pandas-profiling) (2025.2)\n",
            "Requirement already satisfied: tzdata>=2022.7 in /usr/local/lib/python3.12/dist-packages (from pandas!=1.0.0,!=1.0.1,!=1.0.2,!=1.1.0,>=0.25.3->pandas-profiling) (2025.2)\n",
            "Requirement already satisfied: annotated-types>=0.6.0 in /usr/local/lib/python3.12/dist-packages (from pydantic>=1.8.1->pandas-profiling) (0.7.0)\n",
            "Requirement already satisfied: pydantic-core==2.33.2 in /usr/local/lib/python3.12/dist-packages (from pydantic>=1.8.1->pandas-profiling) (2.33.2)\n",
            "Requirement already satisfied: typing-extensions>=4.12.2 in /usr/local/lib/python3.12/dist-packages (from pydantic>=1.8.1->pandas-profiling) (4.14.1)\n",
            "Requirement already satisfied: typing-inspection>=0.4.0 in /usr/local/lib/python3.12/dist-packages (from pydantic>=1.8.1->pandas-profiling) (0.4.1)\n",
            "Requirement already satisfied: charset_normalizer<4,>=2 in /usr/local/lib/python3.12/dist-packages (from requests>=2.24.0->pandas-profiling) (3.4.3)\n",
            "Requirement already satisfied: idna<4,>=2.5 in /usr/local/lib/python3.12/dist-packages (from requests>=2.24.0->pandas-profiling) (3.10)\n",
            "Requirement already satisfied: urllib3<3,>=1.21.1 in /usr/local/lib/python3.12/dist-packages (from requests>=2.24.0->pandas-profiling) (2.5.0)\n",
            "Requirement already satisfied: certifi>=2017.4.17 in /usr/local/lib/python3.12/dist-packages (from requests>=2.24.0->pandas-profiling) (2025.8.3)\n",
            "Requirement already satisfied: six>=1.5 in /usr/local/lib/python3.12/dist-packages (from python-dateutil>=2.7->matplotlib>=3.2.0->pandas-profiling) (1.17.0)\n",
            "Requirement already satisfied: PyWavelets in /usr/local/lib/python3.12/dist-packages (from imagehash->visions[type_image_path]==0.7.4->pandas-profiling) (1.9.0)\n",
            "Downloading pandas_profiling-3.2.0-py2.py3-none-any.whl (262 kB)\n",
            "\u001b[2K   \u001b[90m━━━━━━━━━━━━━━━━━━━━━━━━━━━━━━━━━━━━━━━━\u001b[0m \u001b[32m262.6/262.6 kB\u001b[0m \u001b[31m6.8 MB/s\u001b[0m eta \u001b[36m0:00:00\u001b[0m\n",
            "\u001b[?25hDownloading tangled_up_in_unicode-0.2.0-py3-none-any.whl (4.7 MB)\n",
            "\u001b[2K   \u001b[90m━━━━━━━━━━━━━━━━━━━━━━━━━━━━━━━━━━━━━━━━\u001b[0m \u001b[32m4.7/4.7 MB\u001b[0m \u001b[31m56.8 MB/s\u001b[0m eta \u001b[36m0:00:00\u001b[0m\n",
            "\u001b[?25hDownloading visions-0.7.4-py3-none-any.whl (102 kB)\n",
            "\u001b[2K   \u001b[90m━━━━━━━━━━━━━━━━━━━━━━━━━━━━━━━━━━━━━━━━\u001b[0m \u001b[32m102.4/102.4 kB\u001b[0m \u001b[31m8.0 MB/s\u001b[0m eta \u001b[36m0:00:00\u001b[0m\n",
            "\u001b[?25hDownloading joblib-1.1.1-py2.py3-none-any.whl (309 kB)\n",
            "\u001b[2K   \u001b[90m━━━━━━━━━━━━━━━━━━━━━━━━━━━━━━━━━━━━━━━━\u001b[0m \u001b[32m309.8/309.8 kB\u001b[0m \u001b[31m21.2 MB/s\u001b[0m eta \u001b[36m0:00:00\u001b[0m\n",
            "\u001b[?25hDownloading MarkupSafe-2.1.5-cp312-cp312-manylinux_2_17_x86_64.manylinux2014_x86_64.whl (28 kB)\n",
            "Downloading multimethod-2.0-py3-none-any.whl (9.8 kB)\n",
            "Downloading phik-0.12.5-cp312-cp312-manylinux_2_24_x86_64.manylinux_2_28_x86_64.whl (679 kB)\n",
            "\u001b[2K   \u001b[90m━━━━━━━━━━━━━━━━━━━━━━━━━━━━━━━━━━━━━━━━\u001b[0m \u001b[32m679.7/679.7 kB\u001b[0m \u001b[31m32.6 MB/s\u001b[0m eta \u001b[36m0:00:00\u001b[0m\n",
            "\u001b[?25hDownloading ImageHash-4.3.2-py2.py3-none-any.whl (296 kB)\n",
            "\u001b[2K   \u001b[90m━━━━━━━━━━━━━━━━━━━━━━━━━━━━━━━━━━━━━━━━\u001b[0m \u001b[32m296.7/296.7 kB\u001b[0m \u001b[31m19.4 MB/s\u001b[0m eta \u001b[36m0:00:00\u001b[0m\n",
            "\u001b[?25hBuilding wheels for collected packages: htmlmin\n",
            "  Building wheel for htmlmin (setup.py) ... \u001b[?25l\u001b[?25hdone\n",
            "  Created wheel for htmlmin: filename=htmlmin-0.1.12-py3-none-any.whl size=27081 sha256=c888865e8e4826444e12150ced4ab181ca18c769717f16e36a1333098c2a6935\n",
            "  Stored in directory: /root/.cache/pip/wheels/5f/d4/d7/4189b07b5902ee9f3ce0dbb14909fbe8037c39d6c63ffd49c9\n",
            "Successfully built htmlmin\n",
            "Installing collected packages: htmlmin, tangled-up-in-unicode, multimethod, markupsafe, joblib, imagehash, visions, phik, pandas-profiling\n",
            "  Attempting uninstall: markupsafe\n",
            "    Found existing installation: MarkupSafe 3.0.2\n",
            "    Uninstalling MarkupSafe-3.0.2:\n",
            "      Successfully uninstalled MarkupSafe-3.0.2\n",
            "  Attempting uninstall: joblib\n",
            "    Found existing installation: joblib 1.5.1\n",
            "    Uninstalling joblib-1.5.1:\n",
            "      Successfully uninstalled joblib-1.5.1\n",
            "\u001b[31mERROR: pip's dependency resolver does not currently take into account all the packages that are installed. This behaviour is the source of the following dependency conflicts.\n",
            "scikit-learn 1.6.1 requires joblib>=1.2.0, but you have joblib 1.1.1 which is incompatible.\n",
            "imbalanced-learn 0.14.0 requires joblib<2,>=1.2.0, but you have joblib 1.1.1 which is incompatible.\u001b[0m\u001b[31m\n",
            "\u001b[0mSuccessfully installed htmlmin-0.1.12 imagehash-4.3.2 joblib-1.1.1 markupsafe-2.1.5 multimethod-2.0 pandas-profiling-3.2.0 phik-0.12.5 tangled-up-in-unicode-0.2.0 visions-0.7.4\n"
          ]
        }
      ]
    },
    {
      "cell_type": "code",
      "source": [
        "!pip install ydata-profiling"
      ],
      "metadata": {
        "colab": {
          "base_uri": "https://localhost:8080/",
          "height": 1000
        },
        "id": "bCbWJ3aBweZg",
        "outputId": "6137b2b2-5ab5-4e0f-88b9-dbddd3da3936",
        "collapsed": true
      },
      "execution_count": null,
      "outputs": [
        {
          "output_type": "stream",
          "name": "stdout",
          "text": [
            "Collecting ydata-profiling\n",
            "  Downloading ydata_profiling-4.16.1-py2.py3-none-any.whl.metadata (22 kB)\n",
            "Collecting scipy<1.16,>=1.4.1 (from ydata-profiling)\n",
            "  Downloading scipy-1.15.3-cp312-cp312-manylinux_2_17_x86_64.manylinux2014_x86_64.whl.metadata (61 kB)\n",
            "\u001b[2K     \u001b[90m━━━━━━━━━━━━━━━━━━━━━━━━━━━━━━━━━━━━━━━\u001b[0m \u001b[32m62.0/62.0 kB\u001b[0m \u001b[31m373.3 kB/s\u001b[0m eta \u001b[36m0:00:00\u001b[0m\n",
            "\u001b[?25hRequirement already satisfied: pandas!=1.4.0,<3.0,>1.1 in /usr/local/lib/python3.12/dist-packages (from ydata-profiling) (2.2.2)\n",
            "Requirement already satisfied: matplotlib<=3.10,>=3.5 in /usr/local/lib/python3.12/dist-packages (from ydata-profiling) (3.10.0)\n",
            "Requirement already satisfied: pydantic>=2 in /usr/local/lib/python3.12/dist-packages (from ydata-profiling) (2.11.7)\n",
            "Requirement already satisfied: PyYAML<6.1,>=5.0.0 in /usr/local/lib/python3.12/dist-packages (from ydata-profiling) (6.0.2)\n",
            "Requirement already satisfied: jinja2<3.2,>=2.11.1 in /usr/local/lib/python3.12/dist-packages (from ydata-profiling) (3.1.6)\n",
            "Collecting visions<0.8.2,>=0.7.5 (from visions[type_image_path]<0.8.2,>=0.7.5->ydata-profiling)\n",
            "  Downloading visions-0.8.1-py3-none-any.whl.metadata (11 kB)\n",
            "Requirement already satisfied: numpy<2.2,>=1.16.0 in /usr/local/lib/python3.12/dist-packages (from ydata-profiling) (2.0.2)\n",
            "Requirement already satisfied: htmlmin==0.1.12 in /usr/local/lib/python3.12/dist-packages (from ydata-profiling) (0.1.12)\n",
            "Requirement already satisfied: phik<0.13,>=0.11.1 in /usr/local/lib/python3.12/dist-packages (from ydata-profiling) (0.12.5)\n",
            "Requirement already satisfied: requests<3,>=2.24.0 in /usr/local/lib/python3.12/dist-packages (from ydata-profiling) (2.32.4)\n",
            "Requirement already satisfied: tqdm<5,>=4.48.2 in /usr/local/lib/python3.12/dist-packages (from ydata-profiling) (4.67.1)\n",
            "Requirement already satisfied: seaborn<0.14,>=0.10.1 in /usr/local/lib/python3.12/dist-packages (from ydata-profiling) (0.13.2)\n",
            "Collecting multimethod<2,>=1.4 (from ydata-profiling)\n",
            "  Downloading multimethod-1.12-py3-none-any.whl.metadata (9.6 kB)\n",
            "Requirement already satisfied: statsmodels<1,>=0.13.2 in /usr/local/lib/python3.12/dist-packages (from ydata-profiling) (0.14.5)\n",
            "Requirement already satisfied: typeguard<5,>=3 in /usr/local/lib/python3.12/dist-packages (from ydata-profiling) (4.4.4)\n",
            "Collecting imagehash==4.3.1 (from ydata-profiling)\n",
            "  Downloading ImageHash-4.3.1-py2.py3-none-any.whl.metadata (8.0 kB)\n",
            "Requirement already satisfied: wordcloud>=1.9.3 in /usr/local/lib/python3.12/dist-packages (from ydata-profiling) (1.9.4)\n",
            "Collecting dacite>=1.8 (from ydata-profiling)\n",
            "  Downloading dacite-1.9.2-py3-none-any.whl.metadata (17 kB)\n",
            "Requirement already satisfied: numba<=0.61,>=0.56.0 in /usr/local/lib/python3.12/dist-packages (from ydata-profiling) (0.60.0)\n",
            "Requirement already satisfied: PyWavelets in /usr/local/lib/python3.12/dist-packages (from imagehash==4.3.1->ydata-profiling) (1.9.0)\n",
            "Requirement already satisfied: pillow in /usr/local/lib/python3.12/dist-packages (from imagehash==4.3.1->ydata-profiling) (11.3.0)\n",
            "Requirement already satisfied: MarkupSafe>=2.0 in /usr/local/lib/python3.12/dist-packages (from jinja2<3.2,>=2.11.1->ydata-profiling) (2.1.5)\n",
            "Requirement already satisfied: contourpy>=1.0.1 in /usr/local/lib/python3.12/dist-packages (from matplotlib<=3.10,>=3.5->ydata-profiling) (1.3.3)\n",
            "Requirement already satisfied: cycler>=0.10 in /usr/local/lib/python3.12/dist-packages (from matplotlib<=3.10,>=3.5->ydata-profiling) (0.12.1)\n",
            "Requirement already satisfied: fonttools>=4.22.0 in /usr/local/lib/python3.12/dist-packages (from matplotlib<=3.10,>=3.5->ydata-profiling) (4.59.1)\n",
            "Requirement already satisfied: kiwisolver>=1.3.1 in /usr/local/lib/python3.12/dist-packages (from matplotlib<=3.10,>=3.5->ydata-profiling) (1.4.9)\n",
            "Requirement already satisfied: packaging>=20.0 in /usr/local/lib/python3.12/dist-packages (from matplotlib<=3.10,>=3.5->ydata-profiling) (25.0)\n",
            "Requirement already satisfied: pyparsing>=2.3.1 in /usr/local/lib/python3.12/dist-packages (from matplotlib<=3.10,>=3.5->ydata-profiling) (3.2.3)\n",
            "Requirement already satisfied: python-dateutil>=2.7 in /usr/local/lib/python3.12/dist-packages (from matplotlib<=3.10,>=3.5->ydata-profiling) (2.9.0.post0)\n",
            "Requirement already satisfied: llvmlite<0.44,>=0.43.0dev0 in /usr/local/lib/python3.12/dist-packages (from numba<=0.61,>=0.56.0->ydata-profiling) (0.43.0)\n",
            "Requirement already satisfied: pytz>=2020.1 in /usr/local/lib/python3.12/dist-packages (from pandas!=1.4.0,<3.0,>1.1->ydata-profiling) (2025.2)\n",
            "Requirement already satisfied: tzdata>=2022.7 in /usr/local/lib/python3.12/dist-packages (from pandas!=1.4.0,<3.0,>1.1->ydata-profiling) (2025.2)\n",
            "Requirement already satisfied: joblib>=0.14.1 in /usr/local/lib/python3.12/dist-packages (from phik<0.13,>=0.11.1->ydata-profiling) (1.1.1)\n",
            "Requirement already satisfied: annotated-types>=0.6.0 in /usr/local/lib/python3.12/dist-packages (from pydantic>=2->ydata-profiling) (0.7.0)\n",
            "Requirement already satisfied: pydantic-core==2.33.2 in /usr/local/lib/python3.12/dist-packages (from pydantic>=2->ydata-profiling) (2.33.2)\n",
            "Requirement already satisfied: typing-extensions>=4.12.2 in /usr/local/lib/python3.12/dist-packages (from pydantic>=2->ydata-profiling) (4.14.1)\n",
            "Requirement already satisfied: typing-inspection>=0.4.0 in /usr/local/lib/python3.12/dist-packages (from pydantic>=2->ydata-profiling) (0.4.1)\n",
            "Requirement already satisfied: charset_normalizer<4,>=2 in /usr/local/lib/python3.12/dist-packages (from requests<3,>=2.24.0->ydata-profiling) (3.4.3)\n",
            "Requirement already satisfied: idna<4,>=2.5 in /usr/local/lib/python3.12/dist-packages (from requests<3,>=2.24.0->ydata-profiling) (3.10)\n",
            "Requirement already satisfied: urllib3<3,>=1.21.1 in /usr/local/lib/python3.12/dist-packages (from requests<3,>=2.24.0->ydata-profiling) (2.5.0)\n",
            "Requirement already satisfied: certifi>=2017.4.17 in /usr/local/lib/python3.12/dist-packages (from requests<3,>=2.24.0->ydata-profiling) (2025.8.3)\n",
            "Requirement already satisfied: patsy>=0.5.6 in /usr/local/lib/python3.12/dist-packages (from statsmodels<1,>=0.13.2->ydata-profiling) (1.0.1)\n",
            "Requirement already satisfied: attrs>=19.3.0 in /usr/local/lib/python3.12/dist-packages (from visions<0.8.2,>=0.7.5->visions[type_image_path]<0.8.2,>=0.7.5->ydata-profiling) (25.3.0)\n",
            "Requirement already satisfied: networkx>=2.4 in /usr/local/lib/python3.12/dist-packages (from visions<0.8.2,>=0.7.5->visions[type_image_path]<0.8.2,>=0.7.5->ydata-profiling) (3.5)\n",
            "Collecting puremagic (from visions<0.8.2,>=0.7.5->visions[type_image_path]<0.8.2,>=0.7.5->ydata-profiling)\n",
            "  Downloading puremagic-1.30-py3-none-any.whl.metadata (5.8 kB)\n",
            "Requirement already satisfied: six>=1.5 in /usr/local/lib/python3.12/dist-packages (from python-dateutil>=2.7->matplotlib<=3.10,>=3.5->ydata-profiling) (1.17.0)\n",
            "Downloading ydata_profiling-4.16.1-py2.py3-none-any.whl (400 kB)\n",
            "\u001b[2K   \u001b[90m━━━━━━━━━━━━━━━━━━━━━━━━━━━━━━━━━━━━━━━━\u001b[0m \u001b[32m400.1/400.1 kB\u001b[0m \u001b[31m8.0 MB/s\u001b[0m eta \u001b[36m0:00:00\u001b[0m\n",
            "\u001b[?25hDownloading ImageHash-4.3.1-py2.py3-none-any.whl (296 kB)\n",
            "\u001b[2K   \u001b[90m━━━━━━━━━━━━━━━━━━━━━━━━━━━━━━━━━━━━━━━━\u001b[0m \u001b[32m296.5/296.5 kB\u001b[0m \u001b[31m13.1 MB/s\u001b[0m eta \u001b[36m0:00:00\u001b[0m\n",
            "\u001b[?25hDownloading dacite-1.9.2-py3-none-any.whl (16 kB)\n",
            "Downloading multimethod-1.12-py3-none-any.whl (10 kB)\n",
            "Downloading scipy-1.15.3-cp312-cp312-manylinux_2_17_x86_64.manylinux2014_x86_64.whl (37.3 MB)\n",
            "\u001b[2K   \u001b[90m━━━━━━━━━━━━━━━━━━━━━━━━━━━━━━━━━━━━━━━━\u001b[0m \u001b[32m37.3/37.3 MB\u001b[0m \u001b[31m38.2 MB/s\u001b[0m eta \u001b[36m0:00:00\u001b[0m\n",
            "\u001b[?25hDownloading visions-0.8.1-py3-none-any.whl (105 kB)\n",
            "\u001b[2K   \u001b[90m━━━━━━━━━━━━━━━━━━━━━━━━━━━━━━━━━━━━━━━━\u001b[0m \u001b[32m105.4/105.4 kB\u001b[0m \u001b[31m5.1 MB/s\u001b[0m eta \u001b[36m0:00:00\u001b[0m\n",
            "\u001b[?25hDownloading puremagic-1.30-py3-none-any.whl (43 kB)\n",
            "\u001b[2K   \u001b[90m━━━━━━━━━━━━━━━━━━━━━━━━━━━━━━━━━━━━━━━━\u001b[0m \u001b[32m43.3/43.3 kB\u001b[0m \u001b[31m3.2 MB/s\u001b[0m eta \u001b[36m0:00:00\u001b[0m\n",
            "\u001b[?25hInstalling collected packages: puremagic, scipy, multimethod, dacite, imagehash, visions, ydata-profiling\n",
            "  Attempting uninstall: scipy\n",
            "    Found existing installation: scipy 1.16.1\n",
            "    Uninstalling scipy-1.16.1:\n",
            "      Successfully uninstalled scipy-1.16.1\n",
            "  Attempting uninstall: multimethod\n",
            "    Found existing installation: multimethod 2.0\n",
            "    Uninstalling multimethod-2.0:\n",
            "      Successfully uninstalled multimethod-2.0\n",
            "  Attempting uninstall: imagehash\n",
            "    Found existing installation: ImageHash 4.3.2\n",
            "    Uninstalling ImageHash-4.3.2:\n",
            "      Successfully uninstalled ImageHash-4.3.2\n",
            "  Attempting uninstall: visions\n",
            "    Found existing installation: visions 0.7.4\n",
            "    Uninstalling visions-0.7.4:\n",
            "      Successfully uninstalled visions-0.7.4\n",
            "\u001b[31mERROR: pip's dependency resolver does not currently take into account all the packages that are installed. This behaviour is the source of the following dependency conflicts.\n",
            "pandas-profiling 3.2.0 requires visions[type_image_path]==0.7.4, but you have visions 0.8.1 which is incompatible.\n",
            "scikit-learn 1.6.1 requires joblib>=1.2.0, but you have joblib 1.1.1 which is incompatible.\n",
            "imbalanced-learn 0.14.0 requires joblib<2,>=1.2.0, but you have joblib 1.1.1 which is incompatible.\u001b[0m\u001b[31m\n",
            "\u001b[0mSuccessfully installed dacite-1.9.2 imagehash-4.3.1 multimethod-1.12 puremagic-1.30 scipy-1.15.3 visions-0.8.1 ydata-profiling-4.16.1\n"
          ]
        },
        {
          "output_type": "display_data",
          "data": {
            "application/vnd.colab-display-data+json": {
              "pip_warning": {
                "packages": [
                  "scipy"
                ]
              },
              "id": "b0ed510dc8ac4db5a7b3ceeafc3bbade"
            }
          },
          "metadata": {}
        }
      ]
    },
    {
      "cell_type": "code",
      "source": [
        "import seaborn as sns\n",
        "import pandas as pd"
      ],
      "metadata": {
        "id": "_O1hxcb3pUxq"
      },
      "execution_count": null,
      "outputs": []
    },
    {
      "cell_type": "code",
      "source": [
        "# profiling\n",
        "import pandas as pd\n",
        "import ydata_profiling\n",
        "pr = df.profile_report() # 프로파일링 결과 리포트를 pr에 저장\n",
        "pr.to_file('./df_report.html') # pr_report.html 파일로 저장"
      ],
      "metadata": {
        "colab": {
          "base_uri": "https://localhost:8080/",
          "height": 507,
          "referenced_widgets": [
            "420b61dc4315495c8991cb03547501ea",
            "99aeb8d12eb749599fa9e155b8bd6982",
            "001ce152beda4b7ea8ed2b72f60ef2ca",
            "554b1e827615429097083abad7062867",
            "d2b97a541cc9412784ac79c91fbfdf2f",
            "23e9ad17a84e466f8f435a1483920605",
            "1abb018fc17c4145867b7c07a66989a5",
            "da3b9a21480f412f870aa866b0e18b90",
            "db52902952d54fa8afc22259580d3e53",
            "7f57c23e95d340c19c7fa855bdf12efe",
            "927226c6b9184a12a0cfd428d22f3a48",
            "ad4c3848eca64166af806a27e6e29c8e",
            "7bd3cf46685b4c21900471ab2e51b110",
            "06e95eafbeed42e38d2ecd30d17907f9",
            "20457e7a45c44fe19c63417e8aeb234b",
            "20ef5c4c41ae4a99b2a11043a839ebc9",
            "9ce7ac1c2fd64e3f8010470739d3e82f",
            "4200ee6b1f154c808a14821903300e69",
            "2408408239d94e34af23a7909cca8bb7",
            "f0499bd2e88c4d92b3b76799b229b67c",
            "54c194358476461097a609343a0c6d6e",
            "ae2e0c9c1e244120925910fd48af248c",
            "38c90ba55cf24021aa19cc9ad496594c",
            "5a3598216c1b4961a21dd5d2b10315f9",
            "bd93db85ddca4cefb6eb86d2db84fc94",
            "ac0b2075eb574240806b5d10182b1813",
            "2e4313000981401abb93ab67d9faff41",
            "2f4768c62cee4a63b128e3defbb06a34",
            "1743f03e3c634aa79645b4f813debce4",
            "84994588a8314ad49453a607743d7846",
            "8eaec591e5f64599b3684ae4779992ae",
            "7fbe00c038d74567816be2d18a145599",
            "ad58b0c0bede47fba985eb92d39fae6c",
            "59095e87bab141da96c52ffa244e44df",
            "25f2714500f64e158aa8931932c4d415",
            "13846d1336fa42cfaebe37d12b9f9411",
            "3420c6e99e10438b971932ae49425e72",
            "d09c242750924c99b01b2639b044ff5b",
            "373f5dcec29344e395df70835c053bfa",
            "214304c768c94a20bb85f97c33be4037",
            "c5e4b4a2af0d4a648d95ee1d5fa6d695",
            "432e2322f61649f4815bde1cd9b170e0",
            "1293c4013d884c8dbe5602bfd4e29bce",
            "da387c41c8b4402abf9ee248934e93c8"
          ]
        },
        "outputId": "54927515-168a-4f21-b454-748fe899a865",
        "id": "etQfCfF7pUxr"
      },
      "execution_count": null,
      "outputs": [
        {
          "output_type": "display_data",
          "data": {
            "text/plain": [
              "<IPython.core.display.HTML object>"
            ],
            "text/html": [
              "\n",
              "            <div>\n",
              "                <ins><a href=\"https://ydata.ai/register\">Upgrade to ydata-sdk</a></ins>\n",
              "                <p>\n",
              "                    Improve your data and profiling with ydata-sdk, featuring data quality scoring, redundancy detection, outlier identification, text validation, and synthetic data generation.\n",
              "                </p>\n",
              "            </div>\n",
              "            "
            ]
          },
          "metadata": {}
        },
        {
          "output_type": "display_data",
          "data": {
            "text/plain": [
              "Summarize dataset:   0%|          | 0/5 [00:00<?, ?it/s]"
            ],
            "application/vnd.jupyter.widget-view+json": {
              "version_major": 2,
              "version_minor": 0,
              "model_id": "420b61dc4315495c8991cb03547501ea"
            }
          },
          "metadata": {}
        },
        {
          "output_type": "stream",
          "name": "stderr",
          "text": [
            "\n",
            "  0%|          | 0/24 [00:00<?, ?it/s]\u001b[A\n",
            "  4%|▍         | 1/24 [00:02<00:48,  2.12s/it]\u001b[A\n",
            " 12%|█▎        | 3/24 [00:05<00:35,  1.70s/it]\u001b[A\n",
            " 21%|██        | 5/24 [00:07<00:24,  1.28s/it]\u001b[A\n",
            " 29%|██▉       | 7/24 [00:08<00:18,  1.10s/it]\u001b[A\n",
            " 38%|███▊      | 9/24 [00:10<00:15,  1.01s/it]\u001b[A\n",
            " 46%|████▌     | 11/24 [00:12<00:12,  1.02it/s]\u001b[A\n",
            " 54%|█████▍    | 13/24 [00:13<00:10,  1.09it/s]\u001b[A\n",
            " 62%|██████▎   | 15/24 [00:15<00:08,  1.06it/s]\u001b[A\n",
            " 67%|██████▋   | 16/24 [00:16<00:06,  1.24it/s]\u001b[A\n",
            " 71%|███████   | 17/24 [00:18<00:08,  1.22s/it]\u001b[A\n",
            " 79%|███████▉  | 19/24 [00:19<00:04,  1.21it/s]\u001b[A\n",
            " 83%|████████▎ | 20/24 [00:20<00:03,  1.09it/s]\u001b[A\n",
            " 92%|█████████▏| 22/24 [00:21<00:01,  1.21it/s]\u001b[A\n",
            "100%|██████████| 24/24 [00:22<00:00,  1.08it/s]\n"
          ]
        },
        {
          "output_type": "display_data",
          "data": {
            "text/plain": [
              "Generate report structure:   0%|          | 0/1 [00:00<?, ?it/s]"
            ],
            "application/vnd.jupyter.widget-view+json": {
              "version_major": 2,
              "version_minor": 0,
              "model_id": "ad4c3848eca64166af806a27e6e29c8e"
            }
          },
          "metadata": {}
        },
        {
          "output_type": "display_data",
          "data": {
            "text/plain": [
              "Render HTML:   0%|          | 0/1 [00:00<?, ?it/s]"
            ],
            "application/vnd.jupyter.widget-view+json": {
              "version_major": 2,
              "version_minor": 0,
              "model_id": "38c90ba55cf24021aa19cc9ad496594c"
            }
          },
          "metadata": {}
        },
        {
          "output_type": "display_data",
          "data": {
            "text/plain": [
              "Export report to file:   0%|          | 0/1 [00:00<?, ?it/s]"
            ],
            "application/vnd.jupyter.widget-view+json": {
              "version_major": 2,
              "version_minor": 0,
              "model_id": "59095e87bab141da96c52ffa244e44df"
            }
          },
          "metadata": {}
        }
      ]
    },
    {
      "cell_type": "markdown",
      "source": [
        "# 전처리"
      ],
      "metadata": {
        "id": "OZjGBJbUpA_G"
      }
    },
    {
      "cell_type": "code",
      "source": [
        "\n",
        "# 분석 대상 열 목록\n",
        "columns_to_check = [\n",
        "   'Sex', 'Age', 'Race', 'Marital status', 'ER', 'HER2', 'PR',\n",
        "       'T/N/M Stage', 'Behavior code', 'Sequence number', 'Chemotherapy',\n",
        "       'Mets all', 'Mets at bone', 'Mets at brain', 'Mets at liver',\n",
        "       'Mets at lung', 'Radiation', 'Surgery Oth Reg/Dis', 'Surgery Prim Site',\n",
        "       'Rural-Urban', 'cancer treatment delay', 'Income', 'Survival months',\n",
        "       'Cancer Site'\n",
        "]\n",
        "\n",
        "# 컬럼별 고유값 카운트 출력\n",
        "for col in columns_to_check:\n",
        "    print(f\"\\n===== [{col}] =====\")\n",
        "    print(df[col].value_counts(dropna=False))  # NaN 포함해서 카운트"
      ],
      "metadata": {
        "colab": {
          "base_uri": "https://localhost:8080/"
        },
        "id": "IHdTYQl6o_Wd",
        "outputId": "5e223ef4-06b4-434a-c8a4-2fb2f7805259"
      },
      "execution_count": null,
      "outputs": [
        {
          "output_type": "stream",
          "name": "stdout",
          "text": [
            "\n",
            "===== [Sex] =====\n",
            "Sex\n",
            "Female    306641\n",
            "Male        2403\n",
            "Name: count, dtype: int64\n",
            "\n",
            "===== [Age] =====\n",
            "Age\n",
            "65-69 years    45109\n",
            "60-64 years    41898\n",
            "70-74 years    41512\n",
            "55-59 years    35023\n",
            "50-54 years    30191\n",
            "75-79 years    28290\n",
            "45-49 years    25334\n",
            "80-84 years    17008\n",
            "40-44 years    16964\n",
            "85-89 years     9023\n",
            "35-39 years     8669\n",
            "90+ years       4247\n",
            "30-34 years     4185\n",
            "25-29 years     1390\n",
            "20-24 years      187\n",
            "15-19 years       13\n",
            "05-09 years        1\n",
            "Name: count, dtype: int64\n",
            "\n",
            "===== [Race] =====\n",
            "Race\n",
            "White                            237361\n",
            "Black                             33594\n",
            "Asian or Pacific Islander         33237\n",
            "Unknown                            2558\n",
            "American Indian/Alaska Native      2294\n",
            "Name: count, dtype: int64\n",
            "\n",
            "===== [Marital status] =====\n",
            "Marital status\n",
            "Married (including common law)    171937\n",
            "Never married                      49652\n",
            "Widowed                            38557\n",
            "Divorced                           32988\n",
            "Unknown                            10289\n",
            "Separated                           3270\n",
            "Unmarried or Domestic Partner       2351\n",
            "Name: count, dtype: int64\n",
            "\n",
            "===== [ER] =====\n",
            "ER\n",
            "Positive    262732\n",
            "Negative     46312\n",
            "Name: count, dtype: int64\n",
            "\n",
            "===== [HER2] =====\n",
            "HER2\n",
            "Negative    268075\n",
            "Positive     40969\n",
            "Name: count, dtype: int64\n",
            "\n",
            "===== [PR] =====\n",
            "PR\n",
            "Positive    229616\n",
            "Negative     79428\n",
            "Name: count, dtype: int64\n",
            "\n",
            "===== [T/N/M Stage] =====\n",
            "T/N/M Stage\n",
            "1A    177101\n",
            "1B     48244\n",
            "2A     27899\n",
            "4      17557\n",
            "2B     13880\n",
            "3B      8620\n",
            "3A      7908\n",
            "0       3924\n",
            "3C      3911\n",
            "Name: count, dtype: int64\n",
            "\n",
            "===== [Behavior code] =====\n",
            "Behavior code\n",
            "Malignant    305214\n",
            "In situ        3830\n",
            "Name: count, dtype: int64\n",
            "\n",
            "===== [Sequence number] =====\n",
            "Sequence number\n",
            "One primary only              228428\n",
            "2nd of 2 or more primaries     49645\n",
            "1st of 2 or more primaries     20442\n",
            "3rd of 3 or more primaries      8800\n",
            "4th of 4 or more primaries      1441\n",
            "5th of 5 or more primaries       288\n",
            "Name: count, dtype: int64\n",
            "\n",
            "===== [Chemotherapy] =====\n",
            "Chemotherapy\n",
            "No/Unknown    196793\n",
            "Yes           112251\n",
            "Name: count, dtype: int64\n",
            "\n",
            "===== [Mets all] =====\n",
            "Mets all\n",
            "None; no other metastases    305821\n",
            "distant                        3181\n",
            "general                          42\n",
            "Name: count, dtype: int64\n",
            "\n",
            "===== [Mets at bone] =====\n",
            "Mets at bone\n",
            "No         297165\n",
            "Yes         11757\n",
            "Unknown       122\n",
            "Name: count, dtype: int64\n",
            "\n",
            "===== [Mets at brain] =====\n",
            "Mets at brain\n",
            "No         307543\n",
            "Yes          1282\n",
            "Unknown       219\n",
            "Name: count, dtype: int64\n",
            "\n",
            "===== [Mets at liver] =====\n",
            "Mets at liver\n",
            "No         304760\n",
            "Yes          4138\n",
            "Unknown       146\n",
            "Name: count, dtype: int64\n",
            "\n",
            "===== [Mets at lung] =====\n",
            "Mets at lung\n",
            "No         303683\n",
            "Yes          5136\n",
            "Unknown       225\n",
            "Name: count, dtype: int64\n",
            "\n",
            "===== [Radiation] =====\n",
            "Radiation\n",
            "Beam radiation                                           164190\n",
            "None/Unknown                                             120536\n",
            "Refused (1988+)                                           13455\n",
            "Recommended, unknown if administered                       7094\n",
            "Radioactive implants (includes brachytherapy) (1988+)      3072\n",
            "Radiation, NOS  method or source not specified              493\n",
            "Combination of beam with implants or isotopes               181\n",
            "Radioisotopes (1988+)                                        23\n",
            "Name: count, dtype: int64\n",
            "\n",
            "===== [Surgery Oth Reg/Dis] =====\n",
            "Surgery Oth Reg/Dis\n",
            "0                                                               302455\n",
            "Non-primary surgical procedure performed                          2546\n",
            "Non-primary surgical procedure to other regional sites            1698\n",
            "Non-primary surgical procedure to distant site                    1590\n",
            "Non-primary surgical procedure to distant lymph node(s)            440\n",
            "Unknown; death certificate only                                    164\n",
            "Any combo of sur proc to oth rg, dis lym nd, and/or dis site       151\n",
            "Name: count, dtype: int64\n",
            "\n",
            "===== [Surgery Prim Site] =====\n",
            "Surgery Prim Site\n",
            "22    128072\n",
            "41     29873\n",
            "0      27814\n",
            "20     19039\n",
            "23     17010\n",
            "42     11789\n",
            "30     11242\n",
            "51     10869\n",
            "24      9496\n",
            "49      6548\n",
            "45      5234\n",
            "40      4534\n",
            "47      3874\n",
            "48      3830\n",
            "52      3210\n",
            "44      3200\n",
            "43      3110\n",
            "21      1295\n",
            "50      1141\n",
            "46      1002\n",
            "59       953\n",
            "55       785\n",
            "75       753\n",
            "57       654\n",
            "53       600\n",
            "58       553\n",
            "54       513\n",
            "99       422\n",
            "80       361\n",
            "61       306\n",
            "56       165\n",
            "62       143\n",
            "19       118\n",
            "63       115\n",
            "90       105\n",
            "60        68\n",
            "76        49\n",
            "68        33\n",
            "64        32\n",
            "69        29\n",
            "66        22\n",
            "65        18\n",
            "73        14\n",
            "74        13\n",
            "67        12\n",
            "72        10\n",
            "70        10\n",
            "71         6\n",
            "Name: count, dtype: int64\n",
            "\n",
            "===== [Rural-Urban] =====\n",
            "Rural-Urban\n",
            "Large Metro                                                     194135\n",
            "Counties in metropolitan areas of 250,000 to 1 million pop       62416\n",
            "Counties in metropolitan areas of lt 250 thousand pop            21562\n",
            "Nonmetropolitan counties adjacent to a metropolitan area         19253\n",
            "Nonmetropolitan counties not adjacent to a metropolitan area     11302\n",
            "Unknown/missing/no match (Alaska or Hawaii - Entire State)         369\n",
            "Unknown/missing/no match/Not 1990-2023                               7\n",
            "Name: count, dtype: int64\n",
            "\n",
            "===== [cancer treatment delay] =====\n",
            "cancer treatment delay\n",
            "0                      23509\n",
            "Unable to calculate     9362\n",
            "28                      7896\n",
            "35                      7673\n",
            "27                      6645\n",
            "                       ...  \n",
            "533                        1\n",
            "675                        1\n",
            "528                        1\n",
            "471                        1\n",
            "479                        1\n",
            "Name: count, Length: 519, dtype: int64\n",
            "\n",
            "===== [Income] =====\n",
            "Income\n",
            "$85,000 - $89,999                         53850\n",
            "$120,000+                                 42324\n",
            "$100,000 - $109,999                       33450\n",
            "$80,000 - $84,999                         26515\n",
            "$110,000 - $119,999                       22274\n",
            "$65,000 - $69,999                         22197\n",
            "$75,000 - $79,999                         20939\n",
            "$95,000 - $99,999                         20461\n",
            "$90,000 - $94,999                         15659\n",
            "$60,000 - $64,999                         11885\n",
            "$55,000 - $59,999                         10651\n",
            "$70,000 - $74,999                         10147\n",
            "$50,000 - $54,999                          9057\n",
            "$45,000 - $49,999                          5177\n",
            "$40,000 - $44,999                          2531\n",
            "< $40,000                                  1920\n",
            "Unknown/missing/no match/Not 1990-2023        7\n",
            "Name: count, dtype: int64\n",
            "\n",
            "===== [Survival months] =====\n",
            "Survival months\n",
            "9     7057\n",
            "6     6805\n",
            "4     6707\n",
            "2     6578\n",
            "1     6499\n",
            "10    6481\n",
            "3     6418\n",
            "18    6357\n",
            "0     6349\n",
            "12    6299\n",
            "16    6255\n",
            "8     6247\n",
            "14    6224\n",
            "13    6181\n",
            "7     6180\n",
            "20    6026\n",
            "11    6018\n",
            "15    5895\n",
            "21    5839\n",
            "5     5786\n",
            "17    5726\n",
            "19    5655\n",
            "26    5550\n",
            "24    5358\n",
            "22    5353\n",
            "27    5335\n",
            "23    5271\n",
            "25    5211\n",
            "29    5116\n",
            "38    5108\n",
            "34    5002\n",
            "35    4921\n",
            "41    4861\n",
            "37    4764\n",
            "33    4737\n",
            "36    4723\n",
            "28    4717\n",
            "43    4706\n",
            "40    4689\n",
            "50    4669\n",
            "44    4611\n",
            "52    4578\n",
            "42    4561\n",
            "46    4540\n",
            "45    4489\n",
            "39    4469\n",
            "47    4418\n",
            "30    4299\n",
            "49    4220\n",
            "56    4129\n",
            "54    4114\n",
            "48    4090\n",
            "53    4063\n",
            "58    4016\n",
            "55    3916\n",
            "51    3816\n",
            "57    3783\n",
            "59    3666\n",
            "31    2872\n",
            "32    2721\n",
            "Name: count, dtype: int64\n",
            "\n",
            "===== [Cancer Site] =====\n",
            "Cancer Site\n",
            "Breast    309044\n",
            "Name: count, dtype: int64\n"
          ]
        }
      ]
    },
    {
      "cell_type": "markdown",
      "source": [
        "##RACE [True=1, False=0]"
      ],
      "metadata": {
        "id": "H6uuGo9CpSbN"
      }
    },
    {
      "cell_type": "code",
      "source": [
        "df['Race'].value_counts()"
      ],
      "metadata": {
        "colab": {
          "base_uri": "https://localhost:8080/",
          "height": 272
        },
        "id": "Vn2c0M5Yphde",
        "outputId": "ce869103-674f-47d4-8800-329061923aa3"
      },
      "execution_count": null,
      "outputs": [
        {
          "output_type": "execute_result",
          "data": {
            "text/plain": [
              "Race\n",
              "White                            237361\n",
              "Black                             33594\n",
              "Asian or Pacific Islander         33237\n",
              "Unknown                            2558\n",
              "American Indian/Alaska Native      2294\n",
              "Name: count, dtype: int64"
            ],
            "text/html": [
              "<div>\n",
              "<style scoped>\n",
              "    .dataframe tbody tr th:only-of-type {\n",
              "        vertical-align: middle;\n",
              "    }\n",
              "\n",
              "    .dataframe tbody tr th {\n",
              "        vertical-align: top;\n",
              "    }\n",
              "\n",
              "    .dataframe thead th {\n",
              "        text-align: right;\n",
              "    }\n",
              "</style>\n",
              "<table border=\"1\" class=\"dataframe\">\n",
              "  <thead>\n",
              "    <tr style=\"text-align: right;\">\n",
              "      <th></th>\n",
              "      <th>count</th>\n",
              "    </tr>\n",
              "    <tr>\n",
              "      <th>Race</th>\n",
              "      <th></th>\n",
              "    </tr>\n",
              "  </thead>\n",
              "  <tbody>\n",
              "    <tr>\n",
              "      <th>White</th>\n",
              "      <td>237361</td>\n",
              "    </tr>\n",
              "    <tr>\n",
              "      <th>Black</th>\n",
              "      <td>33594</td>\n",
              "    </tr>\n",
              "    <tr>\n",
              "      <th>Asian or Pacific Islander</th>\n",
              "      <td>33237</td>\n",
              "    </tr>\n",
              "    <tr>\n",
              "      <th>Unknown</th>\n",
              "      <td>2558</td>\n",
              "    </tr>\n",
              "    <tr>\n",
              "      <th>American Indian/Alaska Native</th>\n",
              "      <td>2294</td>\n",
              "    </tr>\n",
              "  </tbody>\n",
              "</table>\n",
              "</div><br><label><b>dtype:</b> int64</label>"
            ]
          },
          "metadata": {},
          "execution_count": 13
        }
      ]
    },
    {
      "cell_type": "code",
      "source": [
        "# Race 변수 처리\n",
        "df['Race_grouped'] = df['Race'].replace({\n",
        "    'Unknown': 'Other (Unknown/AIAN)',\n",
        "    'American Indian/Alaska Native': 'Other (Unknown/AIAN)'\n",
        "})"
      ],
      "metadata": {
        "id": "pU4Y8WuYpnFO"
      },
      "execution_count": null,
      "outputs": []
    },
    {
      "cell_type": "code",
      "source": [
        "print(df['Race_grouped'].value_counts())"
      ],
      "metadata": {
        "colab": {
          "base_uri": "https://localhost:8080/"
        },
        "id": "_0hBp4m2p_xW",
        "outputId": "bcc5f5d4-567b-4c02-db8d-89fe783022b9"
      },
      "execution_count": null,
      "outputs": [
        {
          "output_type": "stream",
          "name": "stdout",
          "text": [
            "Race_grouped\n",
            "White                        237361\n",
            "Black                         33594\n",
            "Asian or Pacific Islander     33237\n",
            "Other (Unknown/AIAN)           4852\n",
            "Name: count, dtype: int64\n"
          ]
        }
      ]
    },
    {
      "cell_type": "code",
      "source": [
        "# Race>> Race_grouped 이름 변경"
      ],
      "metadata": {
        "id": "4l221unntqA7"
      },
      "execution_count": null,
      "outputs": []
    },
    {
      "cell_type": "code",
      "source": [
        "# Race_grouped만 원-핫 인코딩\n",
        "race_dummies = pd.get_dummies(df['Race_grouped'], prefix='Race')\n"
      ],
      "metadata": {
        "id": "wFo0WbroNAdT"
      },
      "execution_count": null,
      "outputs": []
    },
    {
      "cell_type": "code",
      "source": [
        "print(race_dummies)"
      ],
      "metadata": {
        "colab": {
          "base_uri": "https://localhost:8080/"
        },
        "id": "PPUxzR2lTWv7",
        "outputId": "cdbd5f93-2e44-4378-aa49-544bfbaadebe"
      },
      "execution_count": null,
      "outputs": [
        {
          "output_type": "stream",
          "name": "stdout",
          "text": [
            "        Race_Asian or Pacific Islander  Race_Black  Race_Other (Unknown/AIAN)  \\\n",
            "0                                False       False                      False   \n",
            "1                                False       False                      False   \n",
            "2                                False       False                      False   \n",
            "3                                 True       False                      False   \n",
            "4                                 True       False                      False   \n",
            "...                                ...         ...                        ...   \n",
            "309039                            True       False                      False   \n",
            "309040                           False       False                      False   \n",
            "309041                           False       False                      False   \n",
            "309042                           False        True                      False   \n",
            "309043                           False       False                      False   \n",
            "\n",
            "        Race_White  \n",
            "0             True  \n",
            "1             True  \n",
            "2             True  \n",
            "3            False  \n",
            "4            False  \n",
            "...            ...  \n",
            "309039       False  \n",
            "309040        True  \n",
            "309041        True  \n",
            "309042       False  \n",
            "309043        True  \n",
            "\n",
            "[309037 rows x 4 columns]\n"
          ]
        }
      ]
    },
    {
      "cell_type": "code",
      "source": [],
      "metadata": {
        "id": "Kio2EcNLWGSn"
      },
      "execution_count": null,
      "outputs": []
    },
    {
      "cell_type": "code",
      "source": [
        "# 원-핫 인코딩 후 0/1 숫자로 변환\n",
        "marital_dummies = pd.get_dummies(df['Race_grouped'], prefix='Race').astype(int)"
      ],
      "metadata": {
        "id": "KsNXGVh9WGjw"
      },
      "execution_count": null,
      "outputs": []
    },
    {
      "cell_type": "code",
      "source": [
        "print(marital_dummies)"
      ],
      "metadata": {
        "colab": {
          "base_uri": "https://localhost:8080/"
        },
        "outputId": "7a9411d8-a40b-473f-dc1f-33bead2979c6",
        "id": "hqD3-7D0WGjw"
      },
      "execution_count": null,
      "outputs": [
        {
          "output_type": "stream",
          "name": "stdout",
          "text": [
            "        Race_Asian or Pacific Islander  Race_Black  Race_Other (Unknown/AIAN)  \\\n",
            "0                                    0           0                          0   \n",
            "1                                    0           0                          0   \n",
            "2                                    0           0                          0   \n",
            "3                                    1           0                          0   \n",
            "4                                    1           0                          0   \n",
            "...                                ...         ...                        ...   \n",
            "309039                               1           0                          0   \n",
            "309040                               0           0                          0   \n",
            "309041                               0           0                          0   \n",
            "309042                               0           1                          0   \n",
            "309043                               0           0                          0   \n",
            "\n",
            "        Race_White  \n",
            "0                1  \n",
            "1                1  \n",
            "2                1  \n",
            "3                0  \n",
            "4                0  \n",
            "...            ...  \n",
            "309039           0  \n",
            "309040           1  \n",
            "309041           1  \n",
            "309042           0  \n",
            "309043           1  \n",
            "\n",
            "[309037 rows x 4 columns]\n"
          ]
        }
      ]
    },
    {
      "cell_type": "markdown",
      "source": [
        "##SEX [Male: 0, 'Female:1 ]"
      ],
      "metadata": {
        "id": "W5U-KUpYpZxl"
      }
    },
    {
      "cell_type": "markdown",
      "source": [],
      "metadata": {
        "id": "CAeGuCQ0pblF"
      }
    },
    {
      "cell_type": "code",
      "source": [
        "df['Sex'].value_counts()"
      ],
      "metadata": {
        "colab": {
          "base_uri": "https://localhost:8080/",
          "height": 178
        },
        "id": "A4ZXzCwFpQ1u",
        "outputId": "05bb245a-7dd7-42e3-b2a7-cc3b546b17fb"
      },
      "execution_count": null,
      "outputs": [
        {
          "output_type": "execute_result",
          "data": {
            "text/plain": [
              "Sex\n",
              "Female    306641\n",
              "Male        2403\n",
              "Name: count, dtype: int64"
            ],
            "text/html": [
              "<div>\n",
              "<style scoped>\n",
              "    .dataframe tbody tr th:only-of-type {\n",
              "        vertical-align: middle;\n",
              "    }\n",
              "\n",
              "    .dataframe tbody tr th {\n",
              "        vertical-align: top;\n",
              "    }\n",
              "\n",
              "    .dataframe thead th {\n",
              "        text-align: right;\n",
              "    }\n",
              "</style>\n",
              "<table border=\"1\" class=\"dataframe\">\n",
              "  <thead>\n",
              "    <tr style=\"text-align: right;\">\n",
              "      <th></th>\n",
              "      <th>count</th>\n",
              "    </tr>\n",
              "    <tr>\n",
              "      <th>Sex</th>\n",
              "      <th></th>\n",
              "    </tr>\n",
              "  </thead>\n",
              "  <tbody>\n",
              "    <tr>\n",
              "      <th>Female</th>\n",
              "      <td>306641</td>\n",
              "    </tr>\n",
              "    <tr>\n",
              "      <th>Male</th>\n",
              "      <td>2403</td>\n",
              "    </tr>\n",
              "  </tbody>\n",
              "</table>\n",
              "</div><br><label><b>dtype:</b> int64</label>"
            ]
          },
          "metadata": {},
          "execution_count": 17
        }
      ]
    },
    {
      "cell_type": "code",
      "source": [
        "df['Sex'] = df['Sex'].map({'Male': 0, 'Female': 1})"
      ],
      "metadata": {
        "id": "WGA2oj0vLwLr"
      },
      "execution_count": null,
      "outputs": []
    },
    {
      "cell_type": "code",
      "source": [
        "print(df['Sex'].value_counts())"
      ],
      "metadata": {
        "colab": {
          "base_uri": "https://localhost:8080/"
        },
        "id": "_2uumqooMfnr",
        "outputId": "695ab65c-e06b-4924-d7a1-dd89b3a05d1e"
      },
      "execution_count": null,
      "outputs": [
        {
          "output_type": "stream",
          "name": "stdout",
          "text": [
            "Sex\n",
            "1    306634\n",
            "0      2403\n",
            "Name: count, dtype: int64\n"
          ]
        }
      ]
    },
    {
      "cell_type": "markdown",
      "source": [
        "##AGE(연속형 그대로 사용)"
      ],
      "metadata": {
        "id": "f5awSJsdpdxW"
      }
    },
    {
      "cell_type": "code",
      "source": [
        "df['Age'].value_counts()"
      ],
      "metadata": {
        "colab": {
          "base_uri": "https://localhost:8080/",
          "height": 649
        },
        "id": "moKjhibmqKGG",
        "outputId": "7cd98bb2-adc4-45b9-ad4d-0c15eb835e03"
      },
      "execution_count": null,
      "outputs": [
        {
          "output_type": "execute_result",
          "data": {
            "text/plain": [
              "Age\n",
              "65-69 years    45109\n",
              "60-64 years    41898\n",
              "70-74 years    41512\n",
              "55-59 years    35023\n",
              "50-54 years    30191\n",
              "75-79 years    28290\n",
              "45-49 years    25334\n",
              "80-84 years    17008\n",
              "40-44 years    16964\n",
              "85-89 years     9023\n",
              "35-39 years     8669\n",
              "90+ years       4247\n",
              "30-34 years     4185\n",
              "25-29 years     1390\n",
              "20-24 years      187\n",
              "15-19 years       13\n",
              "05-09 years        1\n",
              "Name: count, dtype: int64"
            ],
            "text/html": [
              "<div>\n",
              "<style scoped>\n",
              "    .dataframe tbody tr th:only-of-type {\n",
              "        vertical-align: middle;\n",
              "    }\n",
              "\n",
              "    .dataframe tbody tr th {\n",
              "        vertical-align: top;\n",
              "    }\n",
              "\n",
              "    .dataframe thead th {\n",
              "        text-align: right;\n",
              "    }\n",
              "</style>\n",
              "<table border=\"1\" class=\"dataframe\">\n",
              "  <thead>\n",
              "    <tr style=\"text-align: right;\">\n",
              "      <th></th>\n",
              "      <th>count</th>\n",
              "    </tr>\n",
              "    <tr>\n",
              "      <th>Age</th>\n",
              "      <th></th>\n",
              "    </tr>\n",
              "  </thead>\n",
              "  <tbody>\n",
              "    <tr>\n",
              "      <th>65-69 years</th>\n",
              "      <td>45109</td>\n",
              "    </tr>\n",
              "    <tr>\n",
              "      <th>60-64 years</th>\n",
              "      <td>41898</td>\n",
              "    </tr>\n",
              "    <tr>\n",
              "      <th>70-74 years</th>\n",
              "      <td>41512</td>\n",
              "    </tr>\n",
              "    <tr>\n",
              "      <th>55-59 years</th>\n",
              "      <td>35023</td>\n",
              "    </tr>\n",
              "    <tr>\n",
              "      <th>50-54 years</th>\n",
              "      <td>30191</td>\n",
              "    </tr>\n",
              "    <tr>\n",
              "      <th>75-79 years</th>\n",
              "      <td>28290</td>\n",
              "    </tr>\n",
              "    <tr>\n",
              "      <th>45-49 years</th>\n",
              "      <td>25334</td>\n",
              "    </tr>\n",
              "    <tr>\n",
              "      <th>80-84 years</th>\n",
              "      <td>17008</td>\n",
              "    </tr>\n",
              "    <tr>\n",
              "      <th>40-44 years</th>\n",
              "      <td>16964</td>\n",
              "    </tr>\n",
              "    <tr>\n",
              "      <th>85-89 years</th>\n",
              "      <td>9023</td>\n",
              "    </tr>\n",
              "    <tr>\n",
              "      <th>35-39 years</th>\n",
              "      <td>8669</td>\n",
              "    </tr>\n",
              "    <tr>\n",
              "      <th>90+ years</th>\n",
              "      <td>4247</td>\n",
              "    </tr>\n",
              "    <tr>\n",
              "      <th>30-34 years</th>\n",
              "      <td>4185</td>\n",
              "    </tr>\n",
              "    <tr>\n",
              "      <th>25-29 years</th>\n",
              "      <td>1390</td>\n",
              "    </tr>\n",
              "    <tr>\n",
              "      <th>20-24 years</th>\n",
              "      <td>187</td>\n",
              "    </tr>\n",
              "    <tr>\n",
              "      <th>15-19 years</th>\n",
              "      <td>13</td>\n",
              "    </tr>\n",
              "    <tr>\n",
              "      <th>05-09 years</th>\n",
              "      <td>1</td>\n",
              "    </tr>\n",
              "  </tbody>\n",
              "</table>\n",
              "</div><br><label><b>dtype:</b> int64</label>"
            ]
          },
          "metadata": {},
          "execution_count": 19
        }
      ]
    },
    {
      "cell_type": "markdown",
      "source": [
        "years 제외했습니닥 !!!!!!!!!\n"
      ],
      "metadata": {
        "id": "UOaO4zadqyo_"
      }
    },
    {
      "cell_type": "code",
      "source": [
        "# Age 그룹화 함수\n",
        "def age_group(age):\n",
        "    if age <= 29:\n",
        "        return \"0-29\"\n",
        "    elif age >= 85:\n",
        "        return \"85+\"\n",
        "    else:\n",
        "        return f\"{(age//5)*5}-{(age//5)*5 + 4}\"\n",
        "\n",
        "# 숫자만 추출 후 그룹화\n",
        "df['Age_group'] = df['Age'].str.extract(r'(\\d+)').astype(int)[0].apply(age_group)\n",
        "\n",
        "print(df['Age_group'].value_counts().sort_index())"
      ],
      "metadata": {
        "colab": {
          "base_uri": "https://localhost:8080/"
        },
        "id": "hyYiR00hqikP",
        "outputId": "5a3d85b0-575a-4b9d-c761-c623727a4c6f"
      },
      "execution_count": null,
      "outputs": [
        {
          "output_type": "stream",
          "name": "stdout",
          "text": [
            "Age_group\n",
            "0-29      1591\n",
            "30-34     4185\n",
            "35-39     8669\n",
            "40-44    16964\n",
            "45-49    25334\n",
            "50-54    30191\n",
            "55-59    35023\n",
            "60-64    41898\n",
            "65-69    45109\n",
            "70-74    41512\n",
            "75-79    28290\n",
            "80-84    17008\n",
            "85+      13270\n",
            "Name: count, dtype: int64\n"
          ]
        }
      ]
    },
    {
      "cell_type": "code",
      "source": [
        "# Age>> Age_group 이름 변경"
      ],
      "metadata": {
        "id": "6otK1bdRtyWi"
      },
      "execution_count": null,
      "outputs": []
    },
    {
      "cell_type": "markdown",
      "source": [
        "## Marital [True=1, False=0]"
      ],
      "metadata": {
        "id": "XBJRp4V5sZ8J"
      }
    },
    {
      "cell_type": "code",
      "source": [
        "df['Marital status'].value_counts()"
      ],
      "metadata": {
        "colab": {
          "base_uri": "https://localhost:8080/",
          "height": 335
        },
        "id": "Qh3_fVOhtMoS",
        "outputId": "2ef03181-dd1d-4b52-d8df-8571c01ba6cb"
      },
      "execution_count": null,
      "outputs": [
        {
          "output_type": "execute_result",
          "data": {
            "text/plain": [
              "Marital status\n",
              "Married (including common law)    171937\n",
              "Never married                      49652\n",
              "Widowed                            38557\n",
              "Divorced                           32988\n",
              "Unknown                            10289\n",
              "Separated                           3270\n",
              "Unmarried or Domestic Partner       2351\n",
              "Name: count, dtype: int64"
            ],
            "text/html": [
              "<div>\n",
              "<style scoped>\n",
              "    .dataframe tbody tr th:only-of-type {\n",
              "        vertical-align: middle;\n",
              "    }\n",
              "\n",
              "    .dataframe tbody tr th {\n",
              "        vertical-align: top;\n",
              "    }\n",
              "\n",
              "    .dataframe thead th {\n",
              "        text-align: right;\n",
              "    }\n",
              "</style>\n",
              "<table border=\"1\" class=\"dataframe\">\n",
              "  <thead>\n",
              "    <tr style=\"text-align: right;\">\n",
              "      <th></th>\n",
              "      <th>count</th>\n",
              "    </tr>\n",
              "    <tr>\n",
              "      <th>Marital status</th>\n",
              "      <th></th>\n",
              "    </tr>\n",
              "  </thead>\n",
              "  <tbody>\n",
              "    <tr>\n",
              "      <th>Married (including common law)</th>\n",
              "      <td>171937</td>\n",
              "    </tr>\n",
              "    <tr>\n",
              "      <th>Never married</th>\n",
              "      <td>49652</td>\n",
              "    </tr>\n",
              "    <tr>\n",
              "      <th>Widowed</th>\n",
              "      <td>38557</td>\n",
              "    </tr>\n",
              "    <tr>\n",
              "      <th>Divorced</th>\n",
              "      <td>32988</td>\n",
              "    </tr>\n",
              "    <tr>\n",
              "      <th>Unknown</th>\n",
              "      <td>10289</td>\n",
              "    </tr>\n",
              "    <tr>\n",
              "      <th>Separated</th>\n",
              "      <td>3270</td>\n",
              "    </tr>\n",
              "    <tr>\n",
              "      <th>Unmarried or Domestic Partner</th>\n",
              "      <td>2351</td>\n",
              "    </tr>\n",
              "  </tbody>\n",
              "</table>\n",
              "</div><br><label><b>dtype:</b> int64</label>"
            ]
          },
          "metadata": {},
          "execution_count": 22
        }
      ]
    },
    {
      "cell_type": "code",
      "source": [
        "# 매핑 딕셔너리 정의\n",
        "marital_map = {\n",
        "    'Married (including common law)': 'Married',\n",
        "    'Divorced': 'Previously Married',\n",
        "    'Separated': 'Previously Married',\n",
        "    'Widowed': 'Previously Married',\n",
        "    'Never married': 'Single/Other',\n",
        "    'Unknown': 'Single/Other',\n",
        "    'Unmarried or Domestic Partner': 'Single/Other'\n",
        "}\n",
        "\n",
        "# 새 컬럼 생성\n",
        "df['Marital_group'] = df['Marital status'].replace(marital_map)\n",
        "\n",
        "# 결과 확인\n",
        "print(df['Marital_group'].value_counts())"
      ],
      "metadata": {
        "colab": {
          "base_uri": "https://localhost:8080/"
        },
        "id": "JZ72FFIotVxK",
        "outputId": "1d995b26-9d1f-46d1-99a9-de85fbe116cb"
      },
      "execution_count": null,
      "outputs": [
        {
          "output_type": "stream",
          "name": "stdout",
          "text": [
            "Marital_group\n",
            "Married               171937\n",
            "Previously Married     74815\n",
            "Single/Other           62292\n",
            "Name: count, dtype: int64\n"
          ]
        }
      ]
    },
    {
      "cell_type": "code",
      "source": [
        "#Marital_group 로 이름 변경"
      ],
      "metadata": {
        "id": "IQANrbqRt2vC"
      },
      "execution_count": null,
      "outputs": []
    },
    {
      "cell_type": "code",
      "source": [
        "# Marital_group만 원-핫 인코딩\n",
        "marital_dummies = pd.get_dummies(df['Marital_group'], prefix='Marital')"
      ],
      "metadata": {
        "id": "f8Q02q_eUBm9"
      },
      "execution_count": null,
      "outputs": []
    },
    {
      "cell_type": "code",
      "source": [
        "print(marital_dummies)"
      ],
      "metadata": {
        "colab": {
          "base_uri": "https://localhost:8080/"
        },
        "id": "BuCzqc5bUCic",
        "outputId": "760d7937-74ca-428e-9855-957682358662"
      },
      "execution_count": null,
      "outputs": [
        {
          "output_type": "stream",
          "name": "stdout",
          "text": [
            "        Marital_Married  Marital_Previously Married  Marital_Single/Other\n",
            "0                 False                       False                  True\n",
            "1                 False                        True                 False\n",
            "2                 False                       False                  True\n",
            "3                 False                        True                 False\n",
            "4                  True                       False                 False\n",
            "...                 ...                         ...                   ...\n",
            "309039            False                        True                 False\n",
            "309040             True                       False                 False\n",
            "309041            False                        True                 False\n",
            "309042            False                        True                 False\n",
            "309043            False                        True                 False\n",
            "\n",
            "[309037 rows x 3 columns]\n"
          ]
        }
      ]
    },
    {
      "cell_type": "code",
      "source": [
        "# 원-핫 인코딩 후 0/1 숫자로 변환\n",
        "marital_dummies = pd.get_dummies(df['Marital_group'], prefix='Marital').astype(int)"
      ],
      "metadata": {
        "id": "9CazFktpURiU"
      },
      "execution_count": null,
      "outputs": []
    },
    {
      "cell_type": "code",
      "source": [
        "print(marital_dummies)"
      ],
      "metadata": {
        "colab": {
          "base_uri": "https://localhost:8080/"
        },
        "id": "mK7g0enKUfjG",
        "outputId": "ff3ea574-7bb2-4825-f18e-c2866ed0f3bd"
      },
      "execution_count": null,
      "outputs": [
        {
          "output_type": "stream",
          "name": "stdout",
          "text": [
            "        Marital_Married  Marital_Previously Married  Marital_Single/Other\n",
            "0                     0                           0                     1\n",
            "1                     0                           1                     0\n",
            "2                     0                           0                     1\n",
            "3                     0                           1                     0\n",
            "4                     1                           0                     0\n",
            "...                 ...                         ...                   ...\n",
            "309039                0                           1                     0\n",
            "309040                1                           0                     0\n",
            "309041                0                           1                     0\n",
            "309042                0                           1                     0\n",
            "309043                0                           1                     0\n",
            "\n",
            "[309037 rows x 3 columns]\n"
          ]
        }
      ]
    },
    {
      "cell_type": "markdown",
      "source": [
        "##Income(연속형 그대로 사용)"
      ],
      "metadata": {
        "id": "8xSb5N4jsVrN"
      }
    },
    {
      "cell_type": "code",
      "source": [
        "df['Income'].value_counts()"
      ],
      "metadata": {
        "colab": {
          "base_uri": "https://localhost:8080/",
          "height": 649
        },
        "id": "ieMVCMjst8sz",
        "outputId": "bfa6d9de-6f85-4eb0-e41f-6fa2ab51ceda"
      },
      "execution_count": null,
      "outputs": [
        {
          "output_type": "execute_result",
          "data": {
            "text/plain": [
              "Income\n",
              "$85,000 - $89,999                         53850\n",
              "$120,000+                                 42324\n",
              "$100,000 - $109,999                       33450\n",
              "$80,000 - $84,999                         26515\n",
              "$110,000 - $119,999                       22274\n",
              "$65,000 - $69,999                         22197\n",
              "$75,000 - $79,999                         20939\n",
              "$95,000 - $99,999                         20461\n",
              "$90,000 - $94,999                         15659\n",
              "$60,000 - $64,999                         11885\n",
              "$55,000 - $59,999                         10651\n",
              "$70,000 - $74,999                         10147\n",
              "$50,000 - $54,999                          9057\n",
              "$45,000 - $49,999                          5177\n",
              "$40,000 - $44,999                          2531\n",
              "< $40,000                                  1920\n",
              "Unknown/missing/no match/Not 1990-2023        7\n",
              "Name: count, dtype: int64"
            ],
            "text/html": [
              "<div>\n",
              "<style scoped>\n",
              "    .dataframe tbody tr th:only-of-type {\n",
              "        vertical-align: middle;\n",
              "    }\n",
              "\n",
              "    .dataframe tbody tr th {\n",
              "        vertical-align: top;\n",
              "    }\n",
              "\n",
              "    .dataframe thead th {\n",
              "        text-align: right;\n",
              "    }\n",
              "</style>\n",
              "<table border=\"1\" class=\"dataframe\">\n",
              "  <thead>\n",
              "    <tr style=\"text-align: right;\">\n",
              "      <th></th>\n",
              "      <th>count</th>\n",
              "    </tr>\n",
              "    <tr>\n",
              "      <th>Income</th>\n",
              "      <th></th>\n",
              "    </tr>\n",
              "  </thead>\n",
              "  <tbody>\n",
              "    <tr>\n",
              "      <th>$85,000 - $89,999</th>\n",
              "      <td>53850</td>\n",
              "    </tr>\n",
              "    <tr>\n",
              "      <th>$120,000+</th>\n",
              "      <td>42324</td>\n",
              "    </tr>\n",
              "    <tr>\n",
              "      <th>$100,000 - $109,999</th>\n",
              "      <td>33450</td>\n",
              "    </tr>\n",
              "    <tr>\n",
              "      <th>$80,000 - $84,999</th>\n",
              "      <td>26515</td>\n",
              "    </tr>\n",
              "    <tr>\n",
              "      <th>$110,000 - $119,999</th>\n",
              "      <td>22274</td>\n",
              "    </tr>\n",
              "    <tr>\n",
              "      <th>$65,000 - $69,999</th>\n",
              "      <td>22197</td>\n",
              "    </tr>\n",
              "    <tr>\n",
              "      <th>$75,000 - $79,999</th>\n",
              "      <td>20939</td>\n",
              "    </tr>\n",
              "    <tr>\n",
              "      <th>$95,000 - $99,999</th>\n",
              "      <td>20461</td>\n",
              "    </tr>\n",
              "    <tr>\n",
              "      <th>$90,000 - $94,999</th>\n",
              "      <td>15659</td>\n",
              "    </tr>\n",
              "    <tr>\n",
              "      <th>$60,000 - $64,999</th>\n",
              "      <td>11885</td>\n",
              "    </tr>\n",
              "    <tr>\n",
              "      <th>$55,000 - $59,999</th>\n",
              "      <td>10651</td>\n",
              "    </tr>\n",
              "    <tr>\n",
              "      <th>$70,000 - $74,999</th>\n",
              "      <td>10147</td>\n",
              "    </tr>\n",
              "    <tr>\n",
              "      <th>$50,000 - $54,999</th>\n",
              "      <td>9057</td>\n",
              "    </tr>\n",
              "    <tr>\n",
              "      <th>$45,000 - $49,999</th>\n",
              "      <td>5177</td>\n",
              "    </tr>\n",
              "    <tr>\n",
              "      <th>$40,000 - $44,999</th>\n",
              "      <td>2531</td>\n",
              "    </tr>\n",
              "    <tr>\n",
              "      <th>&lt; $40,000</th>\n",
              "      <td>1920</td>\n",
              "    </tr>\n",
              "    <tr>\n",
              "      <th>Unknown/missing/no match/Not 1990-2023</th>\n",
              "      <td>7</td>\n",
              "    </tr>\n",
              "  </tbody>\n",
              "</table>\n",
              "</div><br><label><b>dtype:</b> int64</label>"
            ]
          },
          "metadata": {},
          "execution_count": 25
        }
      ]
    },
    {
      "cell_type": "code",
      "source": [
        "# 1. Unknown 제거\n",
        "df = df[df['Income'] != 'Unknown/missing/no match/Not 1990-2023']"
      ],
      "metadata": {
        "id": "C5VilkypuZHb"
      },
      "execution_count": null,
      "outputs": []
    },
    {
      "cell_type": "code",
      "source": [
        "# $ 제거\n",
        "df['Income'] = df['Income'].str.replace('$', '', regex=False)"
      ],
      "metadata": {
        "id": "QUH8wfKBSRRa"
      },
      "execution_count": null,
      "outputs": []
    },
    {
      "cell_type": "code",
      "source": [
        "print(df['Income'].value_counts())"
      ],
      "metadata": {
        "colab": {
          "base_uri": "https://localhost:8080/"
        },
        "id": "g9CbO9oASI4b",
        "outputId": "1654f995-d9d3-457d-f56e-29aa0f3162fd"
      },
      "execution_count": null,
      "outputs": [
        {
          "output_type": "stream",
          "name": "stdout",
          "text": [
            "Income\n",
            "85,000 - 89,999      53850\n",
            "120,000+             42324\n",
            "100,000 - 109,999    33450\n",
            "80,000 - 84,999      26515\n",
            "110,000 - 119,999    22274\n",
            "65,000 - 69,999      22197\n",
            "75,000 - 79,999      20939\n",
            "95,000 - 99,999      20461\n",
            "90,000 - 94,999      15659\n",
            "60,000 - 64,999      11885\n",
            "55,000 - 59,999      10651\n",
            "70,000 - 74,999      10147\n",
            "50,000 - 54,999       9057\n",
            "45,000 - 49,999       5177\n",
            "40,000 - 44,999       2531\n",
            "< 40,000              1920\n",
            "Name: count, dtype: int64\n"
          ]
        }
      ]
    },
    {
      "cell_type": "markdown",
      "source": [
        "##Rural-Urban [True=1, False=0]"
      ],
      "metadata": {
        "id": "2rCxU301tHyC"
      }
    },
    {
      "cell_type": "code",
      "source": [
        "df['Rural-Urban'].value_counts()"
      ],
      "metadata": {
        "colab": {
          "base_uri": "https://localhost:8080/",
          "height": 304
        },
        "id": "wHzZwdFevgh8",
        "outputId": "507b2bdf-2b45-43b8-e8e9-d8efcdbebef5"
      },
      "execution_count": null,
      "outputs": [
        {
          "output_type": "execute_result",
          "data": {
            "text/plain": [
              "Rural-Urban\n",
              "Large Metro                                                     194135\n",
              "Counties in metropolitan areas of 250,000 to 1 million pop       62416\n",
              "Counties in metropolitan areas of lt 250 thousand pop            21562\n",
              "Nonmetropolitan counties adjacent to a metropolitan area         19253\n",
              "Nonmetropolitan counties not adjacent to a metropolitan area     11302\n",
              "Unknown/missing/no match (Alaska or Hawaii - Entire State)         369\n",
              "Name: count, dtype: int64"
            ],
            "text/html": [
              "<div>\n",
              "<style scoped>\n",
              "    .dataframe tbody tr th:only-of-type {\n",
              "        vertical-align: middle;\n",
              "    }\n",
              "\n",
              "    .dataframe tbody tr th {\n",
              "        vertical-align: top;\n",
              "    }\n",
              "\n",
              "    .dataframe thead th {\n",
              "        text-align: right;\n",
              "    }\n",
              "</style>\n",
              "<table border=\"1\" class=\"dataframe\">\n",
              "  <thead>\n",
              "    <tr style=\"text-align: right;\">\n",
              "      <th></th>\n",
              "      <th>count</th>\n",
              "    </tr>\n",
              "    <tr>\n",
              "      <th>Rural-Urban</th>\n",
              "      <th></th>\n",
              "    </tr>\n",
              "  </thead>\n",
              "  <tbody>\n",
              "    <tr>\n",
              "      <th>Large Metro</th>\n",
              "      <td>194135</td>\n",
              "    </tr>\n",
              "    <tr>\n",
              "      <th>Counties in metropolitan areas of 250,000 to 1 million pop</th>\n",
              "      <td>62416</td>\n",
              "    </tr>\n",
              "    <tr>\n",
              "      <th>Counties in metropolitan areas of lt 250 thousand pop</th>\n",
              "      <td>21562</td>\n",
              "    </tr>\n",
              "    <tr>\n",
              "      <th>Nonmetropolitan counties adjacent to a metropolitan area</th>\n",
              "      <td>19253</td>\n",
              "    </tr>\n",
              "    <tr>\n",
              "      <th>Nonmetropolitan counties not adjacent to a metropolitan area</th>\n",
              "      <td>11302</td>\n",
              "    </tr>\n",
              "    <tr>\n",
              "      <th>Unknown/missing/no match (Alaska or Hawaii - Entire State)</th>\n",
              "      <td>369</td>\n",
              "    </tr>\n",
              "  </tbody>\n",
              "</table>\n",
              "</div><br><label><b>dtype:</b> int64</label>"
            ]
          },
          "metadata": {},
          "execution_count": 52
        }
      ]
    },
    {
      "cell_type": "code",
      "source": [
        "df = df[~df['Rural-Urban'].str.contains(\"Unknown/missing\")]"
      ],
      "metadata": {
        "id": "h3lcl2fGWXGX"
      },
      "execution_count": null,
      "outputs": []
    },
    {
      "cell_type": "code",
      "source": [
        "def group_urban_rural(x):\n",
        "    if 'Large Metro' in x:\n",
        "        return 'Large metro'\n",
        "    elif 'metropolitan areas of' in x:\n",
        "        return 'Small/Medium metro'\n",
        "    else:\n",
        "        return 'Rural'"
      ],
      "metadata": {
        "id": "wrzNYroDYE-I"
      },
      "execution_count": null,
      "outputs": []
    },
    {
      "cell_type": "code",
      "source": [
        "df['Rural-Urban_grouped'] = df['Rural-Urban'].apply(group_urban_rural)"
      ],
      "metadata": {
        "colab": {
          "base_uri": "https://localhost:8080/"
        },
        "id": "tXMBM8aJYMOw",
        "outputId": "4dc9b974-3024-46be-d9e4-1a60e0a67eb2"
      },
      "execution_count": null,
      "outputs": [
        {
          "output_type": "stream",
          "name": "stderr",
          "text": [
            "/tmp/ipython-input-2457280510.py:1: SettingWithCopyWarning: \n",
            "A value is trying to be set on a copy of a slice from a DataFrame.\n",
            "Try using .loc[row_indexer,col_indexer] = value instead\n",
            "\n",
            "See the caveats in the documentation: https://pandas.pydata.org/pandas-docs/stable/user_guide/indexing.html#returning-a-view-versus-a-copy\n",
            "  df['Rural-Urban_grouped'] = df['Rural-Urban'].apply(group_urban_rural)\n"
          ]
        }
      ]
    },
    {
      "cell_type": "code",
      "source": [
        "print(df['Rural-Urban_grouped'].value_counts())"
      ],
      "metadata": {
        "colab": {
          "base_uri": "https://localhost:8080/"
        },
        "id": "Gid6TKlaY3fR",
        "outputId": "9d706876-5716-495d-e86e-a360c968d665"
      },
      "execution_count": null,
      "outputs": [
        {
          "output_type": "stream",
          "name": "stdout",
          "text": [
            "Rural-Urban_grouped\n",
            "Large metro           194135\n",
            "Small/Medium metro     83978\n",
            "Rural                  30555\n",
            "Name: count, dtype: int64\n"
          ]
        }
      ]
    },
    {
      "cell_type": "code",
      "source": [
        "# Race_grouped만 원-핫 인코딩\n",
        "race_dummies = pd.get_dummies(df['Rural-Urban_grouped'], prefix='Rural-Urban')\n"
      ],
      "metadata": {
        "id": "Iv1bwwM7Ya7Z"
      },
      "execution_count": null,
      "outputs": []
    },
    {
      "cell_type": "code",
      "source": [
        "print(race_dummies)"
      ],
      "metadata": {
        "colab": {
          "base_uri": "https://localhost:8080/"
        },
        "outputId": "be82378e-6f39-44ef-ce4f-0a88ef409dd3",
        "id": "aDL7J4DLYa7Z"
      },
      "execution_count": null,
      "outputs": [
        {
          "output_type": "stream",
          "name": "stdout",
          "text": [
            "        Rural-Urban_Large metro  Rural-Urban_Rural  \\\n",
            "0                          True              False   \n",
            "1                          True              False   \n",
            "2                          True              False   \n",
            "3                          True              False   \n",
            "4                          True              False   \n",
            "...                         ...                ...   \n",
            "309039                     True              False   \n",
            "309040                     True              False   \n",
            "309041                     True              False   \n",
            "309042                     True              False   \n",
            "309043                     True              False   \n",
            "\n",
            "        Rural-Urban_Small/Medium metro  \n",
            "0                                False  \n",
            "1                                False  \n",
            "2                                False  \n",
            "3                                False  \n",
            "4                                False  \n",
            "...                                ...  \n",
            "309039                           False  \n",
            "309040                           False  \n",
            "309041                           False  \n",
            "309042                           False  \n",
            "309043                           False  \n",
            "\n",
            "[308668 rows x 3 columns]\n"
          ]
        }
      ]
    },
    {
      "cell_type": "code",
      "source": [
        "# 원-핫 인코딩 후 0/1 숫자로 변환\n",
        "marital_dummies = pd.get_dummies(df['Rural-Urban_grouped'], prefix='Rural-Urban').astype(int)"
      ],
      "metadata": {
        "id": "l6GoJfY4Ya7a"
      },
      "execution_count": null,
      "outputs": []
    },
    {
      "cell_type": "code",
      "source": [
        "print(marital_dummies)"
      ],
      "metadata": {
        "colab": {
          "base_uri": "https://localhost:8080/"
        },
        "outputId": "744cb99b-12c7-4aaf-8809-a145f831bca8",
        "id": "QZqw7UHJYa7a"
      },
      "execution_count": null,
      "outputs": [
        {
          "output_type": "stream",
          "name": "stdout",
          "text": [
            "        Rural-Urban_Large metro  Rural-Urban_Rural  \\\n",
            "0                             1                  0   \n",
            "1                             1                  0   \n",
            "2                             1                  0   \n",
            "3                             1                  0   \n",
            "4                             1                  0   \n",
            "...                         ...                ...   \n",
            "309039                        1                  0   \n",
            "309040                        1                  0   \n",
            "309041                        1                  0   \n",
            "309042                        1                  0   \n",
            "309043                        1                  0   \n",
            "\n",
            "        Rural-Urban_Small/Medium metro  \n",
            "0                                    0  \n",
            "1                                    0  \n",
            "2                                    0  \n",
            "3                                    0  \n",
            "4                                    0  \n",
            "...                                ...  \n",
            "309039                               0  \n",
            "309040                               0  \n",
            "309041                               0  \n",
            "309042                               0  \n",
            "309043                               0  \n",
            "\n",
            "[308668 rows x 3 columns]\n"
          ]
        }
      ]
    },
    {
      "cell_type": "markdown",
      "source": [
        "##Behavior code [In situ=1, Malignant=0]"
      ],
      "metadata": {
        "id": "xz49qSIFq5Yv"
      }
    },
    {
      "cell_type": "code",
      "source": [
        "df['Behavior code'].value_counts()"
      ],
      "metadata": {
        "colab": {
          "base_uri": "https://localhost:8080/",
          "height": 178
        },
        "outputId": "3e127a27-c096-4bbb-8363-e2c0d0c07903",
        "id": "tlYhR0ppZRyq"
      },
      "execution_count": null,
      "outputs": [
        {
          "output_type": "execute_result",
          "data": {
            "text/plain": [
              "Behavior code\n",
              "Malignant    304842\n",
              "In situ        3826\n",
              "Name: count, dtype: int64"
            ],
            "text/html": [
              "<div>\n",
              "<style scoped>\n",
              "    .dataframe tbody tr th:only-of-type {\n",
              "        vertical-align: middle;\n",
              "    }\n",
              "\n",
              "    .dataframe tbody tr th {\n",
              "        vertical-align: top;\n",
              "    }\n",
              "\n",
              "    .dataframe thead th {\n",
              "        text-align: right;\n",
              "    }\n",
              "</style>\n",
              "<table border=\"1\" class=\"dataframe\">\n",
              "  <thead>\n",
              "    <tr style=\"text-align: right;\">\n",
              "      <th></th>\n",
              "      <th>count</th>\n",
              "    </tr>\n",
              "    <tr>\n",
              "      <th>Behavior code</th>\n",
              "      <th></th>\n",
              "    </tr>\n",
              "  </thead>\n",
              "  <tbody>\n",
              "    <tr>\n",
              "      <th>Malignant</th>\n",
              "      <td>304842</td>\n",
              "    </tr>\n",
              "    <tr>\n",
              "      <th>In situ</th>\n",
              "      <td>3826</td>\n",
              "    </tr>\n",
              "  </tbody>\n",
              "</table>\n",
              "</div><br><label><b>dtype:</b> int64</label>"
            ]
          },
          "metadata": {},
          "execution_count": 68
        }
      ]
    },
    {
      "cell_type": "code",
      "source": [
        "mapping = {'In situ': 1, 'Malignant': 0}\n",
        "df['Behavior_code_num'] = df['Behavior code'].map(mapping)"
      ],
      "metadata": {
        "id": "Rm0zR381q8Bn",
        "colab": {
          "base_uri": "https://localhost:8080/"
        },
        "outputId": "d1210352-58db-4d26-823f-41b74a112c1e"
      },
      "execution_count": null,
      "outputs": [
        {
          "output_type": "stream",
          "name": "stderr",
          "text": [
            "/tmp/ipython-input-659286862.py:2: SettingWithCopyWarning: \n",
            "A value is trying to be set on a copy of a slice from a DataFrame.\n",
            "Try using .loc[row_indexer,col_indexer] = value instead\n",
            "\n",
            "See the caveats in the documentation: https://pandas.pydata.org/pandas-docs/stable/user_guide/indexing.html#returning-a-view-versus-a-copy\n",
            "  df['Behavior_code_num'] = df['Behavior code'].map(mapping)\n"
          ]
        }
      ]
    },
    {
      "cell_type": "code",
      "source": [
        "print(df['Behavior_code_num'].value_counts())"
      ],
      "metadata": {
        "colab": {
          "base_uri": "https://localhost:8080/"
        },
        "id": "PyGi0Z5MaAij",
        "outputId": "83c8222f-eb80-4d9c-b6c7-619cda0188de"
      },
      "execution_count": null,
      "outputs": [
        {
          "output_type": "stream",
          "name": "stdout",
          "text": [
            "Behavior_code_num\n",
            "0    304842\n",
            "1      3826\n",
            "Name: count, dtype: int64\n"
          ]
        }
      ]
    },
    {
      "cell_type": "code",
      "source": [],
      "metadata": {
        "id": "QccyvDd4d5MP"
      },
      "execution_count": null,
      "outputs": []
    },
    {
      "cell_type": "markdown",
      "source": [
        "##T/N/M Stage [Stage_Number=0,1,2,3,4]"
      ],
      "metadata": {
        "id": "sh2IM0KmrWbI"
      }
    },
    {
      "cell_type": "code",
      "source": [
        "df = pd.read_csv(file_path)\n",
        "print(df.columns)"
      ],
      "metadata": {
        "colab": {
          "base_uri": "https://localhost:8080/"
        },
        "id": "1lJnXumBTKjm",
        "outputId": "8c9fc390-1199-483b-8d2b-11092c28ef2a"
      },
      "execution_count": null,
      "outputs": [
        {
          "output_type": "stream",
          "name": "stdout",
          "text": [
            "Index(['Sex', 'Age', 'Race', 'Marital status', 'ER', 'HER2', 'PR',\n",
            "       'T/N/M Stage', 'Behavior code', 'Sequence number', 'Chemotherapy',\n",
            "       'Mets all', 'Mets at bone', 'Mets at brain', 'Mets at liver',\n",
            "       'Mets at lung', 'Radiation', 'Surgery Oth Reg/Dis', 'Surgery Prim Site',\n",
            "       'Rural-Urban', 'cancer treatment delay', 'Income', 'Survival months',\n",
            "       'Cancer Site'],\n",
            "      dtype='object')\n"
          ]
        }
      ]
    },
    {
      "cell_type": "code",
      "source": [
        "df['T/N/M Stage'].value_counts()"
      ],
      "metadata": {
        "colab": {
          "base_uri": "https://localhost:8080/",
          "height": 398
        },
        "id": "lD7jv9l1R_EV",
        "outputId": "cce70751-8cc8-4ff2-d3bf-0520a92eb5e9"
      },
      "execution_count": null,
      "outputs": [
        {
          "output_type": "execute_result",
          "data": {
            "text/plain": [
              "T/N/M Stage\n",
              "1A    177101\n",
              "1B     48244\n",
              "2A     27899\n",
              "4      17557\n",
              "2B     13880\n",
              "3B      8620\n",
              "3A      7908\n",
              "0       3924\n",
              "3C      3911\n",
              "Name: count, dtype: int64"
            ],
            "text/html": [
              "<div>\n",
              "<style scoped>\n",
              "    .dataframe tbody tr th:only-of-type {\n",
              "        vertical-align: middle;\n",
              "    }\n",
              "\n",
              "    .dataframe tbody tr th {\n",
              "        vertical-align: top;\n",
              "    }\n",
              "\n",
              "    .dataframe thead th {\n",
              "        text-align: right;\n",
              "    }\n",
              "</style>\n",
              "<table border=\"1\" class=\"dataframe\">\n",
              "  <thead>\n",
              "    <tr style=\"text-align: right;\">\n",
              "      <th></th>\n",
              "      <th>count</th>\n",
              "    </tr>\n",
              "    <tr>\n",
              "      <th>T/N/M Stage</th>\n",
              "      <th></th>\n",
              "    </tr>\n",
              "  </thead>\n",
              "  <tbody>\n",
              "    <tr>\n",
              "      <th>1A</th>\n",
              "      <td>177101</td>\n",
              "    </tr>\n",
              "    <tr>\n",
              "      <th>1B</th>\n",
              "      <td>48244</td>\n",
              "    </tr>\n",
              "    <tr>\n",
              "      <th>2A</th>\n",
              "      <td>27899</td>\n",
              "    </tr>\n",
              "    <tr>\n",
              "      <th>4</th>\n",
              "      <td>17557</td>\n",
              "    </tr>\n",
              "    <tr>\n",
              "      <th>2B</th>\n",
              "      <td>13880</td>\n",
              "    </tr>\n",
              "    <tr>\n",
              "      <th>3B</th>\n",
              "      <td>8620</td>\n",
              "    </tr>\n",
              "    <tr>\n",
              "      <th>3A</th>\n",
              "      <td>7908</td>\n",
              "    </tr>\n",
              "    <tr>\n",
              "      <th>0</th>\n",
              "      <td>3924</td>\n",
              "    </tr>\n",
              "    <tr>\n",
              "      <th>3C</th>\n",
              "      <td>3911</td>\n",
              "    </tr>\n",
              "  </tbody>\n",
              "</table>\n",
              "</div><br><label><b>dtype:</b> int64</label>"
            ]
          },
          "metadata": {},
          "execution_count": 72
        }
      ]
    },
    {
      "cell_type": "code",
      "source": [
        "def extract_stage_number(stage):\n",
        "    import re\n",
        "    match = re.search(r'\\d', stage)\n",
        "    if match:\n",
        "        return int(match.group())\n",
        "    else:\n",
        "        return 0\n",
        "\n",
        "df['Stage_Number'] = df['T/N/M Stage'].apply(extract_stage_number)\n"
      ],
      "metadata": {
        "id": "7TjElI4UTRLF"
      },
      "execution_count": null,
      "outputs": []
    },
    {
      "cell_type": "code",
      "source": [
        "print(df['Stage_Number'].value_counts())"
      ],
      "metadata": {
        "colab": {
          "base_uri": "https://localhost:8080/"
        },
        "id": "gtsmmZIWeCtX",
        "outputId": "e7ce4f6d-57f4-4587-ab56-e45bc91b47b0"
      },
      "execution_count": null,
      "outputs": [
        {
          "output_type": "stream",
          "name": "stdout",
          "text": [
            "Stage_Number\n",
            "1    220461\n",
            "2     40030\n",
            "3     19468\n",
            "4     15125\n",
            "0      3765\n",
            "Name: count, dtype: int64\n"
          ]
        }
      ]
    },
    {
      "cell_type": "markdown",
      "source": [
        "##Therapy"
      ],
      "metadata": {
        "id": "08qVwkhYrXfw"
      }
    },
    {
      "cell_type": "markdown",
      "source": [
        "###Surg Prim Site(수치형)\n"
      ],
      "metadata": {
        "id": "xwbE6TXDrFqP"
      }
    },
    {
      "cell_type": "code",
      "source": [
        "df = pd.read_csv(file_path)\n",
        "print(df.columns)"
      ],
      "metadata": {
        "colab": {
          "base_uri": "https://localhost:8080/"
        },
        "id": "pcm_Vp5iTOY4",
        "outputId": "5e06cf96-32a1-490c-f169-52bcbf7082c0"
      },
      "execution_count": null,
      "outputs": [
        {
          "output_type": "stream",
          "name": "stdout",
          "text": [
            "Index(['Sex', 'Age', 'Race', 'Marital status', 'ER', 'HER2', 'PR',\n",
            "       'T/N/M Stage', 'Behavior code', 'Sequence number', 'Chemotherapy',\n",
            "       'Mets all', 'Mets at bone', 'Mets at brain', 'Mets at liver',\n",
            "       'Mets at lung', 'Radiation', 'Surgery Oth Reg/Dis', 'Surgery Prim Site',\n",
            "       'Rural-Urban', 'cancer treatment delay', 'Income', 'Survival months',\n",
            "       'Cancer Site'],\n",
            "      dtype='object')\n"
          ]
        }
      ]
    },
    {
      "cell_type": "code",
      "source": [
        "df['Surgery Prim Site'].value_counts()"
      ],
      "metadata": {
        "colab": {
          "base_uri": "https://localhost:8080/",
          "height": 1000
        },
        "id": "X-s0doCOShRF",
        "outputId": "aaacb86a-5309-42f2-8d6a-45ea690fbefc"
      },
      "execution_count": null,
      "outputs": [
        {
          "output_type": "execute_result",
          "data": {
            "text/plain": [
              "Surgery Prim Site\n",
              "22    128072\n",
              "41     29873\n",
              "0      27814\n",
              "20     19039\n",
              "23     17010\n",
              "42     11789\n",
              "30     11242\n",
              "51     10869\n",
              "24      9496\n",
              "49      6548\n",
              "45      5234\n",
              "40      4534\n",
              "47      3874\n",
              "48      3830\n",
              "52      3210\n",
              "44      3200\n",
              "43      3110\n",
              "21      1295\n",
              "50      1141\n",
              "46      1002\n",
              "59       953\n",
              "55       785\n",
              "75       753\n",
              "57       654\n",
              "53       600\n",
              "58       553\n",
              "54       513\n",
              "99       422\n",
              "80       361\n",
              "61       306\n",
              "56       165\n",
              "62       143\n",
              "19       118\n",
              "63       115\n",
              "90       105\n",
              "60        68\n",
              "76        49\n",
              "68        33\n",
              "64        32\n",
              "69        29\n",
              "66        22\n",
              "65        18\n",
              "73        14\n",
              "74        13\n",
              "67        12\n",
              "72        10\n",
              "70        10\n",
              "71         6\n",
              "Name: count, dtype: int64"
            ],
            "text/html": [
              "<div>\n",
              "<style scoped>\n",
              "    .dataframe tbody tr th:only-of-type {\n",
              "        vertical-align: middle;\n",
              "    }\n",
              "\n",
              "    .dataframe tbody tr th {\n",
              "        vertical-align: top;\n",
              "    }\n",
              "\n",
              "    .dataframe thead th {\n",
              "        text-align: right;\n",
              "    }\n",
              "</style>\n",
              "<table border=\"1\" class=\"dataframe\">\n",
              "  <thead>\n",
              "    <tr style=\"text-align: right;\">\n",
              "      <th></th>\n",
              "      <th>count</th>\n",
              "    </tr>\n",
              "    <tr>\n",
              "      <th>Surgery Prim Site</th>\n",
              "      <th></th>\n",
              "    </tr>\n",
              "  </thead>\n",
              "  <tbody>\n",
              "    <tr>\n",
              "      <th>22</th>\n",
              "      <td>128072</td>\n",
              "    </tr>\n",
              "    <tr>\n",
              "      <th>41</th>\n",
              "      <td>29873</td>\n",
              "    </tr>\n",
              "    <tr>\n",
              "      <th>0</th>\n",
              "      <td>27814</td>\n",
              "    </tr>\n",
              "    <tr>\n",
              "      <th>20</th>\n",
              "      <td>19039</td>\n",
              "    </tr>\n",
              "    <tr>\n",
              "      <th>23</th>\n",
              "      <td>17010</td>\n",
              "    </tr>\n",
              "    <tr>\n",
              "      <th>42</th>\n",
              "      <td>11789</td>\n",
              "    </tr>\n",
              "    <tr>\n",
              "      <th>30</th>\n",
              "      <td>11242</td>\n",
              "    </tr>\n",
              "    <tr>\n",
              "      <th>51</th>\n",
              "      <td>10869</td>\n",
              "    </tr>\n",
              "    <tr>\n",
              "      <th>24</th>\n",
              "      <td>9496</td>\n",
              "    </tr>\n",
              "    <tr>\n",
              "      <th>49</th>\n",
              "      <td>6548</td>\n",
              "    </tr>\n",
              "    <tr>\n",
              "      <th>45</th>\n",
              "      <td>5234</td>\n",
              "    </tr>\n",
              "    <tr>\n",
              "      <th>40</th>\n",
              "      <td>4534</td>\n",
              "    </tr>\n",
              "    <tr>\n",
              "      <th>47</th>\n",
              "      <td>3874</td>\n",
              "    </tr>\n",
              "    <tr>\n",
              "      <th>48</th>\n",
              "      <td>3830</td>\n",
              "    </tr>\n",
              "    <tr>\n",
              "      <th>52</th>\n",
              "      <td>3210</td>\n",
              "    </tr>\n",
              "    <tr>\n",
              "      <th>44</th>\n",
              "      <td>3200</td>\n",
              "    </tr>\n",
              "    <tr>\n",
              "      <th>43</th>\n",
              "      <td>3110</td>\n",
              "    </tr>\n",
              "    <tr>\n",
              "      <th>21</th>\n",
              "      <td>1295</td>\n",
              "    </tr>\n",
              "    <tr>\n",
              "      <th>50</th>\n",
              "      <td>1141</td>\n",
              "    </tr>\n",
              "    <tr>\n",
              "      <th>46</th>\n",
              "      <td>1002</td>\n",
              "    </tr>\n",
              "    <tr>\n",
              "      <th>59</th>\n",
              "      <td>953</td>\n",
              "    </tr>\n",
              "    <tr>\n",
              "      <th>55</th>\n",
              "      <td>785</td>\n",
              "    </tr>\n",
              "    <tr>\n",
              "      <th>75</th>\n",
              "      <td>753</td>\n",
              "    </tr>\n",
              "    <tr>\n",
              "      <th>57</th>\n",
              "      <td>654</td>\n",
              "    </tr>\n",
              "    <tr>\n",
              "      <th>53</th>\n",
              "      <td>600</td>\n",
              "    </tr>\n",
              "    <tr>\n",
              "      <th>58</th>\n",
              "      <td>553</td>\n",
              "    </tr>\n",
              "    <tr>\n",
              "      <th>54</th>\n",
              "      <td>513</td>\n",
              "    </tr>\n",
              "    <tr>\n",
              "      <th>99</th>\n",
              "      <td>422</td>\n",
              "    </tr>\n",
              "    <tr>\n",
              "      <th>80</th>\n",
              "      <td>361</td>\n",
              "    </tr>\n",
              "    <tr>\n",
              "      <th>61</th>\n",
              "      <td>306</td>\n",
              "    </tr>\n",
              "    <tr>\n",
              "      <th>56</th>\n",
              "      <td>165</td>\n",
              "    </tr>\n",
              "    <tr>\n",
              "      <th>62</th>\n",
              "      <td>143</td>\n",
              "    </tr>\n",
              "    <tr>\n",
              "      <th>19</th>\n",
              "      <td>118</td>\n",
              "    </tr>\n",
              "    <tr>\n",
              "      <th>63</th>\n",
              "      <td>115</td>\n",
              "    </tr>\n",
              "    <tr>\n",
              "      <th>90</th>\n",
              "      <td>105</td>\n",
              "    </tr>\n",
              "    <tr>\n",
              "      <th>60</th>\n",
              "      <td>68</td>\n",
              "    </tr>\n",
              "    <tr>\n",
              "      <th>76</th>\n",
              "      <td>49</td>\n",
              "    </tr>\n",
              "    <tr>\n",
              "      <th>68</th>\n",
              "      <td>33</td>\n",
              "    </tr>\n",
              "    <tr>\n",
              "      <th>64</th>\n",
              "      <td>32</td>\n",
              "    </tr>\n",
              "    <tr>\n",
              "      <th>69</th>\n",
              "      <td>29</td>\n",
              "    </tr>\n",
              "    <tr>\n",
              "      <th>66</th>\n",
              "      <td>22</td>\n",
              "    </tr>\n",
              "    <tr>\n",
              "      <th>65</th>\n",
              "      <td>18</td>\n",
              "    </tr>\n",
              "    <tr>\n",
              "      <th>73</th>\n",
              "      <td>14</td>\n",
              "    </tr>\n",
              "    <tr>\n",
              "      <th>74</th>\n",
              "      <td>13</td>\n",
              "    </tr>\n",
              "    <tr>\n",
              "      <th>67</th>\n",
              "      <td>12</td>\n",
              "    </tr>\n",
              "    <tr>\n",
              "      <th>72</th>\n",
              "      <td>10</td>\n",
              "    </tr>\n",
              "    <tr>\n",
              "      <th>70</th>\n",
              "      <td>10</td>\n",
              "    </tr>\n",
              "    <tr>\n",
              "      <th>71</th>\n",
              "      <td>6</td>\n",
              "    </tr>\n",
              "  </tbody>\n",
              "</table>\n",
              "</div><br><label><b>dtype:</b> int64</label>"
            ]
          },
          "metadata": {},
          "execution_count": 104
        }
      ]
    },
    {
      "cell_type": "code",
      "source": [
        "def surgery_group(code):\n",
        "    try:\n",
        "        code_int = int(code)\n",
        "    except ValueError:\n",
        "        return None  # 숫자로 변환 안되는 값은 제외\n",
        "\n",
        "    if code_int == 0:\n",
        "        return 0\n",
        "    elif 10 <= code_int <= 39:\n",
        "        return 1\n",
        "    elif 40 <= code_int <= 69:\n",
        "        return 2\n",
        "    elif 70 <= code_int <= 80:\n",
        "        return 3\n",
        "    else:\n",
        "        return None  # 80 이상 또는 범위 밖은 제외\n",
        "\n",
        "# 예시: Surgery Prim Site 코드에 적용\n",
        "df['Surgery_Group'] = df['Surgery Prim Site'].apply(surgery_group)\n",
        "\n",
        "# 80 이상 등 그룹이 None인 행은 삭제하고 싶으면:\n",
        "df = df[df['Surgery_Group'].notna()]"
      ],
      "metadata": {
        "id": "PDpq_5pMWX1Q"
      },
      "execution_count": null,
      "outputs": []
    },
    {
      "cell_type": "code",
      "source": [
        "df['Surgery_Group'].value_counts()"
      ],
      "metadata": {
        "colab": {
          "base_uri": "https://localhost:8080/",
          "height": 241
        },
        "id": "1Tp0vQ2XWsfv",
        "outputId": "683fb03e-158f-4367-edef-bc0a0d398403"
      },
      "execution_count": null,
      "outputs": [
        {
          "output_type": "execute_result",
          "data": {
            "text/plain": [
              "Surgery_Group\n",
              "1.0    186272\n",
              "2.0     93215\n",
              "0.0     27814\n",
              "3.0      1216\n",
              "Name: count, dtype: int64"
            ],
            "text/html": [
              "<div>\n",
              "<style scoped>\n",
              "    .dataframe tbody tr th:only-of-type {\n",
              "        vertical-align: middle;\n",
              "    }\n",
              "\n",
              "    .dataframe tbody tr th {\n",
              "        vertical-align: top;\n",
              "    }\n",
              "\n",
              "    .dataframe thead th {\n",
              "        text-align: right;\n",
              "    }\n",
              "</style>\n",
              "<table border=\"1\" class=\"dataframe\">\n",
              "  <thead>\n",
              "    <tr style=\"text-align: right;\">\n",
              "      <th></th>\n",
              "      <th>count</th>\n",
              "    </tr>\n",
              "    <tr>\n",
              "      <th>Surgery_Group</th>\n",
              "      <th></th>\n",
              "    </tr>\n",
              "  </thead>\n",
              "  <tbody>\n",
              "    <tr>\n",
              "      <th>1.0</th>\n",
              "      <td>186272</td>\n",
              "    </tr>\n",
              "    <tr>\n",
              "      <th>2.0</th>\n",
              "      <td>93215</td>\n",
              "    </tr>\n",
              "    <tr>\n",
              "      <th>0.0</th>\n",
              "      <td>27814</td>\n",
              "    </tr>\n",
              "    <tr>\n",
              "      <th>3.0</th>\n",
              "      <td>1216</td>\n",
              "    </tr>\n",
              "  </tbody>\n",
              "</table>\n",
              "</div><br><label><b>dtype:</b> int64</label>"
            ]
          },
          "metadata": {},
          "execution_count": 106
        }
      ]
    },
    {
      "cell_type": "markdown",
      "source": [
        "###Surgery Oth Reg/Dis [Yes=1, No=0]"
      ],
      "metadata": {
        "id": "ZVovZdfrq8kg"
      }
    },
    {
      "cell_type": "code",
      "source": [
        "df['Surgery Oth Reg/Dis'].value_counts()"
      ],
      "metadata": {
        "colab": {
          "base_uri": "https://localhost:8080/",
          "height": 335
        },
        "id": "GjTDR4osSmse",
        "outputId": "fd9ea356-6f93-4699-df73-704c1698297e"
      },
      "execution_count": null,
      "outputs": [
        {
          "output_type": "execute_result",
          "data": {
            "text/plain": [
              "Surgery Oth Reg/Dis\n",
              "0                                                               302036\n",
              "Non-primary surgical procedure performed                          2541\n",
              "Non-primary surgical procedure to other regional sites            1695\n",
              "Non-primary surgical procedure to distant site                    1581\n",
              "Non-primary surgical procedure to distant lymph node(s)            439\n",
              "Any combo of sur proc to oth rg, dis lym nd, and/or dis site       151\n",
              "Unknown; death certificate only                                     74\n",
              "Name: count, dtype: int64"
            ],
            "text/html": [
              "<div>\n",
              "<style scoped>\n",
              "    .dataframe tbody tr th:only-of-type {\n",
              "        vertical-align: middle;\n",
              "    }\n",
              "\n",
              "    .dataframe tbody tr th {\n",
              "        vertical-align: top;\n",
              "    }\n",
              "\n",
              "    .dataframe thead th {\n",
              "        text-align: right;\n",
              "    }\n",
              "</style>\n",
              "<table border=\"1\" class=\"dataframe\">\n",
              "  <thead>\n",
              "    <tr style=\"text-align: right;\">\n",
              "      <th></th>\n",
              "      <th>count</th>\n",
              "    </tr>\n",
              "    <tr>\n",
              "      <th>Surgery Oth Reg/Dis</th>\n",
              "      <th></th>\n",
              "    </tr>\n",
              "  </thead>\n",
              "  <tbody>\n",
              "    <tr>\n",
              "      <th>0</th>\n",
              "      <td>302036</td>\n",
              "    </tr>\n",
              "    <tr>\n",
              "      <th>Non-primary surgical procedure performed</th>\n",
              "      <td>2541</td>\n",
              "    </tr>\n",
              "    <tr>\n",
              "      <th>Non-primary surgical procedure to other regional sites</th>\n",
              "      <td>1695</td>\n",
              "    </tr>\n",
              "    <tr>\n",
              "      <th>Non-primary surgical procedure to distant site</th>\n",
              "      <td>1581</td>\n",
              "    </tr>\n",
              "    <tr>\n",
              "      <th>Non-primary surgical procedure to distant lymph node(s)</th>\n",
              "      <td>439</td>\n",
              "    </tr>\n",
              "    <tr>\n",
              "      <th>Any combo of sur proc to oth rg, dis lym nd, and/or dis site</th>\n",
              "      <td>151</td>\n",
              "    </tr>\n",
              "    <tr>\n",
              "      <th>Unknown; death certificate only</th>\n",
              "      <td>74</td>\n",
              "    </tr>\n",
              "  </tbody>\n",
              "</table>\n",
              "</div><br><label><b>dtype:</b> int64</label>"
            ]
          },
          "metadata": {},
          "execution_count": 107
        }
      ]
    },
    {
      "cell_type": "code",
      "source": [
        "df = df[df['Surgery Oth Reg/Dis'] != 'Unknown; death certificate only']\n",
        "# '9'이 포함된 값 무시 (실제 데이터에 '9'가 있으면 아래 라인 활성화)\n",
        "# df = df[~df['Surgery Oth Reg/Dis'].str.contains('9')]\n",
        "\n",
        "# 수술 그룹 분류 함수\n",
        "def surgery_other_group(value):\n",
        "    if value == '0' or value == 'None; diagnosed at autopsy':\n",
        "        return 0  # 수술 없음\n",
        "    elif value in [\n",
        "        'Non-primary surgical procedure performed',\n",
        "        'Non-primary surgical procedure to other regional sites',\n",
        "        'Non-primary surgical procedure to distant site',\n",
        "        'Non-primary surgical procedure to distant lymph node(s)',\n",
        "        'Any combo of sur proc to oth rg, dis lym nd, and/or dis site'\n",
        "        ]:\n",
        "        return 1  # 수술 있음 (2~6번 범주 모두 포함)\n",
        "    else:\n",
        "        return None  # 관심 없는 값(예: 9 등)\n",
        "\n",
        "df['Surgery_Reg_Group'] = df['Surgery Oth Reg/Dis'].apply(surgery_other_group)\n",
        "\n",
        "# None인 행 제거\n",
        "df = df[df['Surgery_Reg_Group'].notna()]\n"
      ],
      "metadata": {
        "id": "tKNAgMjIW40N"
      },
      "execution_count": null,
      "outputs": []
    },
    {
      "cell_type": "code",
      "source": [
        "print(df['Surgery_Reg_Group'].value_counts())"
      ],
      "metadata": {
        "colab": {
          "base_uri": "https://localhost:8080/"
        },
        "id": "MIu0mWiNe9Eo",
        "outputId": "8f84d815-631d-4ee8-e146-ede7150e0d19"
      },
      "execution_count": null,
      "outputs": [
        {
          "output_type": "stream",
          "name": "stdout",
          "text": [
            "Surgery_Reg_Group\n",
            "0    302036\n",
            "1      6407\n",
            "Name: count, dtype: int64\n"
          ]
        }
      ]
    },
    {
      "cell_type": "markdown",
      "source": [
        "### Radiation[Yes=1, No=0]"
      ],
      "metadata": {
        "id": "L6c_k-nbrmKQ"
      }
    },
    {
      "cell_type": "markdown",
      "source": [
        "###Chemotherapy[Yes=1, No=0]"
      ],
      "metadata": {
        "id": "yMGvNG1Nro4w"
      }
    },
    {
      "cell_type": "code",
      "source": [
        "df['Chemotherapy'].value_counts()"
      ],
      "metadata": {
        "colab": {
          "base_uri": "https://localhost:8080/",
          "height": 178
        },
        "id": "0M7IIRWKYlPB",
        "outputId": "50ff1725-e89c-4055-c018-9491d8ddea95"
      },
      "execution_count": null,
      "outputs": [
        {
          "output_type": "execute_result",
          "data": {
            "text/plain": [
              "Chemotherapy\n",
              "No/Unknown    196408\n",
              "Yes           112035\n",
              "Name: count, dtype: int64"
            ],
            "text/html": [
              "<div>\n",
              "<style scoped>\n",
              "    .dataframe tbody tr th:only-of-type {\n",
              "        vertical-align: middle;\n",
              "    }\n",
              "\n",
              "    .dataframe tbody tr th {\n",
              "        vertical-align: top;\n",
              "    }\n",
              "\n",
              "    .dataframe thead th {\n",
              "        text-align: right;\n",
              "    }\n",
              "</style>\n",
              "<table border=\"1\" class=\"dataframe\">\n",
              "  <thead>\n",
              "    <tr style=\"text-align: right;\">\n",
              "      <th></th>\n",
              "      <th>count</th>\n",
              "    </tr>\n",
              "    <tr>\n",
              "      <th>Chemotherapy</th>\n",
              "      <th></th>\n",
              "    </tr>\n",
              "  </thead>\n",
              "  <tbody>\n",
              "    <tr>\n",
              "      <th>No/Unknown</th>\n",
              "      <td>196408</td>\n",
              "    </tr>\n",
              "    <tr>\n",
              "      <th>Yes</th>\n",
              "      <td>112035</td>\n",
              "    </tr>\n",
              "  </tbody>\n",
              "</table>\n",
              "</div><br><label><b>dtype:</b> int64</label>"
            ]
          },
          "metadata": {},
          "execution_count": 109
        }
      ]
    },
    {
      "cell_type": "code",
      "source": [
        "def chemo_binary(value):\n",
        "    if value == 'No/Unknown':\n",
        "        return 0\n",
        "    elif value == 'Yes':\n",
        "        return 1\n",
        "    else:\n",
        "        return None  # 혹시 다른 값은 None 처리\n",
        "\n",
        "df['Chemo_Binary'] = df['Chemotherapy'].apply(chemo_binary)\n",
        "\n",
        "print(df['Chemo_Binary'].value_counts())"
      ],
      "metadata": {
        "colab": {
          "base_uri": "https://localhost:8080/"
        },
        "id": "ChUPZkshYslB",
        "outputId": "7ad81afd-61e8-4f0a-ad70-1485c6047d46"
      },
      "execution_count": null,
      "outputs": [
        {
          "output_type": "stream",
          "name": "stdout",
          "text": [
            "Chemo_Binary\n",
            "0    196408\n",
            "1    112035\n",
            "Name: count, dtype: int64\n"
          ]
        }
      ]
    },
    {
      "cell_type": "markdown",
      "source": [
        "##Cancer treatment delay(연속형 그대로 사용)\n",
        "\n"
      ],
      "metadata": {
        "id": "3NJUF0SerrMg"
      }
    },
    {
      "cell_type": "code",
      "source": [
        "df['cancer treatment delay'].value_counts()"
      ],
      "metadata": {
        "colab": {
          "base_uri": "https://localhost:8080/",
          "height": 490
        },
        "id": "bGTcp2zAXja0",
        "outputId": "e8b2f986-8300-410d-e7c5-0b8702bfb265"
      },
      "execution_count": null,
      "outputs": [
        {
          "output_type": "execute_result",
          "data": {
            "text/plain": [
              "cancer treatment delay\n",
              "0                      23461\n",
              "Unable to calculate     9186\n",
              "28                      7886\n",
              "35                      7662\n",
              "27                      6640\n",
              "                       ...  \n",
              "490                        1\n",
              "533                        1\n",
              "675                        1\n",
              "528                        1\n",
              "471                        1\n",
              "Name: count, Length: 519, dtype: int64"
            ],
            "text/html": [
              "<div>\n",
              "<style scoped>\n",
              "    .dataframe tbody tr th:only-of-type {\n",
              "        vertical-align: middle;\n",
              "    }\n",
              "\n",
              "    .dataframe tbody tr th {\n",
              "        vertical-align: top;\n",
              "    }\n",
              "\n",
              "    .dataframe thead th {\n",
              "        text-align: right;\n",
              "    }\n",
              "</style>\n",
              "<table border=\"1\" class=\"dataframe\">\n",
              "  <thead>\n",
              "    <tr style=\"text-align: right;\">\n",
              "      <th></th>\n",
              "      <th>count</th>\n",
              "    </tr>\n",
              "    <tr>\n",
              "      <th>cancer treatment delay</th>\n",
              "      <th></th>\n",
              "    </tr>\n",
              "  </thead>\n",
              "  <tbody>\n",
              "    <tr>\n",
              "      <th>0</th>\n",
              "      <td>23461</td>\n",
              "    </tr>\n",
              "    <tr>\n",
              "      <th>Unable to calculate</th>\n",
              "      <td>9186</td>\n",
              "    </tr>\n",
              "    <tr>\n",
              "      <th>28</th>\n",
              "      <td>7886</td>\n",
              "    </tr>\n",
              "    <tr>\n",
              "      <th>35</th>\n",
              "      <td>7662</td>\n",
              "    </tr>\n",
              "    <tr>\n",
              "      <th>27</th>\n",
              "      <td>6640</td>\n",
              "    </tr>\n",
              "    <tr>\n",
              "      <th>...</th>\n",
              "      <td>...</td>\n",
              "    </tr>\n",
              "    <tr>\n",
              "      <th>490</th>\n",
              "      <td>1</td>\n",
              "    </tr>\n",
              "    <tr>\n",
              "      <th>533</th>\n",
              "      <td>1</td>\n",
              "    </tr>\n",
              "    <tr>\n",
              "      <th>675</th>\n",
              "      <td>1</td>\n",
              "    </tr>\n",
              "    <tr>\n",
              "      <th>528</th>\n",
              "      <td>1</td>\n",
              "    </tr>\n",
              "    <tr>\n",
              "      <th>471</th>\n",
              "      <td>1</td>\n",
              "    </tr>\n",
              "  </tbody>\n",
              "</table>\n",
              "<p>519 rows × 1 columns</p>\n",
              "</div><br><label><b>dtype:</b> int64</label>"
            ]
          },
          "metadata": {},
          "execution_count": 82
        }
      ]
    },
    {
      "cell_type": "markdown",
      "source": [
        "##EOD"
      ],
      "metadata": {
        "id": "RHc6U_6lruww"
      }
    },
    {
      "cell_type": "markdown",
      "source": [
        "###Mets at Bone [Yes=1, No=0]"
      ],
      "metadata": {
        "id": "wFsT4vlzr3yg"
      }
    },
    {
      "cell_type": "code",
      "source": [
        "df['Mets at bone'].value_counts()"
      ],
      "metadata": {
        "colab": {
          "base_uri": "https://localhost:8080/",
          "height": 210
        },
        "id": "6orRdjLZZ6A-",
        "outputId": "d8593030-a121-46b0-a611-0d34ab457015"
      },
      "execution_count": null,
      "outputs": [
        {
          "output_type": "execute_result",
          "data": {
            "text/plain": [
              "Mets at bone\n",
              "No         288692\n",
              "Yes         10451\n",
              "Unknown        79\n",
              "Name: count, dtype: int64"
            ],
            "text/html": [
              "<div>\n",
              "<style scoped>\n",
              "    .dataframe tbody tr th:only-of-type {\n",
              "        vertical-align: middle;\n",
              "    }\n",
              "\n",
              "    .dataframe tbody tr th {\n",
              "        vertical-align: top;\n",
              "    }\n",
              "\n",
              "    .dataframe thead th {\n",
              "        text-align: right;\n",
              "    }\n",
              "</style>\n",
              "<table border=\"1\" class=\"dataframe\">\n",
              "  <thead>\n",
              "    <tr style=\"text-align: right;\">\n",
              "      <th></th>\n",
              "      <th>count</th>\n",
              "    </tr>\n",
              "    <tr>\n",
              "      <th>Mets at bone</th>\n",
              "      <th></th>\n",
              "    </tr>\n",
              "  </thead>\n",
              "  <tbody>\n",
              "    <tr>\n",
              "      <th>No</th>\n",
              "      <td>288692</td>\n",
              "    </tr>\n",
              "    <tr>\n",
              "      <th>Yes</th>\n",
              "      <td>10451</td>\n",
              "    </tr>\n",
              "    <tr>\n",
              "      <th>Unknown</th>\n",
              "      <td>79</td>\n",
              "    </tr>\n",
              "  </tbody>\n",
              "</table>\n",
              "</div><br><label><b>dtype:</b> int64</label>"
            ]
          },
          "metadata": {},
          "execution_count": 84
        }
      ]
    },
    {
      "cell_type": "code",
      "source": [
        "def chemo_binary(value):\n",
        "    if value == 'No':\n",
        "        return 0\n",
        "    elif value == 'Yes':\n",
        "        return 1\n",
        "    else:\n",
        "        return None  # 혹시 다른 값은 None 처리\n",
        "\n",
        "df['Mets_bone'] = df['Mets at bone'].apply(chemo_binary)\n",
        "df = df[df['Mets_bone'].notna()]\n",
        "print(df['Mets_bone'].value_counts())"
      ],
      "metadata": {
        "colab": {
          "base_uri": "https://localhost:8080/"
        },
        "id": "_UdUY3yOa-3z",
        "outputId": "7967029d-ad62-4021-bff7-00620bc9bf08"
      },
      "execution_count": null,
      "outputs": [
        {
          "output_type": "stream",
          "name": "stdout",
          "text": [
            "Mets_bone\n",
            "0.0    288692\n",
            "1.0     10451\n",
            "Name: count, dtype: int64\n"
          ]
        }
      ]
    },
    {
      "cell_type": "markdown",
      "source": [
        "###Mets at Brain [Yes=1, No=0]"
      ],
      "metadata": {
        "id": "yIwBZKCJr5mw"
      }
    },
    {
      "cell_type": "code",
      "source": [
        "df['Mets at brain'].value_counts()"
      ],
      "metadata": {
        "colab": {
          "base_uri": "https://localhost:8080/",
          "height": 210
        },
        "id": "i3snZD1lZ6dv",
        "outputId": "7ecb6926-3e1f-4fd9-f2dd-f1a65a92d5d6"
      },
      "execution_count": null,
      "outputs": [
        {
          "output_type": "execute_result",
          "data": {
            "text/plain": [
              "Mets at brain\n",
              "No         297914\n",
              "Yes          1103\n",
              "Unknown       126\n",
              "Name: count, dtype: int64"
            ],
            "text/html": [
              "<div>\n",
              "<style scoped>\n",
              "    .dataframe tbody tr th:only-of-type {\n",
              "        vertical-align: middle;\n",
              "    }\n",
              "\n",
              "    .dataframe tbody tr th {\n",
              "        vertical-align: top;\n",
              "    }\n",
              "\n",
              "    .dataframe thead th {\n",
              "        text-align: right;\n",
              "    }\n",
              "</style>\n",
              "<table border=\"1\" class=\"dataframe\">\n",
              "  <thead>\n",
              "    <tr style=\"text-align: right;\">\n",
              "      <th></th>\n",
              "      <th>count</th>\n",
              "    </tr>\n",
              "    <tr>\n",
              "      <th>Mets at brain</th>\n",
              "      <th></th>\n",
              "    </tr>\n",
              "  </thead>\n",
              "  <tbody>\n",
              "    <tr>\n",
              "      <th>No</th>\n",
              "      <td>297914</td>\n",
              "    </tr>\n",
              "    <tr>\n",
              "      <th>Yes</th>\n",
              "      <td>1103</td>\n",
              "    </tr>\n",
              "    <tr>\n",
              "      <th>Unknown</th>\n",
              "      <td>126</td>\n",
              "    </tr>\n",
              "  </tbody>\n",
              "</table>\n",
              "</div><br><label><b>dtype:</b> int64</label>"
            ]
          },
          "metadata": {},
          "execution_count": 86
        }
      ]
    },
    {
      "cell_type": "code",
      "source": [
        "def chemo_binary(value):\n",
        "    if value == 'No':\n",
        "        return 0\n",
        "    elif value == 'Yes':\n",
        "        return 1\n",
        "    else:\n",
        "        return None  # 혹시 다른 값은 None 처리\n",
        "\n",
        "df['Mets_brain'] = df['Mets at brain'].apply(chemo_binary)\n",
        "df = df[df['Mets_brain'].notna()]\n",
        "print(df['Mets_brain'].value_counts())"
      ],
      "metadata": {
        "colab": {
          "base_uri": "https://localhost:8080/"
        },
        "id": "LcsasxmcbW7G",
        "outputId": "db28c826-af3e-4e39-d719-11f5b927a75f"
      },
      "execution_count": null,
      "outputs": [
        {
          "output_type": "stream",
          "name": "stdout",
          "text": [
            "Mets_brain\n",
            "0.0    297914\n",
            "1.0      1103\n",
            "Name: count, dtype: int64\n"
          ]
        }
      ]
    },
    {
      "cell_type": "markdown",
      "source": [
        "###Mets at Liver [Yes=1, No=0]"
      ],
      "metadata": {
        "id": "qZ76rfsWr7YI"
      }
    },
    {
      "cell_type": "code",
      "source": [
        "df['Mets at liver'].value_counts()"
      ],
      "metadata": {
        "colab": {
          "base_uri": "https://localhost:8080/",
          "height": 210
        },
        "id": "MXYsMD1rZ6zO",
        "outputId": "2d8e332e-1843-4618-af5e-6e306af47151"
      },
      "execution_count": null,
      "outputs": [
        {
          "output_type": "execute_result",
          "data": {
            "text/plain": [
              "Mets at liver\n",
              "No         295442\n",
              "Yes          3513\n",
              "Unknown        62\n",
              "Name: count, dtype: int64"
            ],
            "text/html": [
              "<div>\n",
              "<style scoped>\n",
              "    .dataframe tbody tr th:only-of-type {\n",
              "        vertical-align: middle;\n",
              "    }\n",
              "\n",
              "    .dataframe tbody tr th {\n",
              "        vertical-align: top;\n",
              "    }\n",
              "\n",
              "    .dataframe thead th {\n",
              "        text-align: right;\n",
              "    }\n",
              "</style>\n",
              "<table border=\"1\" class=\"dataframe\">\n",
              "  <thead>\n",
              "    <tr style=\"text-align: right;\">\n",
              "      <th></th>\n",
              "      <th>count</th>\n",
              "    </tr>\n",
              "    <tr>\n",
              "      <th>Mets at liver</th>\n",
              "      <th></th>\n",
              "    </tr>\n",
              "  </thead>\n",
              "  <tbody>\n",
              "    <tr>\n",
              "      <th>No</th>\n",
              "      <td>295442</td>\n",
              "    </tr>\n",
              "    <tr>\n",
              "      <th>Yes</th>\n",
              "      <td>3513</td>\n",
              "    </tr>\n",
              "    <tr>\n",
              "      <th>Unknown</th>\n",
              "      <td>62</td>\n",
              "    </tr>\n",
              "  </tbody>\n",
              "</table>\n",
              "</div><br><label><b>dtype:</b> int64</label>"
            ]
          },
          "metadata": {},
          "execution_count": 88
        }
      ]
    },
    {
      "cell_type": "code",
      "source": [
        "def chemo_binary(value):\n",
        "    if value == 'No':\n",
        "        return 0\n",
        "    elif value == 'Yes':\n",
        "        return 1\n",
        "    else:\n",
        "        return None  # 혹시 다른 값은 None 처리\n",
        "\n",
        "df['Mets_liver'] = df['Mets at liver'].apply(chemo_binary)\n",
        "df = df[df['Mets_liver'].notna()]\n",
        "print(df['Mets_liver'].value_counts())"
      ],
      "metadata": {
        "colab": {
          "base_uri": "https://localhost:8080/"
        },
        "id": "2W9wpNL-bXqf",
        "outputId": "74aa4ee3-5953-41ac-a2a7-e9f220817670"
      },
      "execution_count": null,
      "outputs": [
        {
          "output_type": "stream",
          "name": "stdout",
          "text": [
            "Mets_liver\n",
            "0.0    295442\n",
            "1.0      3513\n",
            "Name: count, dtype: int64\n"
          ]
        }
      ]
    },
    {
      "cell_type": "markdown",
      "source": [
        "###Mets at Lung [Yes=1, No=0]"
      ],
      "metadata": {
        "id": "e6GBo3uNsAEw"
      }
    },
    {
      "cell_type": "code",
      "source": [
        "df['Mets at lung'].value_counts()"
      ],
      "metadata": {
        "colab": {
          "base_uri": "https://localhost:8080/",
          "height": 210
        },
        "id": "Ku2pjn4pZ7G2",
        "outputId": "656c0805-4954-423d-e350-3def76890228"
      },
      "execution_count": null,
      "outputs": [
        {
          "output_type": "execute_result",
          "data": {
            "text/plain": [
              "Mets at lung\n",
              "No         294512\n",
              "Yes          4337\n",
              "Unknown       106\n",
              "Name: count, dtype: int64"
            ],
            "text/html": [
              "<div>\n",
              "<style scoped>\n",
              "    .dataframe tbody tr th:only-of-type {\n",
              "        vertical-align: middle;\n",
              "    }\n",
              "\n",
              "    .dataframe tbody tr th {\n",
              "        vertical-align: top;\n",
              "    }\n",
              "\n",
              "    .dataframe thead th {\n",
              "        text-align: right;\n",
              "    }\n",
              "</style>\n",
              "<table border=\"1\" class=\"dataframe\">\n",
              "  <thead>\n",
              "    <tr style=\"text-align: right;\">\n",
              "      <th></th>\n",
              "      <th>count</th>\n",
              "    </tr>\n",
              "    <tr>\n",
              "      <th>Mets at lung</th>\n",
              "      <th></th>\n",
              "    </tr>\n",
              "  </thead>\n",
              "  <tbody>\n",
              "    <tr>\n",
              "      <th>No</th>\n",
              "      <td>294512</td>\n",
              "    </tr>\n",
              "    <tr>\n",
              "      <th>Yes</th>\n",
              "      <td>4337</td>\n",
              "    </tr>\n",
              "    <tr>\n",
              "      <th>Unknown</th>\n",
              "      <td>106</td>\n",
              "    </tr>\n",
              "  </tbody>\n",
              "</table>\n",
              "</div><br><label><b>dtype:</b> int64</label>"
            ]
          },
          "metadata": {},
          "execution_count": 90
        }
      ]
    },
    {
      "cell_type": "code",
      "source": [
        "def chemo_binary(value):\n",
        "    if value == 'No':\n",
        "        return 0\n",
        "    elif value == 'Yes':\n",
        "        return 1\n",
        "    else:\n",
        "        return None  # 혹시 다른 값은 None 처리\n",
        "\n",
        "df['Mets_lung'] = df['Mets at lung'].apply(chemo_binary)\n",
        "df = df[df['Mets_lung'].notna()]\n",
        "print(df['Mets_lung'].value_counts())"
      ],
      "metadata": {
        "colab": {
          "base_uri": "https://localhost:8080/"
        },
        "id": "iqTDTygCbYfv",
        "outputId": "a39f997e-1804-4a63-9f89-ee0a9c415881"
      },
      "execution_count": null,
      "outputs": [
        {
          "output_type": "stream",
          "name": "stdout",
          "text": [
            "Mets_lung\n",
            "0.0    294512\n",
            "1.0      4337\n",
            "Name: count, dtype: int64\n"
          ]
        }
      ]
    },
    {
      "cell_type": "markdown",
      "source": [
        "#ER,PR,HER(pos=1,neg=0)"
      ],
      "metadata": {
        "id": "Vh39EzO5ZmHH"
      }
    },
    {
      "cell_type": "markdown",
      "source": [
        "##ER"
      ],
      "metadata": {
        "id": "bC-2Gu0asCUp"
      }
    },
    {
      "cell_type": "code",
      "source": [
        "df['ER'].value_counts()"
      ],
      "metadata": {
        "colab": {
          "base_uri": "https://localhost:8080/",
          "height": 178
        },
        "outputId": "e51eff12-9342-4fd1-f3cc-1d0bde3c2a32",
        "id": "j5ZhEaJ0M00v"
      },
      "execution_count": null,
      "outputs": [
        {
          "output_type": "execute_result",
          "data": {
            "text/plain": [
              "ER\n",
              "Positive    254763\n",
              "Negative     44086\n",
              "Name: count, dtype: int64"
            ],
            "text/html": [
              "<div>\n",
              "<style scoped>\n",
              "    .dataframe tbody tr th:only-of-type {\n",
              "        vertical-align: middle;\n",
              "    }\n",
              "\n",
              "    .dataframe tbody tr th {\n",
              "        vertical-align: top;\n",
              "    }\n",
              "\n",
              "    .dataframe thead th {\n",
              "        text-align: right;\n",
              "    }\n",
              "</style>\n",
              "<table border=\"1\" class=\"dataframe\">\n",
              "  <thead>\n",
              "    <tr style=\"text-align: right;\">\n",
              "      <th></th>\n",
              "      <th>count</th>\n",
              "    </tr>\n",
              "    <tr>\n",
              "      <th>ER</th>\n",
              "      <th></th>\n",
              "    </tr>\n",
              "  </thead>\n",
              "  <tbody>\n",
              "    <tr>\n",
              "      <th>Positive</th>\n",
              "      <td>254763</td>\n",
              "    </tr>\n",
              "    <tr>\n",
              "      <th>Negative</th>\n",
              "      <td>44086</td>\n",
              "    </tr>\n",
              "  </tbody>\n",
              "</table>\n",
              "</div><br><label><b>dtype:</b> int64</label>"
            ]
          },
          "metadata": {},
          "execution_count": 92
        }
      ]
    },
    {
      "cell_type": "code",
      "source": [
        "df['ER'] = df['ER'].map({'Positive': 1, 'Negative': 0})"
      ],
      "metadata": {
        "id": "LuloTpxSd5eb"
      },
      "execution_count": null,
      "outputs": []
    },
    {
      "cell_type": "code",
      "source": [
        "print(df['ER'].value_counts())"
      ],
      "metadata": {
        "outputId": "8cc09d82-4bb4-423c-c40e-1262ca3b023c",
        "colab": {
          "base_uri": "https://localhost:8080/"
        },
        "id": "RF-6jvD2d5eb"
      },
      "execution_count": null,
      "outputs": [
        {
          "output_type": "stream",
          "name": "stdout",
          "text": [
            "ER\n",
            "1    254763\n",
            "0     44086\n",
            "Name: count, dtype: int64\n"
          ]
        }
      ]
    },
    {
      "cell_type": "markdown",
      "source": [
        "##PR"
      ],
      "metadata": {
        "id": "spVfKiLhsN6h"
      }
    },
    {
      "cell_type": "code",
      "source": [
        "df['PR'].value_counts()"
      ],
      "metadata": {
        "colab": {
          "base_uri": "https://localhost:8080/",
          "height": 178
        },
        "outputId": "9b4b6abf-7bd8-4f21-953a-03d0aaf4cd51",
        "id": "5lNc-gbINCsl"
      },
      "execution_count": null,
      "outputs": [
        {
          "output_type": "execute_result",
          "data": {
            "text/plain": [
              "PR\n",
              "Positive    222912\n",
              "Negative     75937\n",
              "Name: count, dtype: int64"
            ],
            "text/html": [
              "<div>\n",
              "<style scoped>\n",
              "    .dataframe tbody tr th:only-of-type {\n",
              "        vertical-align: middle;\n",
              "    }\n",
              "\n",
              "    .dataframe tbody tr th {\n",
              "        vertical-align: top;\n",
              "    }\n",
              "\n",
              "    .dataframe thead th {\n",
              "        text-align: right;\n",
              "    }\n",
              "</style>\n",
              "<table border=\"1\" class=\"dataframe\">\n",
              "  <thead>\n",
              "    <tr style=\"text-align: right;\">\n",
              "      <th></th>\n",
              "      <th>count</th>\n",
              "    </tr>\n",
              "    <tr>\n",
              "      <th>PR</th>\n",
              "      <th></th>\n",
              "    </tr>\n",
              "  </thead>\n",
              "  <tbody>\n",
              "    <tr>\n",
              "      <th>Positive</th>\n",
              "      <td>222912</td>\n",
              "    </tr>\n",
              "    <tr>\n",
              "      <th>Negative</th>\n",
              "      <td>75937</td>\n",
              "    </tr>\n",
              "  </tbody>\n",
              "</table>\n",
              "</div><br><label><b>dtype:</b> int64</label>"
            ]
          },
          "metadata": {},
          "execution_count": 95
        }
      ]
    },
    {
      "cell_type": "code",
      "source": [
        "df['PR'] = df['PR'].map({'Positive': 1, 'Negative': 0})"
      ],
      "metadata": {
        "id": "FPE5COzdNCsl"
      },
      "execution_count": null,
      "outputs": []
    },
    {
      "cell_type": "code",
      "source": [
        "print(df['PR'].value_counts())"
      ],
      "metadata": {
        "outputId": "0cc000d9-a68f-4996-d2eb-d1034dfc25e5",
        "colab": {
          "base_uri": "https://localhost:8080/"
        },
        "id": "_mr15ueeNCsl"
      },
      "execution_count": null,
      "outputs": [
        {
          "output_type": "stream",
          "name": "stdout",
          "text": [
            "PR\n",
            "1    222912\n",
            "0     75937\n",
            "Name: count, dtype: int64\n"
          ]
        }
      ]
    },
    {
      "cell_type": "markdown",
      "source": [
        "##HER2"
      ],
      "metadata": {
        "id": "_fo0eNIhsPzh"
      }
    },
    {
      "cell_type": "code",
      "source": [
        "df['HER2'].value_counts()"
      ],
      "metadata": {
        "colab": {
          "base_uri": "https://localhost:8080/",
          "height": 178
        },
        "outputId": "5c7dba87-caaf-44cb-9200-84c9313d4a63",
        "id": "gvQl8SANNE1t"
      },
      "execution_count": null,
      "outputs": [
        {
          "output_type": "execute_result",
          "data": {
            "text/plain": [
              "HER2\n",
              "Negative    259710\n",
              "Positive     39139\n",
              "Name: count, dtype: int64"
            ],
            "text/html": [
              "<div>\n",
              "<style scoped>\n",
              "    .dataframe tbody tr th:only-of-type {\n",
              "        vertical-align: middle;\n",
              "    }\n",
              "\n",
              "    .dataframe tbody tr th {\n",
              "        vertical-align: top;\n",
              "    }\n",
              "\n",
              "    .dataframe thead th {\n",
              "        text-align: right;\n",
              "    }\n",
              "</style>\n",
              "<table border=\"1\" class=\"dataframe\">\n",
              "  <thead>\n",
              "    <tr style=\"text-align: right;\">\n",
              "      <th></th>\n",
              "      <th>count</th>\n",
              "    </tr>\n",
              "    <tr>\n",
              "      <th>HER2</th>\n",
              "      <th></th>\n",
              "    </tr>\n",
              "  </thead>\n",
              "  <tbody>\n",
              "    <tr>\n",
              "      <th>Negative</th>\n",
              "      <td>259710</td>\n",
              "    </tr>\n",
              "    <tr>\n",
              "      <th>Positive</th>\n",
              "      <td>39139</td>\n",
              "    </tr>\n",
              "  </tbody>\n",
              "</table>\n",
              "</div><br><label><b>dtype:</b> int64</label>"
            ]
          },
          "metadata": {},
          "execution_count": 98
        }
      ]
    },
    {
      "cell_type": "code",
      "source": [
        "df['HER2'] = df['HER2'].map({'Positive': 1, 'Negative': 0})"
      ],
      "metadata": {
        "id": "0TT2-AKUNE1u"
      },
      "execution_count": null,
      "outputs": []
    },
    {
      "cell_type": "code",
      "source": [
        "print(df['HER2'].value_counts())"
      ],
      "metadata": {
        "outputId": "d154591e-5c54-40ef-ed21-215f18cf1fac",
        "colab": {
          "base_uri": "https://localhost:8080/"
        },
        "id": "PAbrZ7ylNE1u"
      },
      "execution_count": null,
      "outputs": [
        {
          "output_type": "stream",
          "name": "stdout",
          "text": [
            "HER2\n",
            "0    259710\n",
            "1     39139\n",
            "Name: count, dtype: int64\n"
          ]
        }
      ]
    },
    {
      "cell_type": "markdown",
      "source": [
        "#Survival months(수치형)"
      ],
      "metadata": {
        "id": "xtvcF6H7sRiC"
      }
    },
    {
      "cell_type": "markdown",
      "source": [
        "#Sequence number"
      ],
      "metadata": {
        "id": "L7gdrFAKsTqp"
      }
    },
    {
      "cell_type": "markdown",
      "source": [
        "### First VS Later[first=1,else=0]"
      ],
      "metadata": {
        "id": "Ll9kl9its3Zb"
      }
    },
    {
      "cell_type": "code",
      "source": [
        "df['Sequence number'].value_counts()"
      ],
      "metadata": {
        "colab": {
          "base_uri": "https://localhost:8080/",
          "height": 304
        },
        "id": "aXJne4uVN8pU",
        "outputId": "eb1bec03-f248-4ab5-dd10-cc8c014e47eb"
      },
      "execution_count": null,
      "outputs": [
        {
          "output_type": "execute_result",
          "data": {
            "text/plain": [
              "Sequence number\n",
              "One primary only              221319\n",
              "2nd of 2 or more primaries     47929\n",
              "1st of 2 or more primaries     19835\n",
              "3rd of 3 or more primaries      8478\n",
              "4th of 4 or more primaries      1389\n",
              "5th of 5 or more primaries       272\n",
              "Name: count, dtype: int64"
            ],
            "text/html": [
              "<div>\n",
              "<style scoped>\n",
              "    .dataframe tbody tr th:only-of-type {\n",
              "        vertical-align: middle;\n",
              "    }\n",
              "\n",
              "    .dataframe tbody tr th {\n",
              "        vertical-align: top;\n",
              "    }\n",
              "\n",
              "    .dataframe thead th {\n",
              "        text-align: right;\n",
              "    }\n",
              "</style>\n",
              "<table border=\"1\" class=\"dataframe\">\n",
              "  <thead>\n",
              "    <tr style=\"text-align: right;\">\n",
              "      <th></th>\n",
              "      <th>count</th>\n",
              "    </tr>\n",
              "    <tr>\n",
              "      <th>Sequence number</th>\n",
              "      <th></th>\n",
              "    </tr>\n",
              "  </thead>\n",
              "  <tbody>\n",
              "    <tr>\n",
              "      <th>One primary only</th>\n",
              "      <td>221319</td>\n",
              "    </tr>\n",
              "    <tr>\n",
              "      <th>2nd of 2 or more primaries</th>\n",
              "      <td>47929</td>\n",
              "    </tr>\n",
              "    <tr>\n",
              "      <th>1st of 2 or more primaries</th>\n",
              "      <td>19835</td>\n",
              "    </tr>\n",
              "    <tr>\n",
              "      <th>3rd of 3 or more primaries</th>\n",
              "      <td>8478</td>\n",
              "    </tr>\n",
              "    <tr>\n",
              "      <th>4th of 4 or more primaries</th>\n",
              "      <td>1389</td>\n",
              "    </tr>\n",
              "    <tr>\n",
              "      <th>5th of 5 or more primaries</th>\n",
              "      <td>272</td>\n",
              "    </tr>\n",
              "  </tbody>\n",
              "</table>\n",
              "</div><br><label><b>dtype:</b> int64</label>"
            ]
          },
          "metadata": {},
          "execution_count": 121
        }
      ]
    },
    {
      "cell_type": "code",
      "source": [
        "def first_vs_later(value):\n",
        "    if value == 'One primary only':\n",
        "        return None  # 제외\n",
        "    elif value == '1st of 2 or more primaries':\n",
        "        return 1\n",
        "    else:\n",
        "        return 0\n",
        "\n",
        "# 적용\n",
        "df['First_vs_Later'] = df['Sequence number'].apply(first_vs_later)\n",
        "\n",
        "# None인 행 삭제\n",
        "df = df[df['First_vs_Later'].notna()]\n",
        "print(df[\"First_vs_Later\"].value_counts())"
      ],
      "metadata": {
        "colab": {
          "base_uri": "https://localhost:8080/"
        },
        "id": "2SuolKYyOuY8",
        "outputId": "dabf9889-f22b-4383-e974-355aa2c89cf3"
      },
      "execution_count": null,
      "outputs": [
        {
          "output_type": "stream",
          "name": "stdout",
          "text": [
            "First_vs_Later\n",
            "0.0    58068\n",
            "1.0    19835\n",
            "Name: count, dtype: int64\n"
          ]
        }
      ]
    },
    {
      "cell_type": "markdown",
      "source": [
        "### One VS Other[one=1,other=0]"
      ],
      "metadata": {
        "id": "ke9dOkucs-ni"
      }
    },
    {
      "cell_type": "code",
      "source": [
        "df[\"One_vs_Other\"] = df[\"Sequence number\"].apply(\n",
        "    lambda x: 1 if x == \"One primary only\" else 0\n",
        ")\n",
        "print(df[\"One_vs_Other\"].value_counts())"
      ],
      "metadata": {
        "id": "sdt0TWcuKjEd",
        "colab": {
          "base_uri": "https://localhost:8080/"
        },
        "outputId": "0fdd0e8d-64aa-4964-e9c0-7b56660e3ae0"
      },
      "execution_count": null,
      "outputs": [
        {
          "output_type": "stream",
          "name": "stdout",
          "text": [
            "One_vs_Other\n",
            "1    221319\n",
            "0     77903\n",
            "Name: count, dtype: int64\n"
          ]
        }
      ]
    }
  ]
}